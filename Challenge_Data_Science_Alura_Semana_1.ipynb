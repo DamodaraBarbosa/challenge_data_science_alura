{
  "nbformat": 4,
  "nbformat_minor": 0,
  "metadata": {
    "colab": {
      "provenance": [],
      "mount_file_id": "1W8BpUosykE6GUJ5B10YkFsmeoBbkKXdq",
      "authorship_tag": "ABX9TyMcsREkUpiIjga7aSbNsqDr",
      "include_colab_link": true
    },
    "kernelspec": {
      "name": "python3",
      "display_name": "Python 3"
    },
    "language_info": {
      "name": "python"
    }
  },
  "cells": [
    {
      "cell_type": "markdown",
      "metadata": {
        "id": "view-in-github",
        "colab_type": "text"
      },
      "source": [
        "<a href=\"https://colab.research.google.com/github/DamodaraBarbosa/challenge_data_science_alura_week_1/blob/main/Challenge_Data_Science_Alura_Semana_1.ipynb\" target=\"_parent\"><img src=\"https://colab.research.google.com/assets/colab-badge.svg\" alt=\"Open In Colab\"/></a>"
      ]
    },
    {
      "cell_type": "markdown",
      "source": [
        "Instalando dependências do Spark"
      ],
      "metadata": {
        "id": "bHbD2QLTGbPC"
      }
    },
    {
      "cell_type": "code",
      "execution_count": 1,
      "metadata": {
        "id": "Idtn9FJWGW5r"
      },
      "outputs": [],
      "source": [
        "!apt-get update -qq\n",
        "!apt-get install openjdk-8-jdk-headless -qq > /dev/null\n",
        "!wget -q https://archive.apache.org/dist/spark/spark-3.1.2/spark-3.1.2-bin-hadoop2.7.tgz\n",
        "!tar xf spark-3.1.2-bin-hadoop2.7.tgz\n",
        "!pip install -q findspark"
      ]
    },
    {
      "cell_type": "markdown",
      "source": [
        "Importando OS"
      ],
      "metadata": {
        "id": "KlSNq65-GkK7"
      }
    },
    {
      "cell_type": "code",
      "source": [
        "import os\n",
        "os.environ[\"JAVA_HOME\"] = \"/usr/lib/jvm/java-8-openjdk-amd64\"\n",
        "os.environ[\"SPARK_HOME\"] = \"/content/spark-3.1.2-bin-hadoop2.7\""
      ],
      "metadata": {
        "id": "c3m_2mCmGlL5"
      },
      "execution_count": 2,
      "outputs": []
    },
    {
      "cell_type": "code",
      "source": [
        "import findspark\n",
        "findspark.init()"
      ],
      "metadata": {
        "id": "1Ud5W-9RGoJB"
      },
      "execution_count": 3,
      "outputs": []
    },
    {
      "cell_type": "markdown",
      "source": [
        "Importando o SparkSession"
      ],
      "metadata": {
        "id": "zDe_CGmgKSI0"
      }
    },
    {
      "cell_type": "code",
      "source": [
        "from pyspark.sql import SparkSession\n",
        "\n",
        "spark = SparkSession.builder \\\n",
        "    .master('local[*]') \\\n",
        "    .appName(\"Iniciando com Spark\") \\\n",
        "    .getOrCreate()"
      ],
      "metadata": {
        "id": "DsmGT4erGv0a"
      },
      "execution_count": 4,
      "outputs": []
    },
    {
      "cell_type": "code",
      "source": [
        "spark"
      ],
      "metadata": {
        "colab": {
          "base_uri": "https://localhost:8080/",
          "height": 219
        },
        "id": "Iwn6eOGuKXBU",
        "outputId": "7de7d357-466e-49c4-e52a-ca123a19fd7b"
      },
      "execution_count": 5,
      "outputs": [
        {
          "output_type": "execute_result",
          "data": {
            "text/plain": [
              "<pyspark.sql.session.SparkSession at 0x7f743fe5d110>"
            ],
            "text/html": [
              "\n",
              "            <div>\n",
              "                <p><b>SparkSession - in-memory</b></p>\n",
              "                \n",
              "        <div>\n",
              "            <p><b>SparkContext</b></p>\n",
              "\n",
              "            <p><a href=\"http://b014f24497d8:4040\">Spark UI</a></p>\n",
              "\n",
              "            <dl>\n",
              "              <dt>Version</dt>\n",
              "                <dd><code>v3.1.2</code></dd>\n",
              "              <dt>Master</dt>\n",
              "                <dd><code>local[*]</code></dd>\n",
              "              <dt>AppName</dt>\n",
              "                <dd><code>Iniciando com Spark</code></dd>\n",
              "            </dl>\n",
              "        </div>\n",
              "        \n",
              "            </div>\n",
              "        "
            ]
          },
          "metadata": {},
          "execution_count": 5
        }
      ]
    },
    {
      "cell_type": "markdown",
      "source": [
        "# Carregando os dados em um dataframe"
      ],
      "metadata": {
        "id": "0tFLPkodK-FZ"
      }
    },
    {
      "cell_type": "code",
      "source": [
        "data = spark.read.json('/content/drive/MyDrive/Alura/Challenge Data Science/dataset_bruto.json')"
      ],
      "metadata": {
        "id": "ClpCWjqZLA3V"
      },
      "execution_count": 9,
      "outputs": []
    },
    {
      "cell_type": "code",
      "source": [
        "data.show()"
      ],
      "metadata": {
        "colab": {
          "base_uri": "https://localhost:8080/"
        },
        "id": "wddKV96eNhiA",
        "outputId": "fc05e501-873e-4d0c-a1cf-5d134097df4b"
      },
      "execution_count": 10,
      "outputs": [
        {
          "output_type": "stream",
          "name": "stdout",
          "text": [
            "+--------------------+--------------------+--------------------+\n",
            "|             anuncio|             imagens|             usuario|\n",
            "+--------------------+--------------------+--------------------+\n",
            "|{0, [], [16], [0]...|[{39d6282a-71f3-4...|{9d44563d-3405-4e...|\n",
            "|{0, [], [14], [0]...|[{23d2b3ab-45b0-4...|{36245be7-70fe-40...|\n",
            "|{0, [1026], [1026...|[{1da65baa-368b-4...|{9dc415d8-1397-4d...|\n",
            "|{0, [120], [120],...|[{79b542c6-49b4-4...|{9911a2df-f299-4a...|\n",
            "|{0, [3], [3], [0]...|[{e2bc497b-6510-4...|{240a7aab-12e5-40...|\n",
            "|{0, [20], [15], [...|[{2de09d46-dc0d-4...|{3c7057f5-0923-42...|\n",
            "|{3, [43], [43], [...|[{147a80d9-cd40-4...|{5a9736b5-aaa0-4a...|\n",
            "|{2, [42], [42], [...|[{35740004-063d-4...|{ec48d96a-137c-49...|\n",
            "|{0, [], [12], [0]...|[{6d3d2aec-c96f-4...|{dad7db63-e19c-44...|\n",
            "|{1, [41], [41], [...|[{3d404069-418e-4...|{a845f35f-3ab3-46...|\n",
            "|{3, [43], [43], [...|[{5b8a8de7-2088-4...|{8c8de313-45d5-4c...|\n",
            "|{0, [10], [4], [0...|[{5385da42-8276-4...|{0b1d4ee0-2bc3-4c...|\n",
            "|{0, [12], [12], [...|[{7e4c2d03-1188-4...|{d744ac23-f16e-44...|\n",
            "|{0, [17], [17], [...|[{db608e30-f3e0-4...|{edc3fcf6-4441-40...|\n",
            "|{1, [32], [32], [...|[{318d4e40-f759-4...|{84dfa72e-10dd-48...|\n",
            "|{0, [], [10], [0]...|[{9e39e46f-59f8-4...|{fc1d2b73-9d29-4c...|\n",
            "|{2, [43], [43], [...|[{3fe1c1cc-7a9c-4...|{7f2de69f-68f8-40...|\n",
            "|{3, [43], [43], [...|[{fd04f07d-cfdf-4...|{12ce772e-4aac-46...|\n",
            "|{3, [43], [43], [...|[{76f97b59-a61b-4...|{cc17fc2c-6be2-4e...|\n",
            "|{3, [43], [43], [...|[{95d9678e-491f-4...|{286649de-3099-4c...|\n",
            "+--------------------+--------------------+--------------------+\n",
            "only showing top 20 rows\n",
            "\n"
          ]
        }
      ]
    },
    {
      "cell_type": "code",
      "source": [
        "# para mostrar as dimensões do dataframe:\n",
        "\n",
        "f'São {data.count()} linhas e {len(data.columns)} colunas no dataframe'"
      ],
      "metadata": {
        "colab": {
          "base_uri": "https://localhost:8080/",
          "height": 35
        },
        "id": "StzxtFjvOCnr",
        "outputId": "cd2b227f-cb2a-4984-c133-7ca1e9dfb07c"
      },
      "execution_count": 14,
      "outputs": [
        {
          "output_type": "execute_result",
          "data": {
            "text/plain": [
              "'São 89083 linhas e 3 colunas no dataframe'"
            ],
            "application/vnd.google.colaboratory.intrinsic+json": {
              "type": "string"
            }
          },
          "metadata": {},
          "execution_count": 14
        }
      ]
    },
    {
      "cell_type": "code",
      "source": [
        "# coluna anúncio:\n",
        "\n",
        "data.select(data['anuncio']).limit(5).show(truncate= False)"
      ],
      "metadata": {
        "colab": {
          "base_uri": "https://localhost:8080/"
        },
        "id": "pQK_CZyZOsSD",
        "outputId": "0d8dbeb2-9523-4ca1-ff46-3f1b4936681f"
      },
      "execution_count": 18,
      "outputs": [
        {
          "output_type": "stream",
          "name": "stdout",
          "text": [
            "+----------------------------------------------------------------------------------------------------------------------------------------------------------------------------------------------------------------------------------------------------------------------------------------------------+\n",
            "|anuncio                                                                                                                                                                                                                                                                                             |\n",
            "+----------------------------------------------------------------------------------------------------------------------------------------------------------------------------------------------------------------------------------------------------------------------------------------------------+\n",
            "|{0, [], [16], [0], [], {Centro, 20061003, Rio de Janeiro, Rio de Janeiro, -22.906082, -43.18671, BR, Rua Buenos Aires, Zona Central}, 47d553e0-79f2-4a46-9390-5a3c962740c2, [0], [0], Usado, Outros, Comercial, [1], [{260, 107, Venda, 10000}]}                                                    |\n",
            "|{0, [], [14], [0], [], {Centro, 20051040, Rio de Janeiro, Rio de Janeiro, -22.902536, -43.18434, BR, Avenida Passos, Zona Central}, b6ffbae1-17f6-4870-9950-e998ac1c8d6a, [0], [], Usado, Outros, Comercial, [0], [{260, 107, Venda, 10000}]}                                                       |\n",
            "|{0, [1026], [1026], [0], [], {Maria da Graça, 20785360, Rio de Janeiro, Rio de Janeiro, -22.885516, -43.269083, BR, Rua Luís de Brito, Zona Norte}, 1fb030a5-9e3e-4a1d-93cd-cd2d8a215e11, [0], [], Usado, Outros, Comercial, [0], [{null, 1613, Venda, 10000}]}                                     |\n",
            "|{0, [120], [120], [0], [Portão eletrônico, Condomínio fechado], {Campo Grande, 23095071, Rio de Janeiro, Rio de Janeiro, -22.885028, -43.561668, BR, Estrada Guandu do Sape, Zona Oeste}, ac6cb348-69d6-45af-9589-dc34099370d8, [0], [], Usado, Outros, Residencial, [], [{80, null, Venda, 10000}]}|\n",
            "|{0, [3], [3], [0], [], {São Cristóvão, 20931670, Rio de Janeiro, Rio de Janeiro, -22.885912, -43.219296, BR, Rua Monsenhor Manuel Gomes, Zona Norte}, e032b908-ef42-4d4a-8125-eba4792bacbe, [0], [], Usado, Outros, Residencial, [], [{0, 0, Venda, 5000}]}                                         |\n",
            "+----------------------------------------------------------------------------------------------------------------------------------------------------------------------------------------------------------------------------------------------------------------------------------------------------+\n",
            "\n"
          ]
        }
      ]
    },
    {
      "cell_type": "code",
      "source": [
        "# coluna imagens:\n",
        "\n",
        "data.select(data['imagens']).limit(5).show(truncate= False)"
      ],
      "metadata": {
        "colab": {
          "base_uri": "https://localhost:8080/"
        },
        "id": "BRlqIp6DPqeH",
        "outputId": "538cd961-f00e-4ad9-977e-e24c2f24333f"
      },
      "execution_count": 19,
      "outputs": [
        {
          "output_type": "stream",
          "name": "stdout",
          "text": [
            "+--------------------------------------------------------------------------------------------------------------------------------------------------------------------------------------------------------------------------------------------------------------------------------------------------------------------------------------------------------------------------------------------------------------------------------------------------------------------------------------------------------------------------------------------------------------------------------------------------------+\n",
            "|imagens                                                                                                                                                                                                                                                                                                                                                                                                                                                                                                                                                                                                 |\n",
            "+--------------------------------------------------------------------------------------------------------------------------------------------------------------------------------------------------------------------------------------------------------------------------------------------------------------------------------------------------------------------------------------------------------------------------------------------------------------------------------------------------------------------------------------------------------------------------------------------------------+\n",
            "|[{39d6282a-71f3-47bc-94aa-909351ecd881, https://api.images.insightplaces.com.br/{type}/{width}/{height}/1b08098d-f2dc-439c-b604-a4e50d12774b.jpg}]                                                                                                                                                                                                                                                                                                                                                                                                                                                      |\n",
            "|[{23d2b3ab-45b0-47f2-a27f-ffbe066c2c38, https://api.images.insightplaces.com.br/{type}/{width}/{height}/7a65b929-fe46-4a60-ae31-81faf2edb3c6.jpg}, {1b5f71f8-1aec-4b82-8d4c-67540d204a59, https://api.images.insightplaces.com.br/{type}/{width}/{height}/82e92d72-002a-4d3b-8063-16d4d65474b3.jpg}, {9bb11688-7dc9-48b9-bc1d-6a7a2dbcd553, https://api.images.insightplaces.com.br/{type}/{width}/{height}/23be0c2c-4c8f-4718-8126-6f160bb3efcc.jpg}, {1aaf6095-70bc-4f1f-87a4-fe3534a1bd2a, https://api.images.insightplaces.com.br/{type}/{width}/{height}/0ae382f4-b1ac-4ad9-b6cf-d9b4d7d01908.jpg}]|\n",
            "|[{1da65baa-368b-490f-bef7-1834b9a428c1, https://api.images.insightplaces.com.br/{type}/{width}/{height}/b06fe423-6f18-43bb-b0e3-a569158885d2.jpg}]                                                                                                                                                                                                                                                                                                                                                                                                                                                      |\n",
            "|[{79b542c6-49b4-4f06-80b5-ef4fcdf98f76, https://api.images.insightplaces.com.br/{type}/{width}/{height}/b9688b1a-e6e8-4027-9368-d8298bc5ac40.jpg}]                                                                                                                                                                                                                                                                                                                                                                                                                                                      |\n",
            "|[{e2bc497b-6510-4731-8942-97b3d3cdab5e, https://api.images.insightplaces.com.br/{type}/{width}/{height}/bd7e2c54-8d10-4148-806d-0d656ff80fc2.jpg}]                                                                                                                                                                                                                                                                                                                                                                                                                                                      |\n",
            "+--------------------------------------------------------------------------------------------------------------------------------------------------------------------------------------------------------------------------------------------------------------------------------------------------------------------------------------------------------------------------------------------------------------------------------------------------------------------------------------------------------------------------------------------------------------------------------------------------------+\n",
            "\n"
          ]
        }
      ]
    },
    {
      "cell_type": "code",
      "source": [
        "# coluna usuario:\n",
        "\n",
        "data.select(data['usuario']).limit(5).show(truncate= False)"
      ],
      "metadata": {
        "colab": {
          "base_uri": "https://localhost:8080/"
        },
        "id": "645q7r7CP7dw",
        "outputId": "d1a481ec-76f5-4bd9-b120-4935aea3af06"
      },
      "execution_count": 20,
      "outputs": [
        {
          "output_type": "stream",
          "name": "stdout",
          "text": [
            "+------------------------------------------------+\n",
            "|usuario                                         |\n",
            "+------------------------------------------------+\n",
            "|{9d44563d-3405-4e84-9381-35b7cf40a9a4, Frank}   |\n",
            "|{36245be7-70fe-40cd-84d4-70a57dc8f976, Caroline}|\n",
            "|{9dc415d8-1397-4d8d-8425-b8310fad309d, Oliver}  |\n",
            "|{9911a2df-f299-4a73-a384-281417abaf69, Matthew} |\n",
            "|{240a7aab-12e5-4069-9a2c-9dca4c4f9c68, Jude}    |\n",
            "+------------------------------------------------+\n",
            "\n"
          ]
        }
      ]
    },
    {
      "cell_type": "code",
      "source": [
        "# mostrando os tipos de dados para cada coluna:\n",
        "\n",
        "data.printSchema()"
      ],
      "metadata": {
        "colab": {
          "base_uri": "https://localhost:8080/"
        },
        "id": "Z5uIQFMPQPND",
        "outputId": "94e478fc-6aec-4240-f164-70b1e5c5c8cd"
      },
      "execution_count": 21,
      "outputs": [
        {
          "output_type": "stream",
          "name": "stdout",
          "text": [
            "root\n",
            " |-- anuncio: struct (nullable = true)\n",
            " |    |-- andar: long (nullable = true)\n",
            " |    |-- area_total: array (nullable = true)\n",
            " |    |    |-- element: string (containsNull = true)\n",
            " |    |-- area_util: array (nullable = true)\n",
            " |    |    |-- element: string (containsNull = true)\n",
            " |    |-- banheiros: array (nullable = true)\n",
            " |    |    |-- element: long (containsNull = true)\n",
            " |    |-- caracteristicas: array (nullable = true)\n",
            " |    |    |-- element: string (containsNull = true)\n",
            " |    |-- endereco: struct (nullable = true)\n",
            " |    |    |-- bairro: string (nullable = true)\n",
            " |    |    |-- cep: string (nullable = true)\n",
            " |    |    |-- cidade: string (nullable = true)\n",
            " |    |    |-- estado: string (nullable = true)\n",
            " |    |    |-- latitude: double (nullable = true)\n",
            " |    |    |-- longitude: double (nullable = true)\n",
            " |    |    |-- pais: string (nullable = true)\n",
            " |    |    |-- rua: string (nullable = true)\n",
            " |    |    |-- zona: string (nullable = true)\n",
            " |    |-- id: string (nullable = true)\n",
            " |    |-- quartos: array (nullable = true)\n",
            " |    |    |-- element: long (containsNull = true)\n",
            " |    |-- suites: array (nullable = true)\n",
            " |    |    |-- element: long (containsNull = true)\n",
            " |    |-- tipo_anuncio: string (nullable = true)\n",
            " |    |-- tipo_unidade: string (nullable = true)\n",
            " |    |-- tipo_uso: string (nullable = true)\n",
            " |    |-- vaga: array (nullable = true)\n",
            " |    |    |-- element: long (containsNull = true)\n",
            " |    |-- valores: array (nullable = true)\n",
            " |    |    |-- element: struct (containsNull = true)\n",
            " |    |    |    |-- condominio: string (nullable = true)\n",
            " |    |    |    |-- iptu: string (nullable = true)\n",
            " |    |    |    |-- tipo: string (nullable = true)\n",
            " |    |    |    |-- valor: string (nullable = true)\n",
            " |-- imagens: array (nullable = true)\n",
            " |    |-- element: struct (containsNull = true)\n",
            " |    |    |-- id: string (nullable = true)\n",
            " |    |    |-- url: string (nullable = true)\n",
            " |-- usuario: struct (nullable = true)\n",
            " |    |-- id: string (nullable = true)\n",
            " |    |-- nome: string (nullable = true)\n",
            "\n"
          ]
        }
      ]
    },
    {
      "cell_type": "markdown",
      "source": [
        "# Transformando os campos de anuncio em colunas"
      ],
      "metadata": {
        "id": "fFtyWsIRQ0-1"
      }
    },
    {
      "cell_type": "code",
      "source": [
        "# selecionam-se as colunas do campo anuncio e verifica-se quais são:\n",
        "\n",
        "data.select('anuncio.*').columns"
      ],
      "metadata": {
        "colab": {
          "base_uri": "https://localhost:8080/"
        },
        "id": "PXY4zzsFQ4BX",
        "outputId": "8e1c9684-a885-4c7f-fd40-c8500b5a7de2"
      },
      "execution_count": 33,
      "outputs": [
        {
          "output_type": "execute_result",
          "data": {
            "text/plain": [
              "['andar',\n",
              " 'area_total',\n",
              " 'area_util',\n",
              " 'banheiros',\n",
              " 'caracteristicas',\n",
              " 'endereco',\n",
              " 'id',\n",
              " 'quartos',\n",
              " 'suites',\n",
              " 'tipo_anuncio',\n",
              " 'tipo_unidade',\n",
              " 'tipo_uso',\n",
              " 'vaga',\n",
              " 'valores']"
            ]
          },
          "metadata": {},
          "execution_count": 33
        }
      ]
    },
    {
      "cell_type": "code",
      "source": [
        "# dataframe anuncio com todas as colunas:\n",
        "\n",
        "anuncio = data.select('anuncio.*')\n",
        "anuncio.show()"
      ],
      "metadata": {
        "colab": {
          "base_uri": "https://localhost:8080/"
        },
        "id": "CH_pLitMUHR7",
        "outputId": "51358ca4-67e9-4256-bb61-f3ecfbd83d70"
      },
      "execution_count": 36,
      "outputs": [
        {
          "output_type": "stream",
          "name": "stdout",
          "text": [
            "+-----+----------+---------+---------+--------------------+--------------------+--------------------+-------+------+------------+------------+-----------+----+--------------------+\n",
            "|andar|area_total|area_util|banheiros|     caracteristicas|            endereco|                  id|quartos|suites|tipo_anuncio|tipo_unidade|   tipo_uso|vaga|             valores|\n",
            "+-----+----------+---------+---------+--------------------+--------------------+--------------------+-------+------+------------+------------+-----------+----+--------------------+\n",
            "|    0|        []|     [16]|      [0]|                  []|{Centro, 20061003...|47d553e0-79f2-4a4...|    [0]|   [0]|       Usado|      Outros|  Comercial| [1]|[{260, 107, Venda...|\n",
            "|    0|        []|     [14]|      [0]|                  []|{Centro, 20051040...|b6ffbae1-17f6-487...|    [0]|    []|       Usado|      Outros|  Comercial| [0]|[{260, 107, Venda...|\n",
            "|    0|    [1026]|   [1026]|      [0]|                  []|{Maria da Graça, ...|1fb030a5-9e3e-4a1...|    [0]|    []|       Usado|      Outros|  Comercial| [0]|[{null, 1613, Ven...|\n",
            "|    0|     [120]|    [120]|      [0]|[Portão eletrônic...|{Campo Grande, 23...|ac6cb348-69d6-45a...|    [0]|    []|       Usado|      Outros|Residencial|  []|[{80, null, Venda...|\n",
            "|    0|       [3]|      [3]|      [0]|                  []|{São Cristóvão, 2...|e032b908-ef42-4d4...|    [0]|    []|       Usado|      Outros|Residencial|  []|[{0, 0, Venda, 50...|\n",
            "|    0|      [20]|     [15]|      [1]|                  []|{Centro, 20231047...|df9cf0b8-b972-433...|    [0]|    []|       Usado|      Outros|  Comercial| [1]|[{223, 87, Venda,...|\n",
            "|    3|      [43]|     [43]|      [1]|[Academia, Churra...|{Paciência, 23585...|d2e3a3aa-09b5-45a...|    [2]|    []|       Usado| Apartamento|Residencial| [1]|[{245, null, Vend...|\n",
            "|    2|      [42]|     [42]|      [1]|[Churrasqueira, P...|{Paciência, 23585...|085bab2c-87ad-452...|    [2]|    []|       Usado| Apartamento|Residencial| [1]|[{0, 0, Venda, 15...|\n",
            "|    0|        []|     [12]|      [0]|[Portaria 24h, El...|{Centro, 20231047...|096ad966-dc36-47b...|    [0]|    []|       Usado|      Outros|  Comercial| [1]|[{250, null, Vend...|\n",
            "|    1|      [41]|     [41]|      [1]|[Portaria 24h, Co...|{Guaratiba, 23036...|18d22cbe-1b86-476...|    [2]|    []|       Usado| Apartamento|Residencial| [1]|[{0, 0, Venda, 20...|\n",
            "|    3|      [43]|     [43]|      [1]|[Churrasqueira, P...|{Cosmos, 23066271...|bed8a354-9317-442...|    [2]|    []|       Usado| Apartamento|Residencial| [0]|[{285, null, Vend...|\n",
            "|    0|      [10]|      [4]|      [0]|[Elevador, Portar...|{Centro, 20080021...|b7d0fbd3-0b28-420...|    [0]|    []|       Usado|      Outros|  Comercial| [0]|[{200, 86, Venda,...|\n",
            "|    0|      [12]|     [12]|      [1]|      [Portaria 24h]|{Copacabana, 2202...|c6571c11-166e-4a4...|    [0]|    []|       Usado|      Outros|  Comercial|  []|[{470, null, Vend...|\n",
            "|    0|      [17]|     [17]|      [0]|          [Elevador]|{Centro, 20070021...|46d5b560-205f-45f...|    [0]|    []|       Usado|      Outros|  Comercial| [1]|[{294, 98, Venda,...|\n",
            "|    1|      [32]|     [32]|       []|[Elevador, Condom...|{Centro, 20090020...|db197997-00e6-4d6...|     []|    []|       Usado|      Outros|  Comercial| [1]|[{684, null, Vend...|\n",
            "|    0|        []|     [10]|      [0]|[Elevador, Condom...|{Saúde, 20080040,...|835d4338-4aa9-4e4...|    [0]|    []|       Usado|      Outros|  Comercial|  []|[{0, 120, Venda, ...|\n",
            "|    2|      [43]|     [43]|      [1]|[Academia, Churra...|{Guaratiba, 23036...|12a13315-d67f-48f...|    [2]|    []|       Usado| Apartamento|Residencial| [1]|[{245, null, Vend...|\n",
            "|    3|      [43]|     [43]|      [1]|[Churrasqueira, P...|{Cosmos, 23066271...|a2e6d7a5-0ff0-484...|    [2]|   [0]|       Usado| Apartamento|Residencial| [0]|[{285, null, Vend...|\n",
            "|    3|      [43]|     [43]|      [1]|[Churrasqueira, P...|{Paciência, 23585...|a6e3173b-c950-4db...|    [2]|    []|       Usado| Apartamento|Residencial| [1]|[{250, null, Vend...|\n",
            "|    3|      [43]|     [43]|      [1]|[Churrasqueira, P...|{Guaratiba, 23036...|2e6e5dfb-206c-496...|    [2]|   [0]|       Usado| Apartamento|Residencial| [1]|[{245, null, Vend...|\n",
            "+-----+----------+---------+---------+--------------------+--------------------+--------------------+-------+------+------------+------------+-----------+----+--------------------+\n",
            "only showing top 20 rows\n",
            "\n"
          ]
        }
      ]
    },
    {
      "cell_type": "code",
      "source": [
        "anuncio.printSchema()"
      ],
      "metadata": {
        "colab": {
          "base_uri": "https://localhost:8080/"
        },
        "id": "m58JN8OWWiPz",
        "outputId": "fbfdc2bc-a73b-4c5b-fc44-851bd6542d00"
      },
      "execution_count": 37,
      "outputs": [
        {
          "output_type": "stream",
          "name": "stdout",
          "text": [
            "root\n",
            " |-- andar: long (nullable = true)\n",
            " |-- area_total: array (nullable = true)\n",
            " |    |-- element: string (containsNull = true)\n",
            " |-- area_util: array (nullable = true)\n",
            " |    |-- element: string (containsNull = true)\n",
            " |-- banheiros: array (nullable = true)\n",
            " |    |-- element: long (containsNull = true)\n",
            " |-- caracteristicas: array (nullable = true)\n",
            " |    |-- element: string (containsNull = true)\n",
            " |-- endereco: struct (nullable = true)\n",
            " |    |-- bairro: string (nullable = true)\n",
            " |    |-- cep: string (nullable = true)\n",
            " |    |-- cidade: string (nullable = true)\n",
            " |    |-- estado: string (nullable = true)\n",
            " |    |-- latitude: double (nullable = true)\n",
            " |    |-- longitude: double (nullable = true)\n",
            " |    |-- pais: string (nullable = true)\n",
            " |    |-- rua: string (nullable = true)\n",
            " |    |-- zona: string (nullable = true)\n",
            " |-- id: string (nullable = true)\n",
            " |-- quartos: array (nullable = true)\n",
            " |    |-- element: long (containsNull = true)\n",
            " |-- suites: array (nullable = true)\n",
            " |    |-- element: long (containsNull = true)\n",
            " |-- tipo_anuncio: string (nullable = true)\n",
            " |-- tipo_unidade: string (nullable = true)\n",
            " |-- tipo_uso: string (nullable = true)\n",
            " |-- vaga: array (nullable = true)\n",
            " |    |-- element: long (containsNull = true)\n",
            " |-- valores: array (nullable = true)\n",
            " |    |-- element: struct (containsNull = true)\n",
            " |    |    |-- condominio: string (nullable = true)\n",
            " |    |    |-- iptu: string (nullable = true)\n",
            " |    |    |-- tipo: string (nullable = true)\n",
            " |    |    |-- valor: string (nullable = true)\n",
            "\n"
          ]
        }
      ]
    },
    {
      "cell_type": "markdown",
      "source": [
        "# Filtrando as colunas"
      ],
      "metadata": {
        "id": "1geM5upOYebp"
      }
    },
    {
      "cell_type": "code",
      "source": [
        "# a tabela a seguir mostra a frequência dos imóveis em ordem decrescente:\n",
        "\n",
        "anuncio.groupBy(['tipo_uso', 'tipo_unidade', 'tipo_anuncio']).count().orderBy('count', ascending= False).show()"
      ],
      "metadata": {
        "colab": {
          "base_uri": "https://localhost:8080/"
        },
        "id": "Kge4VPBhZmtH",
        "outputId": "bd4a495f-6773-44f9-f3b4-a6ec169b3e81"
      },
      "execution_count": 48,
      "outputs": [
        {
          "output_type": "stream",
          "name": "stdout",
          "text": [
            "+-----------+------------+------------+-----+\n",
            "|   tipo_uso|tipo_unidade|tipo_anuncio|count|\n",
            "+-----------+------------+------------+-----+\n",
            "|Residencial| Apartamento|       Usado|66562|\n",
            "|Residencial|        Casa|       Usado|10224|\n",
            "|Residencial|      Outros|       Usado| 7502|\n",
            "|  Comercial|      Outros|       Usado| 4443|\n",
            "|Residencial| Apartamento|  Lançamento|  235|\n",
            "|  Comercial|        Casa|       Usado|   92|\n",
            "|Residencial|      Outros|  Lançamento|   15|\n",
            "|  Comercial| Apartamento|       Usado|    4|\n",
            "|  Comercial|      Outros|  Lançamento|    3|\n",
            "|Residencial|        Casa|  Lançamento|    3|\n",
            "+-----------+------------+------------+-----+\n",
            "\n"
          ]
        }
      ]
    },
    {
      "cell_type": "markdown",
      "source": [
        "## Coluna tipo_uso"
      ],
      "metadata": {
        "id": "unlk0CqWeqsO"
      }
    },
    {
      "cell_type": "code",
      "source": [
        "# valores únicos que aparecem na coluna tipo_uso:\n",
        "\n",
        "anuncio.select('tipo_uso').distinct().show()"
      ],
      "metadata": {
        "colab": {
          "base_uri": "https://localhost:8080/"
        },
        "id": "VsHtEwotdicS",
        "outputId": "5c66812f-b364-47f3-a44f-d727ddb4f3b6"
      },
      "execution_count": 64,
      "outputs": [
        {
          "output_type": "stream",
          "name": "stdout",
          "text": [
            "+-----------+\n",
            "|   tipo_uso|\n",
            "+-----------+\n",
            "|  Comercial|\n",
            "|Residencial|\n",
            "+-----------+\n",
            "\n"
          ]
        }
      ]
    },
    {
      "cell_type": "code",
      "source": [
        "# filtra-se usando tipo_uso onde for \"Residencial\":\n",
        "\n",
        "anuncio.where('tipo_uso == \"Residencial\"').show()"
      ],
      "metadata": {
        "colab": {
          "base_uri": "https://localhost:8080/"
        },
        "id": "0wbjAwCvc3vR",
        "outputId": "3461691c-e900-4f09-c09f-532ce6f8db7f"
      },
      "execution_count": 58,
      "outputs": [
        {
          "output_type": "stream",
          "name": "stdout",
          "text": [
            "+-----+----------+---------+---------+--------------------+--------------------+--------------------+-------+------+------------+------------+-----------+----+--------------------+\n",
            "|andar|area_total|area_util|banheiros|     caracteristicas|            endereco|                  id|quartos|suites|tipo_anuncio|tipo_unidade|   tipo_uso|vaga|             valores|\n",
            "+-----+----------+---------+---------+--------------------+--------------------+--------------------+-------+------+------------+------------+-----------+----+--------------------+\n",
            "|    0|     [120]|    [120]|      [0]|[Portão eletrônic...|{Campo Grande, 23...|ac6cb348-69d6-45a...|    [0]|    []|       Usado|      Outros|Residencial|  []|[{80, null, Venda...|\n",
            "|    0|       [3]|      [3]|      [0]|                  []|{São Cristóvão, 2...|e032b908-ef42-4d4...|    [0]|    []|       Usado|      Outros|Residencial|  []|[{0, 0, Venda, 50...|\n",
            "|    3|      [43]|     [43]|      [1]|[Academia, Churra...|{Paciência, 23585...|d2e3a3aa-09b5-45a...|    [2]|    []|       Usado| Apartamento|Residencial| [1]|[{245, null, Vend...|\n",
            "|    2|      [42]|     [42]|      [1]|[Churrasqueira, P...|{Paciência, 23585...|085bab2c-87ad-452...|    [2]|    []|       Usado| Apartamento|Residencial| [1]|[{0, 0, Venda, 15...|\n",
            "|    1|      [41]|     [41]|      [1]|[Portaria 24h, Co...|{Guaratiba, 23036...|18d22cbe-1b86-476...|    [2]|    []|       Usado| Apartamento|Residencial| [1]|[{0, 0, Venda, 20...|\n",
            "|    3|      [43]|     [43]|      [1]|[Churrasqueira, P...|{Cosmos, 23066271...|bed8a354-9317-442...|    [2]|    []|       Usado| Apartamento|Residencial| [0]|[{285, null, Vend...|\n",
            "|    2|      [43]|     [43]|      [1]|[Academia, Churra...|{Guaratiba, 23036...|12a13315-d67f-48f...|    [2]|    []|       Usado| Apartamento|Residencial| [1]|[{245, null, Vend...|\n",
            "|    3|      [43]|     [43]|      [1]|[Churrasqueira, P...|{Cosmos, 23066271...|a2e6d7a5-0ff0-484...|    [2]|   [0]|       Usado| Apartamento|Residencial| [0]|[{285, null, Vend...|\n",
            "|    3|      [43]|     [43]|      [1]|[Churrasqueira, P...|{Paciência, 23585...|a6e3173b-c950-4db...|    [2]|    []|       Usado| Apartamento|Residencial| [1]|[{250, null, Vend...|\n",
            "|    3|      [43]|     [43]|      [1]|[Churrasqueira, P...|{Guaratiba, 23036...|2e6e5dfb-206c-496...|    [2]|   [0]|       Usado| Apartamento|Residencial| [1]|[{245, null, Vend...|\n",
            "|    0|     [100]|    [100]|      [0]|                  []|{Sepetiba, 235306...|62cb0173-a243-4bb...|    [0]|    []|       Usado|      Outros|Residencial| [0]|[{null, null, Ven...|\n",
            "|    3|      [43]|     [43]|      [1]|[Churrasqueira, P...|{Paciência, 23585...|99f8d0f9-95a4-461...|    [2]|   [0]|       Usado| Apartamento|Residencial| [1]|[{245, null, Vend...|\n",
            "|    4|      [43]|     [43]|      [1]|[Churrasqueira, P...|{Guaratiba, 23036...|b3f44c1a-2d50-4d5...|    [2]|    []|       Usado| Apartamento|Residencial| [1]|[{240, null, Vend...|\n",
            "|    0|     [120]|    [120]|      [0]|[Portão eletrônic...|{Campo Grande, 23...|3442cf8f-c783-46c...|    [0]|    []|       Usado|      Outros|Residencial|  []|[{80, null, Venda...|\n",
            "|    0|      [60]|     [60]|      [1]|[Condomínio fechado]|{Pedra de Guarati...|dc99d9e1-4c63-41f...|    [2]|    []|       Usado| Apartamento|Residencial| [1]|[{0, 0, Venda, 15...|\n",
            "|    1|      [43]|     [43]|      [1]|[Churrasqueira, P...|{Cosmos, 23056630...|aa3606d8-8bcd-45e...|    [2]|    []|       Usado| Apartamento|Residencial| [1]|[{240, 0, Venda, ...|\n",
            "|    0|      [65]|     [65]|      [2]|[Animais permitidos]|{Campo Grande, 23...|73789e4a-7d19-454...|    [2]|   [0]|       Usado|        Casa|Residencial| [1]|[{0, 0, Venda, 18...|\n",
            "|    0|     [120]|    [120]|      [0]|[Portão eletrônic...|{Campo Grande, 23...|cb466788-9533-456...|    [0]|    []|       Usado|      Outros|Residencial|  []|[{80, null, Venda...|\n",
            "|    0|     [120]|    [120]|      [0]|[Portão eletrônic...|{Campo Grande, 23...|272951e7-d667-4e3...|    [0]|    []|       Usado|      Outros|Residencial|  []|[{80, null, Venda...|\n",
            "|    0|      [58]|     [58]|      [1]|[Condomínio fecha...|{Inhoaíba, 230620...|541bd733-e078-436...|    [2]|   [0]|       Usado|        Casa|Residencial| [1]|[{0, 0, Venda, 15...|\n",
            "+-----+----------+---------+---------+--------------------+--------------------+--------------------+-------+------+------------+------------+-----------+----+--------------------+\n",
            "only showing top 20 rows\n",
            "\n"
          ]
        }
      ]
    },
    {
      "cell_type": "code",
      "source": [
        "filtro_tipo_uso = anuncio.where('tipo_uso == \"Residencial\"')\n",
        "f'Há {filtro_tipo_uso.count()} linhas no dataframe com \"Residencial\" na coluna tipo_uso'"
      ],
      "metadata": {
        "colab": {
          "base_uri": "https://localhost:8080/",
          "height": 35
        },
        "id": "wC5KZgz7dKsv",
        "outputId": "0a662bfa-c9bf-428b-dd85-bb8a1f35a59a"
      },
      "execution_count": 65,
      "outputs": [
        {
          "output_type": "execute_result",
          "data": {
            "text/plain": [
              "'Há 84541 linhas no dataframe com \"Residencial\" na coluna tipo_uso'"
            ],
            "application/vnd.google.colaboratory.intrinsic+json": {
              "type": "string"
            }
          },
          "metadata": {},
          "execution_count": 65
        }
      ]
    },
    {
      "cell_type": "markdown",
      "source": [
        "## Coluna tipo_unidade"
      ],
      "metadata": {
        "id": "OSMJ4oTFfILP"
      }
    },
    {
      "cell_type": "code",
      "source": [
        "# valores únicos para coluna tipo_unidade:\n",
        "\n",
        "anuncio.select('tipo_unidade').distinct().show()"
      ],
      "metadata": {
        "colab": {
          "base_uri": "https://localhost:8080/"
        },
        "id": "_feO3_7RfNVN",
        "outputId": "3162f3f4-d3c0-41b4-9a21-8277f282330f"
      },
      "execution_count": 66,
      "outputs": [
        {
          "output_type": "stream",
          "name": "stdout",
          "text": [
            "+------------+\n",
            "|tipo_unidade|\n",
            "+------------+\n",
            "|      Outros|\n",
            "| Apartamento|\n",
            "|        Casa|\n",
            "+------------+\n",
            "\n"
          ]
        }
      ]
    },
    {
      "cell_type": "code",
      "source": [
        "# filtrando a coluna buscando \"Apartamento\":\n",
        "\n",
        "anuncio.where('tipo_unidade == \"Apartamento\"').show()"
      ],
      "metadata": {
        "colab": {
          "base_uri": "https://localhost:8080/"
        },
        "id": "B0q9-hFBfcuJ",
        "outputId": "07d57c19-81a2-4715-836c-cca0ec5d5956"
      },
      "execution_count": 68,
      "outputs": [
        {
          "output_type": "stream",
          "name": "stdout",
          "text": [
            "+-----+----------+---------+---------+--------------------+--------------------+--------------------+-------+------+------------+------------+-----------+----+--------------------+\n",
            "|andar|area_total|area_util|banheiros|     caracteristicas|            endereco|                  id|quartos|suites|tipo_anuncio|tipo_unidade|   tipo_uso|vaga|             valores|\n",
            "+-----+----------+---------+---------+--------------------+--------------------+--------------------+-------+------+------------+------------+-----------+----+--------------------+\n",
            "|    3|      [43]|     [43]|      [1]|[Academia, Churra...|{Paciência, 23585...|d2e3a3aa-09b5-45a...|    [2]|    []|       Usado| Apartamento|Residencial| [1]|[{245, null, Vend...|\n",
            "|    2|      [42]|     [42]|      [1]|[Churrasqueira, P...|{Paciência, 23585...|085bab2c-87ad-452...|    [2]|    []|       Usado| Apartamento|Residencial| [1]|[{0, 0, Venda, 15...|\n",
            "|    1|      [41]|     [41]|      [1]|[Portaria 24h, Co...|{Guaratiba, 23036...|18d22cbe-1b86-476...|    [2]|    []|       Usado| Apartamento|Residencial| [1]|[{0, 0, Venda, 20...|\n",
            "|    3|      [43]|     [43]|      [1]|[Churrasqueira, P...|{Cosmos, 23066271...|bed8a354-9317-442...|    [2]|    []|       Usado| Apartamento|Residencial| [0]|[{285, null, Vend...|\n",
            "|    2|      [43]|     [43]|      [1]|[Academia, Churra...|{Guaratiba, 23036...|12a13315-d67f-48f...|    [2]|    []|       Usado| Apartamento|Residencial| [1]|[{245, null, Vend...|\n",
            "|    3|      [43]|     [43]|      [1]|[Churrasqueira, P...|{Cosmos, 23066271...|a2e6d7a5-0ff0-484...|    [2]|   [0]|       Usado| Apartamento|Residencial| [0]|[{285, null, Vend...|\n",
            "|    3|      [43]|     [43]|      [1]|[Churrasqueira, P...|{Paciência, 23585...|a6e3173b-c950-4db...|    [2]|    []|       Usado| Apartamento|Residencial| [1]|[{250, null, Vend...|\n",
            "|    3|      [43]|     [43]|      [1]|[Churrasqueira, P...|{Guaratiba, 23036...|2e6e5dfb-206c-496...|    [2]|   [0]|       Usado| Apartamento|Residencial| [1]|[{245, null, Vend...|\n",
            "|    3|      [43]|     [43]|      [1]|[Churrasqueira, P...|{Paciência, 23585...|99f8d0f9-95a4-461...|    [2]|   [0]|       Usado| Apartamento|Residencial| [1]|[{245, null, Vend...|\n",
            "|    4|      [43]|     [43]|      [1]|[Churrasqueira, P...|{Guaratiba, 23036...|b3f44c1a-2d50-4d5...|    [2]|    []|       Usado| Apartamento|Residencial| [1]|[{240, null, Vend...|\n",
            "|    0|      [60]|     [60]|      [1]|[Condomínio fechado]|{Pedra de Guarati...|dc99d9e1-4c63-41f...|    [2]|    []|       Usado| Apartamento|Residencial| [1]|[{0, 0, Venda, 15...|\n",
            "|    1|      [43]|     [43]|      [1]|[Churrasqueira, P...|{Cosmos, 23056630...|aa3606d8-8bcd-45e...|    [2]|    []|       Usado| Apartamento|Residencial| [1]|[{240, 0, Venda, ...|\n",
            "|    0|      [43]|     [43]|      [1]|[Churrasqueira, P...|{Campo Grande, 23...|df80b0d5-677c-4be...|    [2]|   [0]|       Usado| Apartamento|Residencial| [0]|[{245, null, Vend...|\n",
            "|    2|      [43]|     [43]|      [1]|[Academia, Churra...|{Santa Cruz, 2352...|3d6c0218-9b7d-474...|    [2]|    []|       Usado| Apartamento|Residencial| [2]|[{290, null, Vend...|\n",
            "|    3|      [43]|     [43]|      [1]|[Salão de festas,...|{Guaratiba, 23020...|304266cc-62d1-4ce...|    [2]|    []|       Usado| Apartamento|Residencial|  []|[{285, null, Vend...|\n",
            "|    4|      [55]|     [55]|      [2]|[Academia, Churra...|{Recreio dos Band...|111472a2-afa1-4a7...|    [2]|   [1]|       Usado| Apartamento|Residencial| [1]|[{0, 0, Venda, 30...|\n",
            "|    0|      [45]|     [45]|      [1]|[Playground, Pisc...|{Cosmos, 23066271...|275c1589-6537-4bf...|    [2]|   [0]|       Usado| Apartamento|Residencial| [1]|[{null, null, Ven...|\n",
            "|    5|      [42]|     [42]|      [1]|[Condomínio fecha...|{Realengo, 217251...|ab8f367f-7509-45c...|    [2]|   [0]|       Usado| Apartamento|Residencial| [0]|[{280, 0, Venda, ...|\n",
            "|    1|      [43]|     [43]|      [1]|[Churrasqueira, P...|{Cosmos, 23058001...|e0a3d370-66dd-4f5...|    [2]|    []|       Usado| Apartamento|Residencial| [1]|[{280, null, Vend...|\n",
            "|    3|        []|     [55]|      [1]|[Academia, Churra...|{Todos os Santos,...|09c8ba2d-dbf1-487...|    [2]|   [1]|       Usado| Apartamento|Residencial| [1]|[{0, 0, Venda, 26...|\n",
            "+-----+----------+---------+---------+--------------------+--------------------+--------------------+-------+------+------------+------------+-----------+----+--------------------+\n",
            "only showing top 20 rows\n",
            "\n"
          ]
        }
      ]
    },
    {
      "cell_type": "code",
      "source": [
        "# o número de linhas em que tipo_unidade contém \"Apartamento\" é:\n",
        "\n",
        "filtro_tipo_unidade = anuncio.where('tipo_unidade == \"Apartamento\"')\n",
        "f'Há {filtro_tipo_unidade.count()} linhas no dataframe com \"Apartamento\" na coluna tipo_unidade'"
      ],
      "metadata": {
        "colab": {
          "base_uri": "https://localhost:8080/",
          "height": 35
        },
        "id": "GRVon09FgkOL",
        "outputId": "9f0909bb-38c8-42a6-c43d-1f78edccb914"
      },
      "execution_count": 69,
      "outputs": [
        {
          "output_type": "execute_result",
          "data": {
            "text/plain": [
              "'Há 66801 linhas no dataframe com \"Apartamento\" na coluna tipo_unidade'"
            ],
            "application/vnd.google.colaboratory.intrinsic+json": {
              "type": "string"
            }
          },
          "metadata": {},
          "execution_count": 69
        }
      ]
    },
    {
      "cell_type": "markdown",
      "source": [
        "## Coluna tipo_anuncio"
      ],
      "metadata": {
        "id": "3tDv-fJjh2hV"
      }
    },
    {
      "cell_type": "code",
      "source": [
        "# os valores únicos para coluna tipo_anuncio:\n",
        "\n",
        "anuncio.select('tipo_anuncio').distinct().show()"
      ],
      "metadata": {
        "colab": {
          "base_uri": "https://localhost:8080/"
        },
        "id": "mNx1bq1gh1H1",
        "outputId": "a6c28fe5-b56c-4860-ef4e-8857074be2bf"
      },
      "execution_count": 70,
      "outputs": [
        {
          "output_type": "stream",
          "name": "stdout",
          "text": [
            "+------------+\n",
            "|tipo_anuncio|\n",
            "+------------+\n",
            "|       Usado|\n",
            "|  Lançamento|\n",
            "+------------+\n",
            "\n"
          ]
        }
      ]
    },
    {
      "cell_type": "code",
      "source": [
        "# para selecionar apenas onde há \"Usado\":\n",
        "\n",
        "anuncio.where('tipo_anuncio == \"Usado\"').show()"
      ],
      "metadata": {
        "colab": {
          "base_uri": "https://localhost:8080/"
        },
        "id": "OniqJvo5iDqo",
        "outputId": "f6f9cade-29bd-4432-9e80-0bf7a3367550"
      },
      "execution_count": 71,
      "outputs": [
        {
          "output_type": "stream",
          "name": "stdout",
          "text": [
            "+-----+----------+---------+---------+--------------------+--------------------+--------------------+-------+------+------------+------------+-----------+----+--------------------+\n",
            "|andar|area_total|area_util|banheiros|     caracteristicas|            endereco|                  id|quartos|suites|tipo_anuncio|tipo_unidade|   tipo_uso|vaga|             valores|\n",
            "+-----+----------+---------+---------+--------------------+--------------------+--------------------+-------+------+------------+------------+-----------+----+--------------------+\n",
            "|    0|        []|     [16]|      [0]|                  []|{Centro, 20061003...|47d553e0-79f2-4a4...|    [0]|   [0]|       Usado|      Outros|  Comercial| [1]|[{260, 107, Venda...|\n",
            "|    0|        []|     [14]|      [0]|                  []|{Centro, 20051040...|b6ffbae1-17f6-487...|    [0]|    []|       Usado|      Outros|  Comercial| [0]|[{260, 107, Venda...|\n",
            "|    0|    [1026]|   [1026]|      [0]|                  []|{Maria da Graça, ...|1fb030a5-9e3e-4a1...|    [0]|    []|       Usado|      Outros|  Comercial| [0]|[{null, 1613, Ven...|\n",
            "|    0|     [120]|    [120]|      [0]|[Portão eletrônic...|{Campo Grande, 23...|ac6cb348-69d6-45a...|    [0]|    []|       Usado|      Outros|Residencial|  []|[{80, null, Venda...|\n",
            "|    0|       [3]|      [3]|      [0]|                  []|{São Cristóvão, 2...|e032b908-ef42-4d4...|    [0]|    []|       Usado|      Outros|Residencial|  []|[{0, 0, Venda, 50...|\n",
            "|    0|      [20]|     [15]|      [1]|                  []|{Centro, 20231047...|df9cf0b8-b972-433...|    [0]|    []|       Usado|      Outros|  Comercial| [1]|[{223, 87, Venda,...|\n",
            "|    3|      [43]|     [43]|      [1]|[Academia, Churra...|{Paciência, 23585...|d2e3a3aa-09b5-45a...|    [2]|    []|       Usado| Apartamento|Residencial| [1]|[{245, null, Vend...|\n",
            "|    2|      [42]|     [42]|      [1]|[Churrasqueira, P...|{Paciência, 23585...|085bab2c-87ad-452...|    [2]|    []|       Usado| Apartamento|Residencial| [1]|[{0, 0, Venda, 15...|\n",
            "|    0|        []|     [12]|      [0]|[Portaria 24h, El...|{Centro, 20231047...|096ad966-dc36-47b...|    [0]|    []|       Usado|      Outros|  Comercial| [1]|[{250, null, Vend...|\n",
            "|    1|      [41]|     [41]|      [1]|[Portaria 24h, Co...|{Guaratiba, 23036...|18d22cbe-1b86-476...|    [2]|    []|       Usado| Apartamento|Residencial| [1]|[{0, 0, Venda, 20...|\n",
            "|    3|      [43]|     [43]|      [1]|[Churrasqueira, P...|{Cosmos, 23066271...|bed8a354-9317-442...|    [2]|    []|       Usado| Apartamento|Residencial| [0]|[{285, null, Vend...|\n",
            "|    0|      [10]|      [4]|      [0]|[Elevador, Portar...|{Centro, 20080021...|b7d0fbd3-0b28-420...|    [0]|    []|       Usado|      Outros|  Comercial| [0]|[{200, 86, Venda,...|\n",
            "|    0|      [12]|     [12]|      [1]|      [Portaria 24h]|{Copacabana, 2202...|c6571c11-166e-4a4...|    [0]|    []|       Usado|      Outros|  Comercial|  []|[{470, null, Vend...|\n",
            "|    0|      [17]|     [17]|      [0]|          [Elevador]|{Centro, 20070021...|46d5b560-205f-45f...|    [0]|    []|       Usado|      Outros|  Comercial| [1]|[{294, 98, Venda,...|\n",
            "|    1|      [32]|     [32]|       []|[Elevador, Condom...|{Centro, 20090020...|db197997-00e6-4d6...|     []|    []|       Usado|      Outros|  Comercial| [1]|[{684, null, Vend...|\n",
            "|    0|        []|     [10]|      [0]|[Elevador, Condom...|{Saúde, 20080040,...|835d4338-4aa9-4e4...|    [0]|    []|       Usado|      Outros|  Comercial|  []|[{0, 120, Venda, ...|\n",
            "|    2|      [43]|     [43]|      [1]|[Academia, Churra...|{Guaratiba, 23036...|12a13315-d67f-48f...|    [2]|    []|       Usado| Apartamento|Residencial| [1]|[{245, null, Vend...|\n",
            "|    3|      [43]|     [43]|      [1]|[Churrasqueira, P...|{Cosmos, 23066271...|a2e6d7a5-0ff0-484...|    [2]|   [0]|       Usado| Apartamento|Residencial| [0]|[{285, null, Vend...|\n",
            "|    3|      [43]|     [43]|      [1]|[Churrasqueira, P...|{Paciência, 23585...|a6e3173b-c950-4db...|    [2]|    []|       Usado| Apartamento|Residencial| [1]|[{250, null, Vend...|\n",
            "|    3|      [43]|     [43]|      [1]|[Churrasqueira, P...|{Guaratiba, 23036...|2e6e5dfb-206c-496...|    [2]|   [0]|       Usado| Apartamento|Residencial| [1]|[{245, null, Vend...|\n",
            "+-----+----------+---------+---------+--------------------+--------------------+--------------------+-------+------+------------+------------+-----------+----+--------------------+\n",
            "only showing top 20 rows\n",
            "\n"
          ]
        }
      ]
    },
    {
      "cell_type": "code",
      "source": [
        "# o número de linhas em que tipo_anuncio contém \"Usado\" é:\n",
        "\n",
        "filtro_tipo_anuncio = anuncio.where('tipo_anuncio == \"Usado\"')\n",
        "f'Há {filtro_tipo_anuncio.count()} linhas no dataframe com \"Usado\" na coluna tipo_anuncio'"
      ],
      "metadata": {
        "colab": {
          "base_uri": "https://localhost:8080/",
          "height": 35
        },
        "id": "iTxlYVRUiXvO",
        "outputId": "ac3c6f84-db95-48b4-f838-3f8fb3ba0674"
      },
      "execution_count": 72,
      "outputs": [
        {
          "output_type": "execute_result",
          "data": {
            "text/plain": [
              "'Há 88827 linhas no dataframe com \"Usado\" na coluna tipo_anuncio'"
            ],
            "application/vnd.google.colaboratory.intrinsic+json": {
              "type": "string"
            }
          },
          "metadata": {},
          "execution_count": 72
        }
      ]
    },
    {
      "cell_type": "markdown",
      "source": [
        "## Filtrando as três colunas"
      ],
      "metadata": {
        "id": "xajgnvY0izNT"
      }
    },
    {
      "cell_type": "code",
      "source": [
        "# é possível, então, filtrar os dados como solicitado no desafio:\n",
        "\n",
        "# tipo_uso - Residencial\n",
        "# tipo_unidade - Apartamento\n",
        "# tipo_anuncio - Usado\n",
        "\n",
        "anuncio.where('tipo_uso == \"Residencial\" and tipo_unidade == \"Apartamento\" and tipo_anuncio == \"Usado\"').show()"
      ],
      "metadata": {
        "colab": {
          "base_uri": "https://localhost:8080/"
        },
        "id": "YyRSzX0CYgrk",
        "outputId": "406fefee-4c8c-4205-ffbf-0db276a837e0"
      },
      "execution_count": 56,
      "outputs": [
        {
          "output_type": "stream",
          "name": "stdout",
          "text": [
            "+-----+----------+---------+---------+--------------------+--------------------+--------------------+-------+------+------------+------------+-----------+----+--------------------+\n",
            "|andar|area_total|area_util|banheiros|     caracteristicas|            endereco|                  id|quartos|suites|tipo_anuncio|tipo_unidade|   tipo_uso|vaga|             valores|\n",
            "+-----+----------+---------+---------+--------------------+--------------------+--------------------+-------+------+------------+------------+-----------+----+--------------------+\n",
            "|    3|      [43]|     [43]|      [1]|[Academia, Churra...|{Paciência, 23585...|d2e3a3aa-09b5-45a...|    [2]|    []|       Usado| Apartamento|Residencial| [1]|[{245, null, Vend...|\n",
            "|    2|      [42]|     [42]|      [1]|[Churrasqueira, P...|{Paciência, 23585...|085bab2c-87ad-452...|    [2]|    []|       Usado| Apartamento|Residencial| [1]|[{0, 0, Venda, 15...|\n",
            "|    1|      [41]|     [41]|      [1]|[Portaria 24h, Co...|{Guaratiba, 23036...|18d22cbe-1b86-476...|    [2]|    []|       Usado| Apartamento|Residencial| [1]|[{0, 0, Venda, 20...|\n",
            "|    3|      [43]|     [43]|      [1]|[Churrasqueira, P...|{Cosmos, 23066271...|bed8a354-9317-442...|    [2]|    []|       Usado| Apartamento|Residencial| [0]|[{285, null, Vend...|\n",
            "|    2|      [43]|     [43]|      [1]|[Academia, Churra...|{Guaratiba, 23036...|12a13315-d67f-48f...|    [2]|    []|       Usado| Apartamento|Residencial| [1]|[{245, null, Vend...|\n",
            "|    3|      [43]|     [43]|      [1]|[Churrasqueira, P...|{Cosmos, 23066271...|a2e6d7a5-0ff0-484...|    [2]|   [0]|       Usado| Apartamento|Residencial| [0]|[{285, null, Vend...|\n",
            "|    3|      [43]|     [43]|      [1]|[Churrasqueira, P...|{Paciência, 23585...|a6e3173b-c950-4db...|    [2]|    []|       Usado| Apartamento|Residencial| [1]|[{250, null, Vend...|\n",
            "|    3|      [43]|     [43]|      [1]|[Churrasqueira, P...|{Guaratiba, 23036...|2e6e5dfb-206c-496...|    [2]|   [0]|       Usado| Apartamento|Residencial| [1]|[{245, null, Vend...|\n",
            "|    3|      [43]|     [43]|      [1]|[Churrasqueira, P...|{Paciência, 23585...|99f8d0f9-95a4-461...|    [2]|   [0]|       Usado| Apartamento|Residencial| [1]|[{245, null, Vend...|\n",
            "|    4|      [43]|     [43]|      [1]|[Churrasqueira, P...|{Guaratiba, 23036...|b3f44c1a-2d50-4d5...|    [2]|    []|       Usado| Apartamento|Residencial| [1]|[{240, null, Vend...|\n",
            "|    0|      [60]|     [60]|      [1]|[Condomínio fechado]|{Pedra de Guarati...|dc99d9e1-4c63-41f...|    [2]|    []|       Usado| Apartamento|Residencial| [1]|[{0, 0, Venda, 15...|\n",
            "|    1|      [43]|     [43]|      [1]|[Churrasqueira, P...|{Cosmos, 23056630...|aa3606d8-8bcd-45e...|    [2]|    []|       Usado| Apartamento|Residencial| [1]|[{240, 0, Venda, ...|\n",
            "|    0|      [43]|     [43]|      [1]|[Churrasqueira, P...|{Campo Grande, 23...|df80b0d5-677c-4be...|    [2]|   [0]|       Usado| Apartamento|Residencial| [0]|[{245, null, Vend...|\n",
            "|    2|      [43]|     [43]|      [1]|[Academia, Churra...|{Santa Cruz, 2352...|3d6c0218-9b7d-474...|    [2]|    []|       Usado| Apartamento|Residencial| [2]|[{290, null, Vend...|\n",
            "|    3|      [43]|     [43]|      [1]|[Salão de festas,...|{Guaratiba, 23020...|304266cc-62d1-4ce...|    [2]|    []|       Usado| Apartamento|Residencial|  []|[{285, null, Vend...|\n",
            "|    4|      [55]|     [55]|      [2]|[Academia, Churra...|{Recreio dos Band...|111472a2-afa1-4a7...|    [2]|   [1]|       Usado| Apartamento|Residencial| [1]|[{0, 0, Venda, 30...|\n",
            "|    0|      [45]|     [45]|      [1]|[Playground, Pisc...|{Cosmos, 23066271...|275c1589-6537-4bf...|    [2]|   [0]|       Usado| Apartamento|Residencial| [1]|[{null, null, Ven...|\n",
            "|    5|      [42]|     [42]|      [1]|[Condomínio fecha...|{Realengo, 217251...|ab8f367f-7509-45c...|    [2]|   [0]|       Usado| Apartamento|Residencial| [0]|[{280, 0, Venda, ...|\n",
            "|    1|      [43]|     [43]|      [1]|[Churrasqueira, P...|{Cosmos, 23058001...|e0a3d370-66dd-4f5...|    [2]|    []|       Usado| Apartamento|Residencial| [1]|[{280, null, Vend...|\n",
            "|    3|        []|     [55]|      [1]|[Academia, Churra...|{Todos os Santos,...|09c8ba2d-dbf1-487...|    [2]|   [1]|       Usado| Apartamento|Residencial| [1]|[{0, 0, Venda, 26...|\n",
            "+-----+----------+---------+---------+--------------------+--------------------+--------------------+-------+------+------------+------------+-----------+----+--------------------+\n",
            "only showing top 20 rows\n",
            "\n"
          ]
        }
      ]
    },
    {
      "cell_type": "code",
      "source": [
        "anuncio.where('tipo_uso == \"Residencial\" and tipo_unidade == \"Apartamento\" and tipo_anuncio == \"Usado\"').count()"
      ],
      "metadata": {
        "colab": {
          "base_uri": "https://localhost:8080/"
        },
        "id": "9uFulPMwbQ9c",
        "outputId": "9f238c8a-c0e8-444f-99ce-1c2c3853f5f9"
      },
      "execution_count": 76,
      "outputs": [
        {
          "output_type": "execute_result",
          "data": {
            "text/plain": [
              "66562"
            ]
          },
          "metadata": {},
          "execution_count": 76
        }
      ]
    },
    {
      "cell_type": "markdown",
      "source": [
        "# Tratamento dos dados das colunas quartos, suites, banheiros, vaga, area_total e area_util"
      ],
      "metadata": {
        "id": "OdrdpkjKks2x"
      }
    },
    {
      "cell_type": "code",
      "source": [
        "from pyspark.sql.types import IntegerType\n",
        "from pyspark.sql import functions as f"
      ],
      "metadata": {
        "id": "S4nns7NibSQk"
      },
      "execution_count": 79,
      "outputs": []
    },
    {
      "cell_type": "code",
      "source": [
        "# convertendo a coluna quartos de um array para int:\n",
        "\n",
        "anuncio = anuncio.withColumn('quartos', anuncio['quartos'][0].cast(IntegerType()))"
      ],
      "metadata": {
        "id": "3uY6vfdyoKwL"
      },
      "execution_count": 91,
      "outputs": []
    },
    {
      "cell_type": "code",
      "source": [
        "# convertendo a coluna suites de um array para int:\n",
        "\n",
        "anuncio = anuncio.withColumn('suites', anuncio['suites'][0].cast(IntegerType()))"
      ],
      "metadata": {
        "id": "WQgkO9OMre9z"
      },
      "execution_count": 93,
      "outputs": []
    },
    {
      "cell_type": "code",
      "source": [
        "# convertendo a coluna banheiros de um array para int:\n",
        "\n",
        "anuncio = anuncio.withColumn('banheiros', anuncio['banheiros'][0].cast(IntegerType()))"
      ],
      "metadata": {
        "id": "SoQfeOOmrvjr"
      },
      "execution_count": 94,
      "outputs": []
    },
    {
      "cell_type": "code",
      "source": [
        "# convertendo a coluna vagas de um array para int:\n",
        "\n",
        "anuncio = anuncio.withColumn('vaga', anuncio['vaga'][0].cast(IntegerType()))"
      ],
      "metadata": {
        "id": "y4OPuAu5r2Pq"
      },
      "execution_count": 96,
      "outputs": []
    },
    {
      "cell_type": "code",
      "source": [
        "# convertendo a coluna area_total de um array para int:\n",
        "\n",
        "anuncio = anuncio.withColumn('area_total', anuncio['area_total'][0].cast(IntegerType()))"
      ],
      "metadata": {
        "id": "gQ78ZFawr7iI"
      },
      "execution_count": 97,
      "outputs": []
    },
    {
      "cell_type": "code",
      "source": [
        "# convertendo a coluna area_util de um array para int:\n",
        "\n",
        "anuncio = anuncio.withColumn('area_util', anuncio['area_util'][0].cast(IntegerType()))"
      ],
      "metadata": {
        "id": "EI0KQoiJzUbt"
      },
      "execution_count": 98,
      "outputs": []
    },
    {
      "cell_type": "code",
      "source": [
        "anuncio.show(5)"
      ],
      "metadata": {
        "colab": {
          "base_uri": "https://localhost:8080/"
        },
        "id": "9CX69mmgzZPw",
        "outputId": "9c2ed16c-f2d5-4745-8341-34c8e1c96ce4"
      },
      "execution_count": 100,
      "outputs": [
        {
          "output_type": "stream",
          "name": "stdout",
          "text": [
            "+-----+----------+---------+---------+--------------------+--------------------+--------------------+-------+------+------------+------------+-----------+----+--------------------+\n",
            "|andar|area_total|area_util|banheiros|     caracteristicas|            endereco|                  id|quartos|suites|tipo_anuncio|tipo_unidade|   tipo_uso|vaga|             valores|\n",
            "+-----+----------+---------+---------+--------------------+--------------------+--------------------+-------+------+------------+------------+-----------+----+--------------------+\n",
            "|    0|      null|       16|        0|                  []|{Centro, 20061003...|47d553e0-79f2-4a4...|      0|     0|       Usado|      Outros|  Comercial|   1|[{260, 107, Venda...|\n",
            "|    0|      null|       14|        0|                  []|{Centro, 20051040...|b6ffbae1-17f6-487...|      0|  null|       Usado|      Outros|  Comercial|   0|[{260, 107, Venda...|\n",
            "|    0|      1026|     1026|        0|                  []|{Maria da Graça, ...|1fb030a5-9e3e-4a1...|      0|  null|       Usado|      Outros|  Comercial|   0|[{null, 1613, Ven...|\n",
            "|    0|       120|      120|        0|[Portão eletrônic...|{Campo Grande, 23...|ac6cb348-69d6-45a...|      0|  null|       Usado|      Outros|Residencial|null|[{80, null, Venda...|\n",
            "|    0|         3|        3|        0|                  []|{São Cristóvão, 2...|e032b908-ef42-4d4...|      0|  null|       Usado|      Outros|Residencial|null|[{0, 0, Venda, 50...|\n",
            "+-----+----------+---------+---------+--------------------+--------------------+--------------------+-------+------+------------+------------+-----------+----+--------------------+\n",
            "only showing top 5 rows\n",
            "\n"
          ]
        }
      ]
    },
    {
      "cell_type": "code",
      "source": [
        "# para verificar se os tipos dos dados foram realmente transformados:\n",
        "\n",
        "anuncio.printSchema()"
      ],
      "metadata": {
        "colab": {
          "base_uri": "https://localhost:8080/"
        },
        "id": "NamzKipQzfQJ",
        "outputId": "2c94259e-0736-4c75-8cc4-70548fb05224"
      },
      "execution_count": 101,
      "outputs": [
        {
          "output_type": "stream",
          "name": "stdout",
          "text": [
            "root\n",
            " |-- andar: long (nullable = true)\n",
            " |-- area_total: integer (nullable = true)\n",
            " |-- area_util: integer (nullable = true)\n",
            " |-- banheiros: integer (nullable = true)\n",
            " |-- caracteristicas: array (nullable = true)\n",
            " |    |-- element: string (containsNull = true)\n",
            " |-- endereco: struct (nullable = true)\n",
            " |    |-- bairro: string (nullable = true)\n",
            " |    |-- cep: string (nullable = true)\n",
            " |    |-- cidade: string (nullable = true)\n",
            " |    |-- estado: string (nullable = true)\n",
            " |    |-- latitude: double (nullable = true)\n",
            " |    |-- longitude: double (nullable = true)\n",
            " |    |-- pais: string (nullable = true)\n",
            " |    |-- rua: string (nullable = true)\n",
            " |    |-- zona: string (nullable = true)\n",
            " |-- id: string (nullable = true)\n",
            " |-- quartos: integer (nullable = true)\n",
            " |-- suites: integer (nullable = true)\n",
            " |-- tipo_anuncio: string (nullable = true)\n",
            " |-- tipo_unidade: string (nullable = true)\n",
            " |-- tipo_uso: string (nullable = true)\n",
            " |-- vaga: integer (nullable = true)\n",
            " |-- valores: array (nullable = true)\n",
            " |    |-- element: struct (containsNull = true)\n",
            " |    |    |-- condominio: string (nullable = true)\n",
            " |    |    |-- iptu: string (nullable = true)\n",
            " |    |    |-- tipo: string (nullable = true)\n",
            " |    |    |-- valor: string (nullable = true)\n",
            "\n"
          ]
        }
      ]
    },
    {
      "cell_type": "code",
      "source": [
        "# instancia-se a variável valores, contendo apenas informações de valores:\n",
        "\n",
        "valores = anuncio.select('valores')\n",
        "valores.show(5)"
      ],
      "metadata": {
        "colab": {
          "base_uri": "https://localhost:8080/"
        },
        "id": "SuSfckFxzrxX",
        "outputId": "5a8c2568-5215-4f2e-ab0c-fe38af944c5f"
      },
      "execution_count": 117,
      "outputs": [
        {
          "output_type": "stream",
          "name": "stdout",
          "text": [
            "+--------------------+\n",
            "|             valores|\n",
            "+--------------------+\n",
            "|[{260, 107, Venda...|\n",
            "|[{260, 107, Venda...|\n",
            "|[{null, 1613, Ven...|\n",
            "|[{80, null, Venda...|\n",
            "|[{0, 0, Venda, 50...|\n",
            "+--------------------+\n",
            "only showing top 5 rows\n",
            "\n"
          ]
        }
      ]
    },
    {
      "cell_type": "markdown",
      "source": [
        "# Tratamento da coluna endereço"
      ],
      "metadata": {
        "id": "9t79epuI9STB"
      }
    },
    {
      "cell_type": "code",
      "source": [
        "endereco = anuncio.select('endereco')\n",
        "endereco.show(5)"
      ],
      "metadata": {
        "colab": {
          "base_uri": "https://localhost:8080/"
        },
        "id": "PFCN_Wsy_njp",
        "outputId": "057e06e7-364c-462d-c6cd-afdf97fe54f5"
      },
      "execution_count": 139,
      "outputs": [
        {
          "output_type": "stream",
          "name": "stdout",
          "text": [
            "+--------------------+\n",
            "|            endereco|\n",
            "+--------------------+\n",
            "|{Centro, 20061003...|\n",
            "|{Centro, 20051040...|\n",
            "|{Maria da Graça, ...|\n",
            "|{Campo Grande, 23...|\n",
            "|{São Cristóvão, 2...|\n",
            "+--------------------+\n",
            "only showing top 5 rows\n",
            "\n"
          ]
        }
      ]
    },
    {
      "cell_type": "code",
      "source": [
        "endereco = endereco.withColumn('bairro', endereco['endereco']['bairro'])\n",
        "endereco = endereco.withColumn('zona', endereco['endereco']['zona'])\n",
        "endereco.show(5)"
      ],
      "metadata": {
        "colab": {
          "base_uri": "https://localhost:8080/"
        },
        "id": "SdmhFaLg_t9P",
        "outputId": "5f65c6be-688a-4ce8-e450-5fa9d3fed053"
      },
      "execution_count": 140,
      "outputs": [
        {
          "output_type": "stream",
          "name": "stdout",
          "text": [
            "+--------------------+--------------+------------+\n",
            "|            endereco|        bairro|        zona|\n",
            "+--------------------+--------------+------------+\n",
            "|{Centro, 20061003...|        Centro|Zona Central|\n",
            "|{Centro, 20051040...|        Centro|Zona Central|\n",
            "|{Maria da Graça, ...|Maria da Graça|  Zona Norte|\n",
            "|{Campo Grande, 23...|  Campo Grande|  Zona Oeste|\n",
            "|{São Cristóvão, 2...| São Cristóvão|  Zona Norte|\n",
            "+--------------------+--------------+------------+\n",
            "only showing top 5 rows\n",
            "\n"
          ]
        }
      ]
    },
    {
      "cell_type": "code",
      "source": [
        "# adicionam-se as colunas bairro e zona ao dataframe:\n",
        "\n",
        "# bairro:\n",
        "\n",
        "anuncio = anuncio.withColumn('bairro', anuncio['endereco']['bairro'])\n",
        "anuncio.show(1)"
      ],
      "metadata": {
        "colab": {
          "base_uri": "https://localhost:8080/"
        },
        "id": "vAf0xUL49RFR",
        "outputId": "9e6f0a29-de2e-4e14-c624-95c0bd88c909"
      },
      "execution_count": 137,
      "outputs": [
        {
          "output_type": "stream",
          "name": "stdout",
          "text": [
            "+-----+----------+---------+---------+---------------+--------------------+--------------------+-------+------+------------+------------+---------+----+----------+----+----+-----+------+\n",
            "|andar|area_total|area_util|banheiros|caracteristicas|            endereco|                  id|quartos|suites|tipo_anuncio|tipo_unidade| tipo_uso|vaga|condominio|iptu|tipo|valor|bairro|\n",
            "+-----+----------+---------+---------+---------------+--------------------+--------------------+-------+------+------------+------------+---------+----+----------+----+----+-----+------+\n",
            "|    0|      null|       16|        0|             []|{Centro, 20061003...|47d553e0-79f2-4a4...|      0|     0|       Usado|      Outros|Comercial|   1|       260| 107|null|10000|Centro|\n",
            "+-----+----------+---------+---------+---------------+--------------------+--------------------+-------+------+------------+------------+---------+----+----------+----+----+-----+------+\n",
            "only showing top 1 row\n",
            "\n"
          ]
        }
      ]
    },
    {
      "cell_type": "code",
      "source": [
        "# zona:\n",
        "\n",
        "anuncio = anuncio.withColumn('zona', anuncio['endereco']['zona'])\n",
        "anuncio.show(1)"
      ],
      "metadata": {
        "colab": {
          "base_uri": "https://localhost:8080/"
        },
        "id": "xjGev6Ms_MYh",
        "outputId": "86bef76f-ff57-4a11-9615-bb45dc6b11b7"
      },
      "execution_count": 138,
      "outputs": [
        {
          "output_type": "stream",
          "name": "stdout",
          "text": [
            "+-----+----------+---------+---------+---------------+--------------------+--------------------+-------+------+------------+------------+---------+----+----------+----+----+-----+------+------------+\n",
            "|andar|area_total|area_util|banheiros|caracteristicas|            endereco|                  id|quartos|suites|tipo_anuncio|tipo_unidade| tipo_uso|vaga|condominio|iptu|tipo|valor|bairro|        zona|\n",
            "+-----+----------+---------+---------+---------------+--------------------+--------------------+-------+------+------------+------------+---------+----+----------+----+----+-----+------+------------+\n",
            "|    0|      null|       16|        0|             []|{Centro, 20061003...|47d553e0-79f2-4a4...|      0|     0|       Usado|      Outros|Comercial|   1|       260| 107|null|10000|Centro|Zona Central|\n",
            "+-----+----------+---------+---------+---------------+--------------------+--------------------+-------+------+------------+------------+---------+----+----------+----+----+-----+------+------------+\n",
            "only showing top 1 row\n",
            "\n"
          ]
        }
      ]
    },
    {
      "cell_type": "markdown",
      "source": [
        "# Tratamento e transformação dos dados da coluna valores"
      ],
      "metadata": {
        "id": "Sh6FfBsK8Ccl"
      }
    },
    {
      "cell_type": "code",
      "source": [
        "# adiciona-se, então, novas tabelas como os valores para condominio, iptu, tipo e valor.\n",
        "\n",
        "# condominio:\n",
        "\n",
        "anuncio = anuncio.withColumn('condominio', anuncio['valores']['condominio'][0].cast(IntegerType()))\n",
        "anuncio.show(1)"
      ],
      "metadata": {
        "colab": {
          "base_uri": "https://localhost:8080/"
        },
        "id": "NFOIcr4w2hXP",
        "outputId": "5f1fabe5-24dc-40c5-ebf5-d3578df4861e"
      },
      "execution_count": 129,
      "outputs": [
        {
          "output_type": "stream",
          "name": "stdout",
          "text": [
            "+-----+----------+---------+---------+---------------+--------------------+--------------------+-------+------+------------+------------+---------+----+--------------------+----------+-----+-------+-------+\n",
            "|andar|area_total|area_util|banheiros|caracteristicas|            endereco|                  id|quartos|suites|tipo_anuncio|tipo_unidade| tipo_uso|vaga|             valores|condominio| iptu|   tipo|  valor|\n",
            "+-----+----------+---------+---------+---------------+--------------------+--------------------+-------+------+------------+------------+---------+----+--------------------+----------+-----+-------+-------+\n",
            "|    0|      null|       16|        0|             []|{Centro, 20061003...|47d553e0-79f2-4a4...|      0|     0|       Usado|      Outros|Comercial|   1|[{260, 107, Venda...|       260|[107]|[Venda]|[10000]|\n",
            "+-----+----------+---------+---------+---------------+--------------------+--------------------+-------+------+------------+------------+---------+----+--------------------+----------+-----+-------+-------+\n",
            "only showing top 1 row\n",
            "\n"
          ]
        }
      ]
    },
    {
      "cell_type": "code",
      "source": [
        "# iptu:\n",
        "\n",
        "anuncio = anuncio.withColumn('iptu', anuncio['valores']['iptu'][0].cast(IntegerType()))\n",
        "anuncio.show(1)"
      ],
      "metadata": {
        "colab": {
          "base_uri": "https://localhost:8080/"
        },
        "id": "3FhVeQZz3wdi",
        "outputId": "4a6e3c14-34b6-4265-b40e-80e6204d2c4f"
      },
      "execution_count": 130,
      "outputs": [
        {
          "output_type": "stream",
          "name": "stdout",
          "text": [
            "+-----+----------+---------+---------+---------------+--------------------+--------------------+-------+------+------------+------------+---------+----+--------------------+----------+----+-------+-------+\n",
            "|andar|area_total|area_util|banheiros|caracteristicas|            endereco|                  id|quartos|suites|tipo_anuncio|tipo_unidade| tipo_uso|vaga|             valores|condominio|iptu|   tipo|  valor|\n",
            "+-----+----------+---------+---------+---------------+--------------------+--------------------+-------+------+------------+------------+---------+----+--------------------+----------+----+-------+-------+\n",
            "|    0|      null|       16|        0|             []|{Centro, 20061003...|47d553e0-79f2-4a4...|      0|     0|       Usado|      Outros|Comercial|   1|[{260, 107, Venda...|       260| 107|[Venda]|[10000]|\n",
            "+-----+----------+---------+---------+---------------+--------------------+--------------------+-------+------+------------+------------+---------+----+--------------------+----------+----+-------+-------+\n",
            "only showing top 1 row\n",
            "\n"
          ]
        }
      ]
    },
    {
      "cell_type": "code",
      "source": [
        "# tipo:\n",
        "\n",
        "anuncio = anuncio.withColumn('tipo', anuncio['valores']['tipo'][0].cast(IntegerType()))\n",
        "anuncio.show(1)"
      ],
      "metadata": {
        "colab": {
          "base_uri": "https://localhost:8080/"
        },
        "id": "OBtZTSNT4dpM",
        "outputId": "69105702-86de-4791-f1d0-ae672220ce3f"
      },
      "execution_count": 131,
      "outputs": [
        {
          "output_type": "stream",
          "name": "stdout",
          "text": [
            "+-----+----------+---------+---------+---------------+--------------------+--------------------+-------+------+------------+------------+---------+----+--------------------+----------+----+----+-------+\n",
            "|andar|area_total|area_util|banheiros|caracteristicas|            endereco|                  id|quartos|suites|tipo_anuncio|tipo_unidade| tipo_uso|vaga|             valores|condominio|iptu|tipo|  valor|\n",
            "+-----+----------+---------+---------+---------------+--------------------+--------------------+-------+------+------------+------------+---------+----+--------------------+----------+----+----+-------+\n",
            "|    0|      null|       16|        0|             []|{Centro, 20061003...|47d553e0-79f2-4a4...|      0|     0|       Usado|      Outros|Comercial|   1|[{260, 107, Venda...|       260| 107|null|[10000]|\n",
            "+-----+----------+---------+---------+---------------+--------------------+--------------------+-------+------+------------+------------+---------+----+--------------------+----------+----+----+-------+\n",
            "only showing top 1 row\n",
            "\n"
          ]
        }
      ]
    },
    {
      "cell_type": "code",
      "source": [
        "# valor:\n",
        "\n",
        "anuncio = anuncio.withColumn('valor', anuncio['valores']['valor'][0].cast(IntegerType()))\n",
        "anuncio.show(1)"
      ],
      "metadata": {
        "colab": {
          "base_uri": "https://localhost:8080/"
        },
        "id": "Ebrn42QO4zfv",
        "outputId": "ea14565b-ffbc-4fe2-d3cd-2e855958c067"
      },
      "execution_count": 132,
      "outputs": [
        {
          "output_type": "stream",
          "name": "stdout",
          "text": [
            "+-----+----------+---------+---------+---------------+--------------------+--------------------+-------+------+------------+------------+---------+----+--------------------+----------+----+----+-----+\n",
            "|andar|area_total|area_util|banheiros|caracteristicas|            endereco|                  id|quartos|suites|tipo_anuncio|tipo_unidade| tipo_uso|vaga|             valores|condominio|iptu|tipo|valor|\n",
            "+-----+----------+---------+---------+---------------+--------------------+--------------------+-------+------+------------+------------+---------+----+--------------------+----------+----+----+-----+\n",
            "|    0|      null|       16|        0|             []|{Centro, 20061003...|47d553e0-79f2-4a4...|      0|     0|       Usado|      Outros|Comercial|   1|[{260, 107, Venda...|       260| 107|null|10000|\n",
            "+-----+----------+---------+---------+---------------+--------------------+--------------------+-------+------+------------+------------+---------+----+--------------------+----------+----+----+-----+\n",
            "only showing top 1 row\n",
            "\n"
          ]
        }
      ]
    },
    {
      "cell_type": "code",
      "source": [
        "# por fim, elimina-se a coluna valores, deixando apenas aquelas que foram derivadas desta:\n",
        "\n",
        "anuncio = anuncio.drop('valores')\n",
        "anuncio.show()"
      ],
      "metadata": {
        "colab": {
          "base_uri": "https://localhost:8080/"
        },
        "id": "XB9dlr4o4_Yv",
        "outputId": "b9c4c28a-8cd1-4a66-f770-4fb5113cf6b1"
      },
      "execution_count": 135,
      "outputs": [
        {
          "output_type": "stream",
          "name": "stdout",
          "text": [
            "+-----+----------+---------+---------+--------------------+--------------------+--------------------+-------+------+------------+------------+-----------+----+----------+----+----+-----+\n",
            "|andar|area_total|area_util|banheiros|     caracteristicas|            endereco|                  id|quartos|suites|tipo_anuncio|tipo_unidade|   tipo_uso|vaga|condominio|iptu|tipo|valor|\n",
            "+-----+----------+---------+---------+--------------------+--------------------+--------------------+-------+------+------------+------------+-----------+----+----------+----+----+-----+\n",
            "|    0|      null|       16|        0|                  []|{Centro, 20061003...|47d553e0-79f2-4a4...|      0|     0|       Usado|      Outros|  Comercial|   1|       260| 107|null|10000|\n",
            "|    0|      null|       14|        0|                  []|{Centro, 20051040...|b6ffbae1-17f6-487...|      0|  null|       Usado|      Outros|  Comercial|   0|       260| 107|null|10000|\n",
            "|    0|      1026|     1026|        0|                  []|{Maria da Graça, ...|1fb030a5-9e3e-4a1...|      0|  null|       Usado|      Outros|  Comercial|   0|      null|1613|null|10000|\n",
            "|    0|       120|      120|        0|[Portão eletrônic...|{Campo Grande, 23...|ac6cb348-69d6-45a...|      0|  null|       Usado|      Outros|Residencial|null|        80|null|null|10000|\n",
            "|    0|         3|        3|        0|                  []|{São Cristóvão, 2...|e032b908-ef42-4d4...|      0|  null|       Usado|      Outros|Residencial|null|         0|   0|null| 5000|\n",
            "|    0|        20|       15|        1|                  []|{Centro, 20231047...|df9cf0b8-b972-433...|      0|  null|       Usado|      Outros|  Comercial|   1|       223|  87|null|18500|\n",
            "|    3|        43|       43|        1|[Academia, Churra...|{Paciência, 23585...|d2e3a3aa-09b5-45a...|      2|  null|       Usado| Apartamento|Residencial|   1|       245|null|null|15000|\n",
            "|    2|        42|       42|        1|[Churrasqueira, P...|{Paciência, 23585...|085bab2c-87ad-452...|      2|  null|       Usado| Apartamento|Residencial|   1|         0|   0|null|15000|\n",
            "|    0|      null|       12|        0|[Portaria 24h, El...|{Centro, 20231047...|096ad966-dc36-47b...|      0|  null|       Usado|      Outros|  Comercial|   1|       250|null|null|20000|\n",
            "|    1|        41|       41|        1|[Portaria 24h, Co...|{Guaratiba, 23036...|18d22cbe-1b86-476...|      2|  null|       Usado| Apartamento|Residencial|   1|         0|   0|null|20000|\n",
            "|    3|        43|       43|        1|[Churrasqueira, P...|{Cosmos, 23066271...|bed8a354-9317-442...|      2|  null|       Usado| Apartamento|Residencial|   0|       285|null|null|20000|\n",
            "|    0|        10|        4|        0|[Elevador, Portar...|{Centro, 20080021...|b7d0fbd3-0b28-420...|      0|  null|       Usado|      Outros|  Comercial|   0|       200|  86|null|11500|\n",
            "|    0|        12|       12|        1|      [Portaria 24h]|{Copacabana, 2202...|c6571c11-166e-4a4...|      0|  null|       Usado|      Outros|  Comercial|null|       470|null|null|12000|\n",
            "|    0|        17|       17|        0|          [Elevador]|{Centro, 20070021...|46d5b560-205f-45f...|      0|  null|       Usado|      Outros|  Comercial|   1|       294|  98|null|18000|\n",
            "|    1|        32|       32|     null|[Elevador, Condom...|{Centro, 20090020...|db197997-00e6-4d6...|   null|  null|       Usado|      Outros|  Comercial|   1|       684|null|null|15000|\n",
            "|    0|      null|       10|        0|[Elevador, Condom...|{Saúde, 20080040,...|835d4338-4aa9-4e4...|      0|  null|       Usado|      Outros|  Comercial|null|         0| 120|null|20000|\n",
            "|    2|        43|       43|        1|[Academia, Churra...|{Guaratiba, 23036...|12a13315-d67f-48f...|      2|  null|       Usado| Apartamento|Residencial|   1|       245|null|null|15000|\n",
            "|    3|        43|       43|        1|[Churrasqueira, P...|{Cosmos, 23066271...|a2e6d7a5-0ff0-484...|      2|     0|       Usado| Apartamento|Residencial|   0|       285|null|null|20000|\n",
            "|    3|        43|       43|        1|[Churrasqueira, P...|{Paciência, 23585...|a6e3173b-c950-4db...|      2|  null|       Usado| Apartamento|Residencial|   1|       250|null|null|15000|\n",
            "|    3|        43|       43|        1|[Churrasqueira, P...|{Guaratiba, 23036...|2e6e5dfb-206c-496...|      2|     0|       Usado| Apartamento|Residencial|   1|       245|null|null|15000|\n",
            "+-----+----------+---------+---------+--------------------+--------------------+--------------------+-------+------+------------+------------+-----------+----+----------+----+----+-----+\n",
            "only showing top 20 rows\n",
            "\n"
          ]
        }
      ]
    },
    {
      "cell_type": "code",
      "source": [
        "anuncio.printSchema()"
      ],
      "metadata": {
        "colab": {
          "base_uri": "https://localhost:8080/"
        },
        "id": "r1qs51Sn9fDI",
        "outputId": "f08ad7e3-3f1f-4beb-8da3-a3b98c15ba2b"
      },
      "execution_count": 136,
      "outputs": [
        {
          "output_type": "stream",
          "name": "stdout",
          "text": [
            "root\n",
            " |-- andar: long (nullable = true)\n",
            " |-- area_total: integer (nullable = true)\n",
            " |-- area_util: integer (nullable = true)\n",
            " |-- banheiros: integer (nullable = true)\n",
            " |-- caracteristicas: array (nullable = true)\n",
            " |    |-- element: string (containsNull = true)\n",
            " |-- endereco: struct (nullable = true)\n",
            " |    |-- bairro: string (nullable = true)\n",
            " |    |-- cep: string (nullable = true)\n",
            " |    |-- cidade: string (nullable = true)\n",
            " |    |-- estado: string (nullable = true)\n",
            " |    |-- latitude: double (nullable = true)\n",
            " |    |-- longitude: double (nullable = true)\n",
            " |    |-- pais: string (nullable = true)\n",
            " |    |-- rua: string (nullable = true)\n",
            " |    |-- zona: string (nullable = true)\n",
            " |-- id: string (nullable = true)\n",
            " |-- quartos: integer (nullable = true)\n",
            " |-- suites: integer (nullable = true)\n",
            " |-- tipo_anuncio: string (nullable = true)\n",
            " |-- tipo_unidade: string (nullable = true)\n",
            " |-- tipo_uso: string (nullable = true)\n",
            " |-- vaga: integer (nullable = true)\n",
            " |-- condominio: integer (nullable = true)\n",
            " |-- iptu: integer (nullable = true)\n",
            " |-- tipo: integer (nullable = true)\n",
            " |-- valor: integer (nullable = true)\n",
            "\n"
          ]
        }
      ]
    },
    {
      "cell_type": "markdown",
      "source": [
        "# Salvando o arquivo em formato Parquet"
      ],
      "metadata": {
        "id": "A2xOvSGZAI-Q"
      }
    },
    {
      "cell_type": "code",
      "source": [
        "data.write.parquet('dataset_tratado')"
      ],
      "metadata": {
        "id": "oDAsaiOfALK6"
      },
      "execution_count": 141,
      "outputs": []
    }
  ]
}