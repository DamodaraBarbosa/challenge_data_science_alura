{
  "nbformat": 4,
  "nbformat_minor": 0,
  "metadata": {
    "colab": {
      "provenance": [],
      "mount_file_id": "1QqSXf6vA_68WQ6gBFsZ9ANDkHEZ4X3t7",
      "authorship_tag": "ABX9TyPrLVuZyJ/CtWcTHRwchJSE",
      "include_colab_link": true
    },
    "kernelspec": {
      "name": "python3",
      "display_name": "Python 3"
    },
    "language_info": {
      "name": "python"
    }
  },
  "cells": [
    {
      "cell_type": "markdown",
      "metadata": {
        "id": "view-in-github",
        "colab_type": "text"
      },
      "source": [
        "<a href=\"https://colab.research.google.com/github/DamodaraBarbosa/challenge_data_science_alura_week_1/blob/main/Challenge_Data_Science_Alura_Semana_2.ipynb\" target=\"_parent\"><img src=\"https://colab.research.google.com/assets/colab-badge.svg\" alt=\"Open In Colab\"/></a>"
      ]
    },
    {
      "cell_type": "markdown",
      "source": [
        "Instalando dependências do Spark"
      ],
      "metadata": {
        "id": "rCMCb42AgP_7"
      }
    },
    {
      "cell_type": "code",
      "execution_count": 128,
      "metadata": {
        "id": "UMsa41Wwecx3"
      },
      "outputs": [],
      "source": [
        "!apt-get update -qq\n",
        "!apt-get install openjdk-8-jdk-headless -qq > /dev/null\n",
        "!wget -q https://archive.apache.org/dist/spark/spark-3.1.2/spark-3.1.2-bin-hadoop2.7.tgz\n",
        "!tar xf spark-3.1.2-bin-hadoop2.7.tgz\n",
        "!pip install -q findspark"
      ]
    },
    {
      "cell_type": "markdown",
      "source": [
        "Importando OS"
      ],
      "metadata": {
        "id": "T-x9Cu_FgT68"
      }
    },
    {
      "cell_type": "code",
      "source": [
        "import os\n",
        "os.environ[\"JAVA_HOME\"] = \"/usr/lib/jvm/java-8-openjdk-amd64\"\n",
        "os.environ[\"SPARK_HOME\"] = \"/content/spark-3.1.2-bin-hadoop2.7\""
      ],
      "metadata": {
        "id": "kutuZ3ZHekGq"
      },
      "execution_count": 129,
      "outputs": []
    },
    {
      "cell_type": "markdown",
      "source": [
        "Importando o Spark Session"
      ],
      "metadata": {
        "id": "fy8wy-M2gac9"
      }
    },
    {
      "cell_type": "code",
      "source": [
        "import findspark\n",
        "findspark.init()"
      ],
      "metadata": {
        "id": "QJjgFUaYel0B"
      },
      "execution_count": 130,
      "outputs": []
    },
    {
      "cell_type": "code",
      "source": [
        "from pyspark.sql import SparkSession\n",
        "\n",
        "spark = SparkSession.builder \\\n",
        "    .master('local[*]') \\\n",
        "    .appName(\"Iniciando com Spark\") \\\n",
        "    .getOrCreate()"
      ],
      "metadata": {
        "id": "dQ9MtsfOenPX"
      },
      "execution_count": 131,
      "outputs": []
    },
    {
      "cell_type": "code",
      "source": [
        "spark"
      ],
      "metadata": {
        "colab": {
          "base_uri": "https://localhost:8080/",
          "height": 219
        },
        "id": "5B5pIzRrerB4",
        "outputId": "7b361d42-6f3f-4ab5-ed5c-31b353211845"
      },
      "execution_count": 132,
      "outputs": [
        {
          "output_type": "execute_result",
          "data": {
            "text/plain": [
              "<pyspark.sql.session.SparkSession at 0x7fa03c9fb340>"
            ],
            "text/html": [
              "\n",
              "            <div>\n",
              "                <p><b>SparkSession - in-memory</b></p>\n",
              "                \n",
              "        <div>\n",
              "            <p><b>SparkContext</b></p>\n",
              "\n",
              "            <p><a href=\"http://d937f32c7a0f:4040\">Spark UI</a></p>\n",
              "\n",
              "            <dl>\n",
              "              <dt>Version</dt>\n",
              "                <dd><code>v3.1.2</code></dd>\n",
              "              <dt>Master</dt>\n",
              "                <dd><code>local[*]</code></dd>\n",
              "              <dt>AppName</dt>\n",
              "                <dd><code>Iniciando com Spark</code></dd>\n",
              "            </dl>\n",
              "        </div>\n",
              "        \n",
              "            </div>\n",
              "        "
            ]
          },
          "metadata": {},
          "execution_count": 132
        }
      ]
    },
    {
      "cell_type": "markdown",
      "source": [
        "# Carregando dados no dataframe"
      ],
      "metadata": {
        "id": "AgiMmfIbg1zy"
      }
    },
    {
      "cell_type": "code",
      "source": [
        "data = spark.read.parquet('/content/drive/MyDrive/Alura/Challenge Data Science/part-00000-00341ba7-0a7c-4fef-a81e-1066725a64b1-c000.snappy.parquet')"
      ],
      "metadata": {
        "id": "Kee9IS-dgcsp"
      },
      "execution_count": 133,
      "outputs": []
    },
    {
      "cell_type": "code",
      "source": [
        "data.show(10)"
      ],
      "metadata": {
        "colab": {
          "base_uri": "https://localhost:8080/"
        },
        "id": "PVD_zKWJhIsK",
        "outputId": "d2c2b045-eb04-4f7e-c385-b9acc29a20d5"
      },
      "execution_count": 134,
      "outputs": [
        {
          "output_type": "stream",
          "name": "stdout",
          "text": [
            "+--------------------+-----+----------+---------+---------+--------------------+-------+------+------------+------------+-----------+----+--------------------+------------+----------+----+-----+------+\n",
            "|                  id|andar|area_total|area_util|banheiros|     caracteristicas|quartos|suites|tipo_anuncio|tipo_unidade|   tipo_uso|vaga|              bairro|        zona|condominio|iptu| tipo| valor|\n",
            "+--------------------+-----+----------+---------+---------+--------------------+-------+------+------------+------------+-----------+----+--------------------+------------+----------+----+-----+------+\n",
            "|03a386b6-7ab8-4ef...|    0|        43|       43|        1|[Churrasqueira, A...|      2|  null|       Usado| Apartamento|Residencial|   1|            Realengo|  Zona Oeste|       285|null|Venda| 22999|\n",
            "|1fe78d41-b8e0-4d2...|    0|        44|       44|        1|                  []|      2|     0|       Usado| Apartamento|Residencial|   0|               Irajá|  Zona Norte|       170|   0|Venda|110000|\n",
            "|1fa1c1e5-e98c-433...|    4|      null|       55|        1|                  []|      2|     0|       Usado| Apartamento|Residencial|   1|              Cosmos|  Zona Oeste|      null|null|Venda|115000|\n",
            "|a6ab01ae-3d40-40e...|    2|      null|       55|        1|                  []|      2|     0|       Usado| Apartamento|Residencial|   0|        Tomás Coelho|  Zona Norte|      null|null|Venda|115000|\n",
            "|1d8ff7a2-16bd-4e3...|    0|      null|       50|        1|                  []|      1|  null|       Usado| Apartamento|Residencial|   0|              Centro|Zona Central|      1300|2679|Venda|125000|\n",
            "|40a2cbde-946b-42d...|    2|        47|       47|        1|[Condomínio fecha...|      2|     0|       Usado| Apartamento|Residencial|   1|        Campo Grande|  Zona Oeste|       380|null|Venda|138000|\n",
            "|be269ddf-a4a3-4a7...|    0|     17089|       45|        1|[Churrasqueira, C...|      2|     0|       Usado| Apartamento|Residencial|   1|        Campo Grande|  Zona Oeste|       356|   0|Venda|140000|\n",
            "|4b7e3d59-34fd-4ba...|    3|        48|       48|        1|[Churrasqueira, P...|      2|  null|       Usado| Apartamento|Residencial|   1|        Campo Grande|  Zona Oeste|         0|   0|Venda|150000|\n",
            "|a1a0c2ac-4fa8-4b0...|    9|      null|       55|        1|[Churrasqueira, E...|      2|  null|       Usado| Apartamento|Residencial|   1|Freguesia (Jacare...|  Zona Oeste|       780| 660|Venda|160000|\n",
            "|390d2b88-e06d-47e...|    0|        70|       70|        2|   [Salão de festas]|      2|     0|       Usado| Apartamento|Residencial|   1|          Praça Seca|  Zona Oeste|    420000|null|Venda|159000|\n",
            "+--------------------+-----+----------+---------+---------+--------------------+-------+------+------------+------------+-----------+----+--------------------+------------+----------+----+-----+------+\n",
            "only showing top 10 rows\n",
            "\n"
          ]
        }
      ]
    },
    {
      "cell_type": "markdown",
      "source": [
        "# Seleção de features"
      ],
      "metadata": {
        "id": "P-XmRw_shb3N"
      }
    },
    {
      "cell_type": "code",
      "source": [
        "# para selecionar as features utiliza-se o método distinct() a fim de obter os valores únicos para cada coluna do dataframe, num primeiro momento suspeita-se\n",
        "# das colunas tipo_anuncio, tipo_uso e tipo."
      ],
      "metadata": {
        "id": "wJfPGXQlhd4r"
      },
      "execution_count": 135,
      "outputs": []
    },
    {
      "cell_type": "markdown",
      "source": [
        "### Coluna tipo_anuncio"
      ],
      "metadata": {
        "id": "CJNsBWvBh7jd"
      }
    },
    {
      "cell_type": "code",
      "source": [
        "data.select('tipo_anuncio').distinct().show()"
      ],
      "metadata": {
        "colab": {
          "base_uri": "https://localhost:8080/"
        },
        "id": "Zg4FZshkhNoH",
        "outputId": "6ebe8f5b-d85a-4b19-adff-efd501b84cd3"
      },
      "execution_count": 136,
      "outputs": [
        {
          "output_type": "stream",
          "name": "stdout",
          "text": [
            "+------------+\n",
            "|tipo_anuncio|\n",
            "+------------+\n",
            "|       Usado|\n",
            "+------------+\n",
            "\n"
          ]
        }
      ]
    },
    {
      "cell_type": "code",
      "source": [
        "# todos os dados da coluna tipo_anuncio são iguais: \"Usado\""
      ],
      "metadata": {
        "id": "QMm1KVi2iktp"
      },
      "execution_count": 137,
      "outputs": []
    },
    {
      "cell_type": "markdown",
      "source": [
        "### Coluna tipo_uso"
      ],
      "metadata": {
        "id": "XfzwcgRsiusr"
      }
    },
    {
      "cell_type": "code",
      "source": [
        "data.select('tipo_uso').distinct().show()"
      ],
      "metadata": {
        "colab": {
          "base_uri": "https://localhost:8080/"
        },
        "id": "Ao1wOMyciteP",
        "outputId": "25948803-bc80-47b1-f650-f0f2bb0661b1"
      },
      "execution_count": 138,
      "outputs": [
        {
          "output_type": "stream",
          "name": "stdout",
          "text": [
            "+-----------+\n",
            "|   tipo_uso|\n",
            "+-----------+\n",
            "|Residencial|\n",
            "+-----------+\n",
            "\n"
          ]
        }
      ]
    },
    {
      "cell_type": "code",
      "source": [
        "# todos os dados da coluna tipo_uso são iguais: \"Residencial\""
      ],
      "metadata": {
        "id": "WNvA0plDiz0g"
      },
      "execution_count": 139,
      "outputs": []
    },
    {
      "cell_type": "markdown",
      "source": [
        "### Coluna tipo_unidade"
      ],
      "metadata": {
        "id": "J0C6rEKV7qMa"
      }
    },
    {
      "cell_type": "code",
      "source": [
        "data.select('tipo_unidade').distinct().show()"
      ],
      "metadata": {
        "colab": {
          "base_uri": "https://localhost:8080/"
        },
        "id": "jj3U2d-v7k1N",
        "outputId": "f93494ed-4350-41e7-bc4b-de50f73797ca"
      },
      "execution_count": 140,
      "outputs": [
        {
          "output_type": "stream",
          "name": "stdout",
          "text": [
            "+------------+\n",
            "|tipo_unidade|\n",
            "+------------+\n",
            "| Apartamento|\n",
            "+------------+\n",
            "\n"
          ]
        }
      ]
    },
    {
      "cell_type": "code",
      "source": [
        "# todos os dados da coluna tipo_unidade são iguais: \"Apartamento\""
      ],
      "metadata": {
        "id": "iIj3Ngxy7uH9"
      },
      "execution_count": 141,
      "outputs": []
    },
    {
      "cell_type": "markdown",
      "source": [
        "### Coluna tipo"
      ],
      "metadata": {
        "id": "LrOSAhJUi6ZS"
      }
    },
    {
      "cell_type": "code",
      "source": [
        "data.select('tipo').distinct().show()"
      ],
      "metadata": {
        "colab": {
          "base_uri": "https://localhost:8080/"
        },
        "id": "ruDbFeGTi4Ny",
        "outputId": "30493763-5156-4916-c860-854fee889ee3"
      },
      "execution_count": 142,
      "outputs": [
        {
          "output_type": "stream",
          "name": "stdout",
          "text": [
            "+-----+\n",
            "| tipo|\n",
            "+-----+\n",
            "|Venda|\n",
            "+-----+\n",
            "\n"
          ]
        }
      ]
    },
    {
      "cell_type": "code",
      "source": [
        "# todos os dados da coluna tipo são iguais: \"Venda\""
      ],
      "metadata": {
        "id": "EIr63C1Ci-fk"
      },
      "execution_count": 143,
      "outputs": []
    },
    {
      "cell_type": "markdown",
      "source": [
        "## Drop das colunas tipo_anuncio, tipo_uso, tipo_unidade e tipo\n"
      ],
      "metadata": {
        "id": "IdsoYVSc661L"
      }
    },
    {
      "cell_type": "code",
      "source": [
        "# como as colunas citadas acima possuem apenas uma única informação, podem ser eliminadas do dataframe a fim de deixar apenas dados mais significativos:\n",
        "\n",
        "data = data.drop('tipo_anuncio')\n",
        "data = data.drop('tipo_uso')\n",
        "data = data.drop('tipo_unidade')\n",
        "data = data.drop('tipo')\n",
        "data.show(5)"
      ],
      "metadata": {
        "colab": {
          "base_uri": "https://localhost:8080/"
        },
        "id": "YvJ6r7m87C_H",
        "outputId": "88cc67ee-9d2e-418e-c7e9-0346d51922cf"
      },
      "execution_count": 144,
      "outputs": [
        {
          "output_type": "stream",
          "name": "stdout",
          "text": [
            "+--------------------+-----+----------+---------+---------+--------------------+-------+------+----+------------+------------+----------+----+------+\n",
            "|                  id|andar|area_total|area_util|banheiros|     caracteristicas|quartos|suites|vaga|      bairro|        zona|condominio|iptu| valor|\n",
            "+--------------------+-----+----------+---------+---------+--------------------+-------+------+----+------------+------------+----------+----+------+\n",
            "|03a386b6-7ab8-4ef...|    0|        43|       43|        1|[Churrasqueira, A...|      2|  null|   1|    Realengo|  Zona Oeste|       285|null| 22999|\n",
            "|1fe78d41-b8e0-4d2...|    0|        44|       44|        1|                  []|      2|     0|   0|       Irajá|  Zona Norte|       170|   0|110000|\n",
            "|1fa1c1e5-e98c-433...|    4|      null|       55|        1|                  []|      2|     0|   1|      Cosmos|  Zona Oeste|      null|null|115000|\n",
            "|a6ab01ae-3d40-40e...|    2|      null|       55|        1|                  []|      2|     0|   0|Tomás Coelho|  Zona Norte|      null|null|115000|\n",
            "|1d8ff7a2-16bd-4e3...|    0|      null|       50|        1|                  []|      1|  null|   0|      Centro|Zona Central|      1300|2679|125000|\n",
            "+--------------------+-----+----------+---------+---------+--------------------+-------+------+----+------------+------------+----------+----+------+\n",
            "only showing top 5 rows\n",
            "\n"
          ]
        }
      ]
    },
    {
      "cell_type": "markdown",
      "source": [
        "## Colunas area_total e area_util"
      ],
      "metadata": {
        "id": "B2GmevS9kZVY"
      }
    },
    {
      "cell_type": "code",
      "source": [
        "# contando os valores da coluna area_total:\n",
        "\n",
        "data.select('area_total').groupBy('area_total').count().show()"
      ],
      "metadata": {
        "colab": {
          "base_uri": "https://localhost:8080/"
        },
        "id": "YX_1KWl-keSj",
        "outputId": "a5aa9ff7-33cd-4638-9ecd-cc10c9478d59"
      },
      "execution_count": 145,
      "outputs": [
        {
          "output_type": "stream",
          "name": "stdout",
          "text": [
            "+----------+-----+\n",
            "|area_total|count|\n",
            "+----------+-----+\n",
            "|       296|   31|\n",
            "|       691|    1|\n",
            "|       675|    1|\n",
            "|       125|  253|\n",
            "|       800|    5|\n",
            "|   5698720|    1|\n",
            "|        51|  206|\n",
            "|       124|  159|\n",
            "|         7|    2|\n",
            "|       447|    1|\n",
            "|       307|   25|\n",
            "|     17583|    3|\n",
            "|      1695|    1|\n",
            "|      1500|    1|\n",
            "|       205|   44|\n",
            "|       169|   75|\n",
            "|      7402|    4|\n",
            "|       334|    6|\n",
            "|       544|    1|\n",
            "|       272|   11|\n",
            "+----------+-----+\n",
            "only showing top 20 rows\n",
            "\n"
          ]
        }
      ]
    },
    {
      "cell_type": "code",
      "source": [
        "# contando os valores area_util:\n",
        "\n",
        "data.select('area_util').groupBy('area_util').count().show()"
      ],
      "metadata": {
        "colab": {
          "base_uri": "https://localhost:8080/"
        },
        "id": "x4TovKqpjiah",
        "outputId": "1b9efc2b-d657-4fbd-a271-1fe437609aa5"
      },
      "execution_count": 146,
      "outputs": [
        {
          "output_type": "stream",
          "name": "stdout",
          "text": [
            "+---------+-----+\n",
            "|area_util|count|\n",
            "+---------+-----+\n",
            "|      296|   33|\n",
            "|      675|    1|\n",
            "|      125|  287|\n",
            "|      800|    5|\n",
            "|      944|    2|\n",
            "|       51|  273|\n",
            "|      124|  174|\n",
            "|      447|    1|\n",
            "|      307|   29|\n",
            "|      205|   49|\n",
            "|      169|   90|\n",
            "|      334|    6|\n",
            "|      544|    1|\n",
            "|      740|    1|\n",
            "|      272|   11|\n",
            "|      470|   11|\n",
            "|      462|    2|\n",
            "|       54|  414|\n",
            "|      232|   41|\n",
            "|      234|   37|\n",
            "+---------+-----+\n",
            "only showing top 20 rows\n",
            "\n"
          ]
        }
      ]
    },
    {
      "cell_type": "code",
      "source": [
        "# apesar de existirem vários valores que se repetem, visualizando-os de maneira mais ampla vemos que estes são abrangentes e não podem ser descartados."
      ],
      "metadata": {
        "id": "gNwvAiTisszi"
      },
      "execution_count": 147,
      "outputs": []
    },
    {
      "cell_type": "code",
      "source": [
        "# para contar os valores nulos nas colunas area_total e area_util temos que:\n",
        "\n",
        "from pyspark.sql.functions import col, isnan, when, count, lit\n",
        "\n",
        "null_area = data.select([count(when(isnan(c) | col(c).isNull(), c)).alias(c) for c in data.select(['area_total', 'area_util']).columns])\n",
        "null_area.show()"
      ],
      "metadata": {
        "colab": {
          "base_uri": "https://localhost:8080/"
        },
        "id": "9ccNgnF4pLp5",
        "outputId": "b3aed49e-2d9c-480a-bf14-71561c65f54a"
      },
      "execution_count": 148,
      "outputs": [
        {
          "output_type": "stream",
          "name": "stdout",
          "text": [
            "+----------+---------+\n",
            "|area_total|area_util|\n",
            "+----------+---------+\n",
            "|      9194|        0|\n",
            "+----------+---------+\n",
            "\n"
          ]
        }
      ]
    },
    {
      "cell_type": "code",
      "source": [
        "# apenas a coluna area_total possui dados nulos."
      ],
      "metadata": {
        "id": "B2p6DqE7vz1u"
      },
      "execution_count": 149,
      "outputs": []
    },
    {
      "cell_type": "markdown",
      "source": [
        "# Convertendo os tipos das colunas"
      ],
      "metadata": {
        "id": "yAzUwUEev_7j"
      }
    },
    {
      "cell_type": "code",
      "source": [
        "from pyspark.sql.types import IntegerType, DoubleType"
      ],
      "metadata": {
        "id": "WbiGQZI2wJyY"
      },
      "execution_count": 150,
      "outputs": []
    },
    {
      "cell_type": "code",
      "source": [
        "data.printSchema()"
      ],
      "metadata": {
        "colab": {
          "base_uri": "https://localhost:8080/"
        },
        "id": "-K6SO6nEtJm0",
        "outputId": "0800c692-5664-4d56-a376-f1ec39869b1d"
      },
      "execution_count": 151,
      "outputs": [
        {
          "output_type": "stream",
          "name": "stdout",
          "text": [
            "root\n",
            " |-- id: string (nullable = true)\n",
            " |-- andar: long (nullable = true)\n",
            " |-- area_total: string (nullable = true)\n",
            " |-- area_util: string (nullable = true)\n",
            " |-- banheiros: long (nullable = true)\n",
            " |-- caracteristicas: array (nullable = true)\n",
            " |    |-- element: string (containsNull = true)\n",
            " |-- quartos: long (nullable = true)\n",
            " |-- suites: long (nullable = true)\n",
            " |-- vaga: long (nullable = true)\n",
            " |-- bairro: string (nullable = true)\n",
            " |-- zona: string (nullable = true)\n",
            " |-- condominio: string (nullable = true)\n",
            " |-- iptu: string (nullable = true)\n",
            " |-- valor: string (nullable = true)\n",
            "\n"
          ]
        }
      ]
    },
    {
      "cell_type": "markdown",
      "source": [
        "## Para o tipo Integer"
      ],
      "metadata": {
        "id": "gCSysSRsiqLh"
      }
    },
    {
      "cell_type": "markdown",
      "source": [
        "Coluna andar"
      ],
      "metadata": {
        "id": "4sKt30N1g6wa"
      }
    },
    {
      "cell_type": "code",
      "source": [
        "data = data.withColumn('andar', data['andar'].cast(IntegerType()))"
      ],
      "metadata": {
        "id": "O-GsE1ouwDji"
      },
      "execution_count": 152,
      "outputs": []
    },
    {
      "cell_type": "markdown",
      "source": [
        "Coluna banheiros"
      ],
      "metadata": {
        "id": "EbZV7JzIhUQ3"
      }
    },
    {
      "cell_type": "code",
      "source": [
        "data = data.withColumn('banheiros', data['banheiros'].cast(IntegerType()))"
      ],
      "metadata": {
        "id": "fBc-Kn4fhQ29"
      },
      "execution_count": 153,
      "outputs": []
    },
    {
      "cell_type": "markdown",
      "source": [
        "Coluna suites"
      ],
      "metadata": {
        "id": "UNo9R_RxhhdN"
      }
    },
    {
      "cell_type": "code",
      "source": [
        "data = data.withColumn('suites', data['suites'].cast(IntegerType()))"
      ],
      "metadata": {
        "id": "clagkWoQhhD-"
      },
      "execution_count": 154,
      "outputs": []
    },
    {
      "cell_type": "markdown",
      "source": [
        "Coluna quartos"
      ],
      "metadata": {
        "id": "vjy__V4JhqCM"
      }
    },
    {
      "cell_type": "code",
      "source": [
        "data = data.withColumn('quartos', data['quartos'].cast(IntegerType()))"
      ],
      "metadata": {
        "id": "1L60jDRWhtU_"
      },
      "execution_count": 155,
      "outputs": []
    },
    {
      "cell_type": "markdown",
      "source": [
        "## Para o tipo Double"
      ],
      "metadata": {
        "id": "A9I4EQrBivjV"
      }
    },
    {
      "cell_type": "markdown",
      "source": [
        "Coluna area_total"
      ],
      "metadata": {
        "id": "nerCxS_lix8A"
      }
    },
    {
      "cell_type": "code",
      "source": [
        "data = data.withColumn('area_total', data['area_total'].cast(DoubleType()))"
      ],
      "metadata": {
        "id": "XLF3fu1_wk5C"
      },
      "execution_count": 156,
      "outputs": []
    },
    {
      "cell_type": "markdown",
      "source": [
        "Coluna area_util"
      ],
      "metadata": {
        "id": "NmmPisFLjL2L"
      }
    },
    {
      "cell_type": "code",
      "source": [
        "data = data.withColumn('area_util', data['area_util'].cast(DoubleType()))"
      ],
      "metadata": {
        "id": "-d1C_-r1wpmj"
      },
      "execution_count": 157,
      "outputs": []
    },
    {
      "cell_type": "markdown",
      "source": [
        "Coluna condominio"
      ],
      "metadata": {
        "id": "B7j4FXj4jU8T"
      }
    },
    {
      "cell_type": "code",
      "source": [
        "data = data.withColumn('condominio', data['condominio'].cast(DoubleType()))"
      ],
      "metadata": {
        "id": "HV6DKKy1jUT1"
      },
      "execution_count": 158,
      "outputs": []
    },
    {
      "cell_type": "markdown",
      "source": [
        "Coluna iptu"
      ],
      "metadata": {
        "id": "kWjtBQG3jkSb"
      }
    },
    {
      "cell_type": "code",
      "source": [
        "data = data.withColumn('iptu', data['iptu'].cast(DoubleType()))"
      ],
      "metadata": {
        "id": "4rYGNrvBjdPk"
      },
      "execution_count": 159,
      "outputs": []
    },
    {
      "cell_type": "markdown",
      "source": [
        "Coluna valor"
      ],
      "metadata": {
        "id": "cplXCuLWj0mb"
      }
    },
    {
      "cell_type": "code",
      "source": [
        "data = data.withColumn('valor', data['valor'].cast(DoubleType()))"
      ],
      "metadata": {
        "id": "B3fcom8kjrrP"
      },
      "execution_count": 160,
      "outputs": []
    },
    {
      "cell_type": "code",
      "source": [
        "# por fim, mostra-se o Schema dos dados para verificar se houve a conversão dos tipos dos dados das colunas:\n",
        "\n",
        "data.printSchema()"
      ],
      "metadata": {
        "colab": {
          "base_uri": "https://localhost:8080/"
        },
        "id": "LfWmPkyAj1dj",
        "outputId": "030afd9b-879a-4419-ac1f-0eef7e0eba47"
      },
      "execution_count": 161,
      "outputs": [
        {
          "output_type": "stream",
          "name": "stdout",
          "text": [
            "root\n",
            " |-- id: string (nullable = true)\n",
            " |-- andar: integer (nullable = true)\n",
            " |-- area_total: double (nullable = true)\n",
            " |-- area_util: double (nullable = true)\n",
            " |-- banheiros: integer (nullable = true)\n",
            " |-- caracteristicas: array (nullable = true)\n",
            " |    |-- element: string (containsNull = true)\n",
            " |-- quartos: integer (nullable = true)\n",
            " |-- suites: integer (nullable = true)\n",
            " |-- vaga: long (nullable = true)\n",
            " |-- bairro: string (nullable = true)\n",
            " |-- zona: string (nullable = true)\n",
            " |-- condominio: double (nullable = true)\n",
            " |-- iptu: double (nullable = true)\n",
            " |-- valor: double (nullable = true)\n",
            "\n"
          ]
        }
      ]
    },
    {
      "cell_type": "markdown",
      "source": [
        "# Tratamento da coluna características"
      ],
      "metadata": {
        "id": "bSAYN8jUkZWJ"
      }
    },
    {
      "cell_type": "code",
      "source": [
        "import pyspark.sql.functions as F"
      ],
      "metadata": {
        "id": "7wV7R7IlmrHn"
      },
      "execution_count": 162,
      "outputs": []
    },
    {
      "cell_type": "code",
      "source": [
        "# os dados em que a coluna caracteristicas apresentan arrays vazios:\n",
        "\n",
        "data.filter(F.size('caracteristicas') == 0).show(5)"
      ],
      "metadata": {
        "colab": {
          "base_uri": "https://localhost:8080/"
        },
        "id": "ZiMCUVJkj_wl",
        "outputId": "8525a82b-1cc0-4fae-f0d6-1bb902a8e696"
      },
      "execution_count": 163,
      "outputs": [
        {
          "output_type": "stream",
          "name": "stdout",
          "text": [
            "+--------------------+-----+----------+---------+---------+---------------+-------+------+----+------------+------------+----------+------+--------+\n",
            "|                  id|andar|area_total|area_util|banheiros|caracteristicas|quartos|suites|vaga|      bairro|        zona|condominio|  iptu|   valor|\n",
            "+--------------------+-----+----------+---------+---------+---------------+-------+------+----+------------+------------+----------+------+--------+\n",
            "|1fe78d41-b8e0-4d2...|    0|      44.0|     44.0|        1|             []|      2|     0|   0|       Irajá|  Zona Norte|     170.0|   0.0|110000.0|\n",
            "|1fa1c1e5-e98c-433...|    4|      null|     55.0|        1|             []|      2|     0|   1|      Cosmos|  Zona Oeste|      null|  null|115000.0|\n",
            "|a6ab01ae-3d40-40e...|    2|      null|     55.0|        1|             []|      2|     0|   0|Tomás Coelho|  Zona Norte|      null|  null|115000.0|\n",
            "|1d8ff7a2-16bd-4e3...|    0|      null|     50.0|        1|             []|      1|  null|   0|      Centro|Zona Central|    1300.0|2679.0|125000.0|\n",
            "|47af17f0-1c81-474...|    0|      65.0|     65.0|        1|             []|      2|     0|   1|    Campinho|  Zona Oeste|     432.0|  null|185000.0|\n",
            "+--------------------+-----+----------+---------+---------+---------------+-------+------+----+------------+------------+----------+------+--------+\n",
            "only showing top 5 rows\n",
            "\n"
          ]
        }
      ]
    },
    {
      "cell_type": "code",
      "source": [
        "# São ao todo:\n",
        "\n",
        "f'{data.filter(F.size(\"caracteristicas\") == 0).count()} linhas do dataframe com essa especificidade'"
      ],
      "metadata": {
        "colab": {
          "base_uri": "https://localhost:8080/",
          "height": 35
        },
        "id": "4VERhB7hkh6h",
        "outputId": "24549024-3871-462f-e352-e339b7ebd141"
      },
      "execution_count": 164,
      "outputs": [
        {
          "output_type": "execute_result",
          "data": {
            "text/plain": [
              "'12736 linhas do dataframe com essa especificidade'"
            ],
            "application/vnd.google.colaboratory.intrinsic+json": {
              "type": "string"
            }
          },
          "metadata": {},
          "execution_count": 164
        }
      ]
    },
    {
      "cell_type": "code",
      "source": [
        "# substitui-se os arrays vazios por valores nulos:\n",
        "\n",
        "data = data.withColumn('caracteristicas', F.when((F.size(F.col('caracteristicas')) == 0), F.lit(None)).otherwise(F.col('caracteristicas')))"
      ],
      "metadata": {
        "id": "D2j2fGCiyV6t"
      },
      "execution_count": 165,
      "outputs": []
    },
    {
      "cell_type": "code",
      "source": [
        "# e verifica-se que o número de linhas da coluna caracteristicas com valores nulos é igual ao número de linhas que tinham arrays vazios:\n",
        "\n",
        "data.filter(data['caracteristicas'].isNull()).count()"
      ],
      "metadata": {
        "colab": {
          "base_uri": "https://localhost:8080/"
        },
        "id": "vUgkEIdjywDN",
        "outputId": "6c4c5cbb-7670-4acb-83e8-21b1f5b56a72"
      },
      "execution_count": 166,
      "outputs": [
        {
          "output_type": "execute_result",
          "data": {
            "text/plain": [
              "12736"
            ]
          },
          "metadata": {},
          "execution_count": 166
        }
      ]
    },
    {
      "cell_type": "code",
      "source": [
        "data.filter(data['caracteristicas'].isNull()).show(5)"
      ],
      "metadata": {
        "colab": {
          "base_uri": "https://localhost:8080/"
        },
        "id": "t3he0ogM2-xu",
        "outputId": "0148db1d-7c36-42c2-edb5-6c63a74b903c"
      },
      "execution_count": 167,
      "outputs": [
        {
          "output_type": "stream",
          "name": "stdout",
          "text": [
            "+--------------------+-----+----------+---------+---------+---------------+-------+------+----+------------+------------+----------+------+--------+\n",
            "|                  id|andar|area_total|area_util|banheiros|caracteristicas|quartos|suites|vaga|      bairro|        zona|condominio|  iptu|   valor|\n",
            "+--------------------+-----+----------+---------+---------+---------------+-------+------+----+------------+------------+----------+------+--------+\n",
            "|1fe78d41-b8e0-4d2...|    0|      44.0|     44.0|        1|           null|      2|     0|   0|       Irajá|  Zona Norte|     170.0|   0.0|110000.0|\n",
            "|1fa1c1e5-e98c-433...|    4|      null|     55.0|        1|           null|      2|     0|   1|      Cosmos|  Zona Oeste|      null|  null|115000.0|\n",
            "|a6ab01ae-3d40-40e...|    2|      null|     55.0|        1|           null|      2|     0|   0|Tomás Coelho|  Zona Norte|      null|  null|115000.0|\n",
            "|1d8ff7a2-16bd-4e3...|    0|      null|     50.0|        1|           null|      1|  null|   0|      Centro|Zona Central|    1300.0|2679.0|125000.0|\n",
            "|47af17f0-1c81-474...|    0|      65.0|     65.0|        1|           null|      2|     0|   1|    Campinho|  Zona Oeste|     432.0|  null|185000.0|\n",
            "+--------------------+-----+----------+---------+---------+---------------+-------+------+----+------------+------------+----------+------+--------+\n",
            "only showing top 5 rows\n",
            "\n"
          ]
        }
      ]
    }
  ]
}