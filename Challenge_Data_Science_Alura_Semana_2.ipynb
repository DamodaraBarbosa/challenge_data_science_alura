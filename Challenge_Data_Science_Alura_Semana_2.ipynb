{
  "nbformat": 4,
  "nbformat_minor": 0,
  "metadata": {
    "colab": {
      "provenance": [],
      "mount_file_id": "1QqSXf6vA_68WQ6gBFsZ9ANDkHEZ4X3t7",
      "authorship_tag": "ABX9TyMuicjSxZQmJ178FQqmD444",
      "include_colab_link": true
    },
    "kernelspec": {
      "name": "python3",
      "display_name": "Python 3"
    },
    "language_info": {
      "name": "python"
    }
  },
  "cells": [
    {
      "cell_type": "markdown",
      "metadata": {
        "id": "view-in-github",
        "colab_type": "text"
      },
      "source": [
        "<a href=\"https://colab.research.google.com/github/DamodaraBarbosa/challenge_data_science_alura/blob/main/Challenge_Data_Science_Alura_Semana_2.ipynb\" target=\"_parent\"><img src=\"https://colab.research.google.com/assets/colab-badge.svg\" alt=\"Open In Colab\"/></a>"
      ]
    },
    {
      "cell_type": "markdown",
      "source": [
        "Instalando dependências do Spark"
      ],
      "metadata": {
        "id": "rCMCb42AgP_7"
      }
    },
    {
      "cell_type": "code",
      "execution_count": 70,
      "metadata": {
        "id": "UMsa41Wwecx3"
      },
      "outputs": [],
      "source": [
        "!apt-get update -qq\n",
        "!apt-get install openjdk-8-jdk-headless -qq > /dev/null\n",
        "!wget -q https://archive.apache.org/dist/spark/spark-3.1.2/spark-3.1.2-bin-hadoop2.7.tgz\n",
        "!tar xf spark-3.1.2-bin-hadoop2.7.tgz\n",
        "!pip install -q findspark"
      ]
    },
    {
      "cell_type": "markdown",
      "source": [
        "Importando OS"
      ],
      "metadata": {
        "id": "T-x9Cu_FgT68"
      }
    },
    {
      "cell_type": "code",
      "source": [
        "import os\n",
        "os.environ[\"JAVA_HOME\"] = \"/usr/lib/jvm/java-8-openjdk-amd64\"\n",
        "os.environ[\"SPARK_HOME\"] = \"/content/spark-3.1.2-bin-hadoop2.7\""
      ],
      "metadata": {
        "id": "kutuZ3ZHekGq"
      },
      "execution_count": 71,
      "outputs": []
    },
    {
      "cell_type": "markdown",
      "source": [
        "Importando o Spark Session"
      ],
      "metadata": {
        "id": "fy8wy-M2gac9"
      }
    },
    {
      "cell_type": "code",
      "source": [
        "import findspark\n",
        "findspark.init()"
      ],
      "metadata": {
        "id": "QJjgFUaYel0B"
      },
      "execution_count": 72,
      "outputs": []
    },
    {
      "cell_type": "code",
      "source": [
        "from pyspark.sql import SparkSession\n",
        "\n",
        "spark = SparkSession.builder \\\n",
        "    .master('local[*]') \\\n",
        "    .appName(\"Iniciando com Spark\") \\\n",
        "    .getOrCreate()"
      ],
      "metadata": {
        "id": "dQ9MtsfOenPX"
      },
      "execution_count": 73,
      "outputs": []
    },
    {
      "cell_type": "code",
      "source": [
        "spark"
      ],
      "metadata": {
        "colab": {
          "base_uri": "https://localhost:8080/",
          "height": 219
        },
        "id": "5B5pIzRrerB4",
        "outputId": "d53281b1-3db3-456f-ca59-5a02cec91b52"
      },
      "execution_count": 74,
      "outputs": [
        {
          "output_type": "execute_result",
          "data": {
            "text/plain": [
              "<pyspark.sql.session.SparkSession at 0x7fe027f51310>"
            ],
            "text/html": [
              "\n",
              "            <div>\n",
              "                <p><b>SparkSession - in-memory</b></p>\n",
              "                \n",
              "        <div>\n",
              "            <p><b>SparkContext</b></p>\n",
              "\n",
              "            <p><a href=\"http://028b5fb133c8:4040\">Spark UI</a></p>\n",
              "\n",
              "            <dl>\n",
              "              <dt>Version</dt>\n",
              "                <dd><code>v3.1.2</code></dd>\n",
              "              <dt>Master</dt>\n",
              "                <dd><code>local[*]</code></dd>\n",
              "              <dt>AppName</dt>\n",
              "                <dd><code>Iniciando com Spark</code></dd>\n",
              "            </dl>\n",
              "        </div>\n",
              "        \n",
              "            </div>\n",
              "        "
            ]
          },
          "metadata": {},
          "execution_count": 74
        }
      ]
    },
    {
      "cell_type": "markdown",
      "source": [
        "# Carregando dados no dataframe"
      ],
      "metadata": {
        "id": "AgiMmfIbg1zy"
      }
    },
    {
      "cell_type": "code",
      "source": [
        "data = spark.read.parquet('/content/drive/MyDrive/Alura/Challenge Data Science/part-00000-00341ba7-0a7c-4fef-a81e-1066725a64b1-c000.snappy.parquet')"
      ],
      "metadata": {
        "id": "Kee9IS-dgcsp"
      },
      "execution_count": 75,
      "outputs": []
    },
    {
      "cell_type": "code",
      "source": [
        "data.show(10)"
      ],
      "metadata": {
        "colab": {
          "base_uri": "https://localhost:8080/"
        },
        "id": "PVD_zKWJhIsK",
        "outputId": "1015163f-5b98-44f6-ee83-c4fee14ebecf"
      },
      "execution_count": 76,
      "outputs": [
        {
          "output_type": "stream",
          "name": "stdout",
          "text": [
            "+--------------------+-----+----------+---------+---------+--------------------+-------+------+------------+------------+-----------+----+--------------------+------------+----------+----+-----+------+\n",
            "|                  id|andar|area_total|area_util|banheiros|     caracteristicas|quartos|suites|tipo_anuncio|tipo_unidade|   tipo_uso|vaga|              bairro|        zona|condominio|iptu| tipo| valor|\n",
            "+--------------------+-----+----------+---------+---------+--------------------+-------+------+------------+------------+-----------+----+--------------------+------------+----------+----+-----+------+\n",
            "|03a386b6-7ab8-4ef...|    0|        43|       43|        1|[Churrasqueira, A...|      2|  null|       Usado| Apartamento|Residencial|   1|            Realengo|  Zona Oeste|       285|null|Venda| 22999|\n",
            "|1fe78d41-b8e0-4d2...|    0|        44|       44|        1|                  []|      2|     0|       Usado| Apartamento|Residencial|   0|               Irajá|  Zona Norte|       170|   0|Venda|110000|\n",
            "|1fa1c1e5-e98c-433...|    4|      null|       55|        1|                  []|      2|     0|       Usado| Apartamento|Residencial|   1|              Cosmos|  Zona Oeste|      null|null|Venda|115000|\n",
            "|a6ab01ae-3d40-40e...|    2|      null|       55|        1|                  []|      2|     0|       Usado| Apartamento|Residencial|   0|        Tomás Coelho|  Zona Norte|      null|null|Venda|115000|\n",
            "|1d8ff7a2-16bd-4e3...|    0|      null|       50|        1|                  []|      1|  null|       Usado| Apartamento|Residencial|   0|              Centro|Zona Central|      1300|2679|Venda|125000|\n",
            "|40a2cbde-946b-42d...|    2|        47|       47|        1|[Condomínio fecha...|      2|     0|       Usado| Apartamento|Residencial|   1|        Campo Grande|  Zona Oeste|       380|null|Venda|138000|\n",
            "|be269ddf-a4a3-4a7...|    0|     17089|       45|        1|[Churrasqueira, C...|      2|     0|       Usado| Apartamento|Residencial|   1|        Campo Grande|  Zona Oeste|       356|   0|Venda|140000|\n",
            "|4b7e3d59-34fd-4ba...|    3|        48|       48|        1|[Churrasqueira, P...|      2|  null|       Usado| Apartamento|Residencial|   1|        Campo Grande|  Zona Oeste|         0|   0|Venda|150000|\n",
            "|a1a0c2ac-4fa8-4b0...|    9|      null|       55|        1|[Churrasqueira, E...|      2|  null|       Usado| Apartamento|Residencial|   1|Freguesia (Jacare...|  Zona Oeste|       780| 660|Venda|160000|\n",
            "|390d2b88-e06d-47e...|    0|        70|       70|        2|   [Salão de festas]|      2|     0|       Usado| Apartamento|Residencial|   1|          Praça Seca|  Zona Oeste|    420000|null|Venda|159000|\n",
            "+--------------------+-----+----------+---------+---------+--------------------+-------+------+------------+------------+-----------+----+--------------------+------------+----------+----+-----+------+\n",
            "only showing top 10 rows\n",
            "\n"
          ]
        }
      ]
    },
    {
      "cell_type": "markdown",
      "source": [
        "# Seleção de features"
      ],
      "metadata": {
        "id": "P-XmRw_shb3N"
      }
    },
    {
      "cell_type": "code",
      "source": [
        "# para selecionar as features utiliza-se o método distinct() a fim de obter os valores únicos para cada coluna do dataframe, num primeiro momento suspeita-se\n",
        "# das colunas tipo_anuncio, tipo_uso e tipo."
      ],
      "metadata": {
        "id": "wJfPGXQlhd4r"
      },
      "execution_count": 77,
      "outputs": []
    },
    {
      "cell_type": "markdown",
      "source": [
        "### Coluna tipo_anuncio"
      ],
      "metadata": {
        "id": "CJNsBWvBh7jd"
      }
    },
    {
      "cell_type": "code",
      "source": [
        "data.select('tipo_anuncio').distinct().show()"
      ],
      "metadata": {
        "colab": {
          "base_uri": "https://localhost:8080/"
        },
        "id": "Zg4FZshkhNoH",
        "outputId": "be8cc909-8406-4895-aa42-4a63fc05daa4"
      },
      "execution_count": 78,
      "outputs": [
        {
          "output_type": "stream",
          "name": "stdout",
          "text": [
            "+------------+\n",
            "|tipo_anuncio|\n",
            "+------------+\n",
            "|       Usado|\n",
            "+------------+\n",
            "\n"
          ]
        }
      ]
    },
    {
      "cell_type": "code",
      "source": [
        "# todos os dados da coluna tipo_anuncio são iguais: \"Usado\""
      ],
      "metadata": {
        "id": "QMm1KVi2iktp"
      },
      "execution_count": 79,
      "outputs": []
    },
    {
      "cell_type": "markdown",
      "source": [
        "### Coluna tipo_uso"
      ],
      "metadata": {
        "id": "XfzwcgRsiusr"
      }
    },
    {
      "cell_type": "code",
      "source": [
        "data.select('tipo_uso').distinct().show()"
      ],
      "metadata": {
        "colab": {
          "base_uri": "https://localhost:8080/"
        },
        "id": "Ao1wOMyciteP",
        "outputId": "03627a53-6afe-48e2-9e27-48d936aa82f1"
      },
      "execution_count": 80,
      "outputs": [
        {
          "output_type": "stream",
          "name": "stdout",
          "text": [
            "+-----------+\n",
            "|   tipo_uso|\n",
            "+-----------+\n",
            "|Residencial|\n",
            "+-----------+\n",
            "\n"
          ]
        }
      ]
    },
    {
      "cell_type": "code",
      "source": [
        "# todos os dados da coluna tipo_uso são iguais: \"Residencial\""
      ],
      "metadata": {
        "id": "WNvA0plDiz0g"
      },
      "execution_count": 81,
      "outputs": []
    },
    {
      "cell_type": "markdown",
      "source": [
        "### Coluna tipo_unidade"
      ],
      "metadata": {
        "id": "J0C6rEKV7qMa"
      }
    },
    {
      "cell_type": "code",
      "source": [
        "data.select('tipo_unidade').distinct().show()"
      ],
      "metadata": {
        "colab": {
          "base_uri": "https://localhost:8080/"
        },
        "id": "jj3U2d-v7k1N",
        "outputId": "b7599d1c-e4c2-4460-88a0-10595aa048d4"
      },
      "execution_count": 82,
      "outputs": [
        {
          "output_type": "stream",
          "name": "stdout",
          "text": [
            "+------------+\n",
            "|tipo_unidade|\n",
            "+------------+\n",
            "| Apartamento|\n",
            "+------------+\n",
            "\n"
          ]
        }
      ]
    },
    {
      "cell_type": "code",
      "source": [
        "# todos os dados da coluna tipo_unidade são iguais: \"Apartamento\""
      ],
      "metadata": {
        "id": "iIj3Ngxy7uH9"
      },
      "execution_count": 83,
      "outputs": []
    },
    {
      "cell_type": "markdown",
      "source": [
        "### Coluna tipo"
      ],
      "metadata": {
        "id": "LrOSAhJUi6ZS"
      }
    },
    {
      "cell_type": "code",
      "source": [
        "data.select('tipo').distinct().show()"
      ],
      "metadata": {
        "colab": {
          "base_uri": "https://localhost:8080/"
        },
        "id": "ruDbFeGTi4Ny",
        "outputId": "d28b017f-6537-4068-de41-17314da181a6"
      },
      "execution_count": 84,
      "outputs": [
        {
          "output_type": "stream",
          "name": "stdout",
          "text": [
            "+-----+\n",
            "| tipo|\n",
            "+-----+\n",
            "|Venda|\n",
            "+-----+\n",
            "\n"
          ]
        }
      ]
    },
    {
      "cell_type": "code",
      "source": [
        "# todos os dados da coluna tipo são iguais: \"Venda\""
      ],
      "metadata": {
        "id": "EIr63C1Ci-fk"
      },
      "execution_count": 85,
      "outputs": []
    },
    {
      "cell_type": "markdown",
      "source": [
        "## Drop das colunas tipo_anuncio, tipo_uso, tipo_unidade e tipo\n"
      ],
      "metadata": {
        "id": "IdsoYVSc661L"
      }
    },
    {
      "cell_type": "code",
      "source": [
        "# como as colunas citadas acima possuem apenas uma única informação, podem ser eliminadas do dataframe a fim de deixar apenas dados mais significativos:\n",
        "\n",
        "data = data.drop('tipo_anuncio')\n",
        "data = data.drop('tipo_uso')\n",
        "data = data.drop('tipo_unidade')\n",
        "data = data.drop('tipo')\n",
        "data.show(5)"
      ],
      "metadata": {
        "colab": {
          "base_uri": "https://localhost:8080/"
        },
        "id": "YvJ6r7m87C_H",
        "outputId": "5532750d-a822-4070-c12b-a12e81d21497"
      },
      "execution_count": 86,
      "outputs": [
        {
          "output_type": "stream",
          "name": "stdout",
          "text": [
            "+--------------------+-----+----------+---------+---------+--------------------+-------+------+----+------------+------------+----------+----+------+\n",
            "|                  id|andar|area_total|area_util|banheiros|     caracteristicas|quartos|suites|vaga|      bairro|        zona|condominio|iptu| valor|\n",
            "+--------------------+-----+----------+---------+---------+--------------------+-------+------+----+------------+------------+----------+----+------+\n",
            "|03a386b6-7ab8-4ef...|    0|        43|       43|        1|[Churrasqueira, A...|      2|  null|   1|    Realengo|  Zona Oeste|       285|null| 22999|\n",
            "|1fe78d41-b8e0-4d2...|    0|        44|       44|        1|                  []|      2|     0|   0|       Irajá|  Zona Norte|       170|   0|110000|\n",
            "|1fa1c1e5-e98c-433...|    4|      null|       55|        1|                  []|      2|     0|   1|      Cosmos|  Zona Oeste|      null|null|115000|\n",
            "|a6ab01ae-3d40-40e...|    2|      null|       55|        1|                  []|      2|     0|   0|Tomás Coelho|  Zona Norte|      null|null|115000|\n",
            "|1d8ff7a2-16bd-4e3...|    0|      null|       50|        1|                  []|      1|  null|   0|      Centro|Zona Central|      1300|2679|125000|\n",
            "+--------------------+-----+----------+---------+---------+--------------------+-------+------+----+------------+------------+----------+----+------+\n",
            "only showing top 5 rows\n",
            "\n"
          ]
        }
      ]
    },
    {
      "cell_type": "markdown",
      "source": [
        "## Colunas area_total e area_util"
      ],
      "metadata": {
        "id": "B2GmevS9kZVY"
      }
    },
    {
      "cell_type": "code",
      "source": [
        "# contando os valores da coluna area_total:\n",
        "\n",
        "data.select('area_total').groupBy('area_total').count().show()"
      ],
      "metadata": {
        "colab": {
          "base_uri": "https://localhost:8080/"
        },
        "id": "YX_1KWl-keSj",
        "outputId": "36ee1d96-6db2-485f-9626-4e9017d8c162"
      },
      "execution_count": 87,
      "outputs": [
        {
          "output_type": "stream",
          "name": "stdout",
          "text": [
            "+----------+-----+\n",
            "|area_total|count|\n",
            "+----------+-----+\n",
            "|       296|   31|\n",
            "|       691|    1|\n",
            "|       675|    1|\n",
            "|       125|  253|\n",
            "|       800|    5|\n",
            "|   5698720|    1|\n",
            "|        51|  206|\n",
            "|       124|  159|\n",
            "|         7|    2|\n",
            "|       447|    1|\n",
            "|       307|   25|\n",
            "|     17583|    3|\n",
            "|      1695|    1|\n",
            "|      1500|    1|\n",
            "|       205|   44|\n",
            "|       169|   75|\n",
            "|      7402|    4|\n",
            "|       334|    6|\n",
            "|       544|    1|\n",
            "|       272|   11|\n",
            "+----------+-----+\n",
            "only showing top 20 rows\n",
            "\n"
          ]
        }
      ]
    },
    {
      "cell_type": "code",
      "source": [
        "# contando os valores area_util:\n",
        "\n",
        "data.select('area_util').groupBy('area_util').count().show()"
      ],
      "metadata": {
        "colab": {
          "base_uri": "https://localhost:8080/"
        },
        "id": "x4TovKqpjiah",
        "outputId": "509f0ef0-cc04-49c2-8f56-be47042c6d5b"
      },
      "execution_count": 88,
      "outputs": [
        {
          "output_type": "stream",
          "name": "stdout",
          "text": [
            "+---------+-----+\n",
            "|area_util|count|\n",
            "+---------+-----+\n",
            "|      296|   33|\n",
            "|      675|    1|\n",
            "|      125|  287|\n",
            "|      800|    5|\n",
            "|      944|    2|\n",
            "|       51|  273|\n",
            "|      124|  174|\n",
            "|      447|    1|\n",
            "|      307|   29|\n",
            "|      205|   49|\n",
            "|      169|   90|\n",
            "|      334|    6|\n",
            "|      544|    1|\n",
            "|      740|    1|\n",
            "|      272|   11|\n",
            "|      470|   11|\n",
            "|      462|    2|\n",
            "|       54|  414|\n",
            "|      232|   41|\n",
            "|      234|   37|\n",
            "+---------+-----+\n",
            "only showing top 20 rows\n",
            "\n"
          ]
        }
      ]
    },
    {
      "cell_type": "code",
      "source": [
        "# apesar de existirem vários valores que se repetem, visualizando-os de maneira mais ampla vemos que estes são abrangentes e não podem ser descartados."
      ],
      "metadata": {
        "id": "gNwvAiTisszi"
      },
      "execution_count": 89,
      "outputs": []
    },
    {
      "cell_type": "code",
      "source": [
        "# para contar os valores nulos nas colunas area_total e area_util temos que:\n",
        "\n",
        "from pyspark.sql.functions import col, isnan, when, count, lit\n",
        "\n",
        "null_area = data.select([count(when(isnan(c) | col(c).isNull(), c)).alias(c) for c in data.select(['area_total', 'area_util']).columns])\n",
        "null_area.show()"
      ],
      "metadata": {
        "colab": {
          "base_uri": "https://localhost:8080/"
        },
        "id": "9ccNgnF4pLp5",
        "outputId": "1c6a513c-f361-4737-ff65-9a8b300c095e"
      },
      "execution_count": 90,
      "outputs": [
        {
          "output_type": "stream",
          "name": "stdout",
          "text": [
            "+----------+---------+\n",
            "|area_total|area_util|\n",
            "+----------+---------+\n",
            "|      9194|        0|\n",
            "+----------+---------+\n",
            "\n"
          ]
        }
      ]
    },
    {
      "cell_type": "code",
      "source": [
        "# apenas a coluna area_total possui dados nulos."
      ],
      "metadata": {
        "id": "B2p6DqE7vz1u"
      },
      "execution_count": 91,
      "outputs": []
    },
    {
      "cell_type": "markdown",
      "source": [
        "# Convertendo os tipos das colunas"
      ],
      "metadata": {
        "id": "yAzUwUEev_7j"
      }
    },
    {
      "cell_type": "code",
      "source": [
        "from pyspark.sql.types import IntegerType, DoubleType"
      ],
      "metadata": {
        "id": "WbiGQZI2wJyY"
      },
      "execution_count": 92,
      "outputs": []
    },
    {
      "cell_type": "code",
      "source": [
        "data.printSchema()"
      ],
      "metadata": {
        "colab": {
          "base_uri": "https://localhost:8080/"
        },
        "id": "-K6SO6nEtJm0",
        "outputId": "2719bb7f-5e38-4628-85e2-205f0973a1a2"
      },
      "execution_count": 93,
      "outputs": [
        {
          "output_type": "stream",
          "name": "stdout",
          "text": [
            "root\n",
            " |-- id: string (nullable = true)\n",
            " |-- andar: long (nullable = true)\n",
            " |-- area_total: string (nullable = true)\n",
            " |-- area_util: string (nullable = true)\n",
            " |-- banheiros: long (nullable = true)\n",
            " |-- caracteristicas: array (nullable = true)\n",
            " |    |-- element: string (containsNull = true)\n",
            " |-- quartos: long (nullable = true)\n",
            " |-- suites: long (nullable = true)\n",
            " |-- vaga: long (nullable = true)\n",
            " |-- bairro: string (nullable = true)\n",
            " |-- zona: string (nullable = true)\n",
            " |-- condominio: string (nullable = true)\n",
            " |-- iptu: string (nullable = true)\n",
            " |-- valor: string (nullable = true)\n",
            "\n"
          ]
        }
      ]
    },
    {
      "cell_type": "markdown",
      "source": [
        "## Para o tipo Integer"
      ],
      "metadata": {
        "id": "gCSysSRsiqLh"
      }
    },
    {
      "cell_type": "markdown",
      "source": [
        "Coluna andar"
      ],
      "metadata": {
        "id": "4sKt30N1g6wa"
      }
    },
    {
      "cell_type": "code",
      "source": [
        "data = data.withColumn('andar', data['andar'].cast(IntegerType()))"
      ],
      "metadata": {
        "id": "O-GsE1ouwDji"
      },
      "execution_count": 94,
      "outputs": []
    },
    {
      "cell_type": "markdown",
      "source": [
        "Coluna banheiros"
      ],
      "metadata": {
        "id": "EbZV7JzIhUQ3"
      }
    },
    {
      "cell_type": "code",
      "source": [
        "data = data.withColumn('banheiros', data['banheiros'].cast(IntegerType()))"
      ],
      "metadata": {
        "id": "fBc-Kn4fhQ29"
      },
      "execution_count": 95,
      "outputs": []
    },
    {
      "cell_type": "markdown",
      "source": [
        "Coluna suites"
      ],
      "metadata": {
        "id": "UNo9R_RxhhdN"
      }
    },
    {
      "cell_type": "code",
      "source": [
        "data = data.withColumn('suites', data['suites'].cast(IntegerType()))"
      ],
      "metadata": {
        "id": "clagkWoQhhD-"
      },
      "execution_count": 96,
      "outputs": []
    },
    {
      "cell_type": "markdown",
      "source": [
        "Coluna quartos"
      ],
      "metadata": {
        "id": "vjy__V4JhqCM"
      }
    },
    {
      "cell_type": "code",
      "source": [
        "data = data.withColumn('quartos', data['quartos'].cast(IntegerType()))"
      ],
      "metadata": {
        "id": "1L60jDRWhtU_"
      },
      "execution_count": 97,
      "outputs": []
    },
    {
      "cell_type": "markdown",
      "source": [
        "## Para o tipo Double"
      ],
      "metadata": {
        "id": "A9I4EQrBivjV"
      }
    },
    {
      "cell_type": "markdown",
      "source": [
        "Coluna area_total"
      ],
      "metadata": {
        "id": "nerCxS_lix8A"
      }
    },
    {
      "cell_type": "code",
      "source": [
        "data = data.withColumn('area_total', data['area_total'].cast(DoubleType()))"
      ],
      "metadata": {
        "id": "XLF3fu1_wk5C"
      },
      "execution_count": 98,
      "outputs": []
    },
    {
      "cell_type": "markdown",
      "source": [
        "Coluna area_util"
      ],
      "metadata": {
        "id": "NmmPisFLjL2L"
      }
    },
    {
      "cell_type": "code",
      "source": [
        "data = data.withColumn('area_util', data['area_util'].cast(DoubleType()))"
      ],
      "metadata": {
        "id": "-d1C_-r1wpmj"
      },
      "execution_count": 99,
      "outputs": []
    },
    {
      "cell_type": "markdown",
      "source": [
        "Coluna condominio"
      ],
      "metadata": {
        "id": "B7j4FXj4jU8T"
      }
    },
    {
      "cell_type": "code",
      "source": [
        "data = data.withColumn('condominio', data['condominio'].cast(DoubleType()))"
      ],
      "metadata": {
        "id": "HV6DKKy1jUT1"
      },
      "execution_count": 100,
      "outputs": []
    },
    {
      "cell_type": "markdown",
      "source": [
        "Coluna iptu"
      ],
      "metadata": {
        "id": "kWjtBQG3jkSb"
      }
    },
    {
      "cell_type": "code",
      "source": [
        "data = data.withColumn('iptu', data['iptu'].cast(DoubleType()))"
      ],
      "metadata": {
        "id": "4rYGNrvBjdPk"
      },
      "execution_count": 101,
      "outputs": []
    },
    {
      "cell_type": "markdown",
      "source": [
        "Coluna valor"
      ],
      "metadata": {
        "id": "cplXCuLWj0mb"
      }
    },
    {
      "cell_type": "code",
      "source": [
        "data = data.withColumn('valor', data['valor'].cast(DoubleType()))"
      ],
      "metadata": {
        "id": "B3fcom8kjrrP"
      },
      "execution_count": 102,
      "outputs": []
    },
    {
      "cell_type": "code",
      "source": [
        "# por fim, mostra-se o Schema dos dados para verificar se houve a conversão dos tipos dos dados das colunas:\n",
        "\n",
        "data.printSchema()"
      ],
      "metadata": {
        "colab": {
          "base_uri": "https://localhost:8080/"
        },
        "id": "LfWmPkyAj1dj",
        "outputId": "2f432fb8-a649-415f-bbe7-008d203449e5"
      },
      "execution_count": 103,
      "outputs": [
        {
          "output_type": "stream",
          "name": "stdout",
          "text": [
            "root\n",
            " |-- id: string (nullable = true)\n",
            " |-- andar: integer (nullable = true)\n",
            " |-- area_total: double (nullable = true)\n",
            " |-- area_util: double (nullable = true)\n",
            " |-- banheiros: integer (nullable = true)\n",
            " |-- caracteristicas: array (nullable = true)\n",
            " |    |-- element: string (containsNull = true)\n",
            " |-- quartos: integer (nullable = true)\n",
            " |-- suites: integer (nullable = true)\n",
            " |-- vaga: long (nullable = true)\n",
            " |-- bairro: string (nullable = true)\n",
            " |-- zona: string (nullable = true)\n",
            " |-- condominio: double (nullable = true)\n",
            " |-- iptu: double (nullable = true)\n",
            " |-- valor: double (nullable = true)\n",
            "\n"
          ]
        }
      ]
    },
    {
      "cell_type": "markdown",
      "source": [
        "# Tratamento da coluna características"
      ],
      "metadata": {
        "id": "bSAYN8jUkZWJ"
      }
    },
    {
      "cell_type": "code",
      "source": [
        "import pyspark.sql.functions as F"
      ],
      "metadata": {
        "id": "7wV7R7IlmrHn"
      },
      "execution_count": 104,
      "outputs": []
    },
    {
      "cell_type": "code",
      "source": [
        "# os dados em que a coluna caracteristicas apresentan arrays vazios:\n",
        "\n",
        "data.filter(F.size('caracteristicas') == 0).show(5)"
      ],
      "metadata": {
        "colab": {
          "base_uri": "https://localhost:8080/"
        },
        "id": "ZiMCUVJkj_wl",
        "outputId": "0533c516-575e-425c-ecd9-ff0f4bba59d5"
      },
      "execution_count": 105,
      "outputs": [
        {
          "output_type": "stream",
          "name": "stdout",
          "text": [
            "+--------------------+-----+----------+---------+---------+---------------+-------+------+----+------------+------------+----------+------+--------+\n",
            "|                  id|andar|area_total|area_util|banheiros|caracteristicas|quartos|suites|vaga|      bairro|        zona|condominio|  iptu|   valor|\n",
            "+--------------------+-----+----------+---------+---------+---------------+-------+------+----+------------+------------+----------+------+--------+\n",
            "|1fe78d41-b8e0-4d2...|    0|      44.0|     44.0|        1|             []|      2|     0|   0|       Irajá|  Zona Norte|     170.0|   0.0|110000.0|\n",
            "|1fa1c1e5-e98c-433...|    4|      null|     55.0|        1|             []|      2|     0|   1|      Cosmos|  Zona Oeste|      null|  null|115000.0|\n",
            "|a6ab01ae-3d40-40e...|    2|      null|     55.0|        1|             []|      2|     0|   0|Tomás Coelho|  Zona Norte|      null|  null|115000.0|\n",
            "|1d8ff7a2-16bd-4e3...|    0|      null|     50.0|        1|             []|      1|  null|   0|      Centro|Zona Central|    1300.0|2679.0|125000.0|\n",
            "|47af17f0-1c81-474...|    0|      65.0|     65.0|        1|             []|      2|     0|   1|    Campinho|  Zona Oeste|     432.0|  null|185000.0|\n",
            "+--------------------+-----+----------+---------+---------+---------------+-------+------+----+------------+------------+----------+------+--------+\n",
            "only showing top 5 rows\n",
            "\n"
          ]
        }
      ]
    },
    {
      "cell_type": "code",
      "source": [
        "# São ao todo:\n",
        "\n",
        "f'{data.filter(F.size(\"caracteristicas\") == 0).count()} linhas do dataframe com essa especificidade'"
      ],
      "metadata": {
        "colab": {
          "base_uri": "https://localhost:8080/",
          "height": 35
        },
        "id": "4VERhB7hkh6h",
        "outputId": "8890fff2-b8b2-4ce7-8994-2f5ac9e94683"
      },
      "execution_count": 106,
      "outputs": [
        {
          "output_type": "execute_result",
          "data": {
            "text/plain": [
              "'12736 linhas do dataframe com essa especificidade'"
            ],
            "application/vnd.google.colaboratory.intrinsic+json": {
              "type": "string"
            }
          },
          "metadata": {},
          "execution_count": 106
        }
      ]
    },
    {
      "cell_type": "code",
      "source": [
        "# substitui-se os arrays vazios por valores nulos:\n",
        "\n",
        "data = data.withColumn('caracteristicas', F.when((F.size(F.col('caracteristicas')) == 0), F.lit(None)).otherwise(F.col('caracteristicas')))"
      ],
      "metadata": {
        "id": "D2j2fGCiyV6t"
      },
      "execution_count": 107,
      "outputs": []
    },
    {
      "cell_type": "code",
      "source": [
        "# e verifica-se que o número de linhas da coluna caracteristicas com valores nulos é igual ao número de linhas que tinham arrays vazios:\n",
        "\n",
        "data.filter(data['caracteristicas'].isNull()).count()"
      ],
      "metadata": {
        "colab": {
          "base_uri": "https://localhost:8080/"
        },
        "id": "vUgkEIdjywDN",
        "outputId": "a0335d1a-f944-44cc-a5b2-cf21ed1b232a"
      },
      "execution_count": 108,
      "outputs": [
        {
          "output_type": "execute_result",
          "data": {
            "text/plain": [
              "12736"
            ]
          },
          "metadata": {},
          "execution_count": 108
        }
      ]
    },
    {
      "cell_type": "code",
      "source": [
        "data.filter(data['caracteristicas'].isNull()).show(5)"
      ],
      "metadata": {
        "colab": {
          "base_uri": "https://localhost:8080/"
        },
        "id": "t3he0ogM2-xu",
        "outputId": "a3140c37-80f5-4c1e-fa96-9ece86fe0b9c"
      },
      "execution_count": 109,
      "outputs": [
        {
          "output_type": "stream",
          "name": "stdout",
          "text": [
            "+--------------------+-----+----------+---------+---------+---------------+-------+------+----+------------+------------+----------+------+--------+\n",
            "|                  id|andar|area_total|area_util|banheiros|caracteristicas|quartos|suites|vaga|      bairro|        zona|condominio|  iptu|   valor|\n",
            "+--------------------+-----+----------+---------+---------+---------------+-------+------+----+------------+------------+----------+------+--------+\n",
            "|1fe78d41-b8e0-4d2...|    0|      44.0|     44.0|        1|           null|      2|     0|   0|       Irajá|  Zona Norte|     170.0|   0.0|110000.0|\n",
            "|1fa1c1e5-e98c-433...|    4|      null|     55.0|        1|           null|      2|     0|   1|      Cosmos|  Zona Oeste|      null|  null|115000.0|\n",
            "|a6ab01ae-3d40-40e...|    2|      null|     55.0|        1|           null|      2|     0|   0|Tomás Coelho|  Zona Norte|      null|  null|115000.0|\n",
            "|1d8ff7a2-16bd-4e3...|    0|      null|     50.0|        1|           null|      1|  null|   0|      Centro|Zona Central|    1300.0|2679.0|125000.0|\n",
            "|47af17f0-1c81-474...|    0|      65.0|     65.0|        1|           null|      2|     0|   1|    Campinho|  Zona Oeste|     432.0|  null|185000.0|\n",
            "+--------------------+-----+----------+---------+---------+---------------+-------+------+----+------------+------------+----------+------+--------+\n",
            "only showing top 5 rows\n",
            "\n"
          ]
        }
      ]
    },
    {
      "cell_type": "markdown",
      "source": [
        "# Tratamento de dados nulos e NaN's"
      ],
      "metadata": {
        "id": "OlT1UL3fhJ2-"
      }
    },
    {
      "cell_type": "code",
      "source": [
        "selected_data = data.select(\n",
        "    'id', 'andar', 'area_total', \n",
        "    'area_util', 'banheiros', 'quartos', \n",
        "    'suites', 'vaga', 'bairro', \n",
        "    'zona', 'condominio', 'iptu', 'valor'\n",
        ")"
      ],
      "metadata": {
        "id": "r6PvN1kdihrI"
      },
      "execution_count": 110,
      "outputs": []
    },
    {
      "cell_type": "code",
      "source": [
        "# a quantidade de valores nulos (None e NaN) para cada coluna:\n",
        "\n",
        "data_count_null = data.select([count(when(isnan(c) | col(c).isNull(), c)).alias(c) for c in selected_data.columns])\n",
        "data_count_null.show()"
      ],
      "metadata": {
        "colab": {
          "base_uri": "https://localhost:8080/"
        },
        "id": "qp1A-2pShNnK",
        "outputId": "120eaca0-4bf2-4df9-b368-b6bf296aa46b"
      },
      "execution_count": 111,
      "outputs": [
        {
          "output_type": "stream",
          "name": "stdout",
          "text": [
            "+---+-----+----------+---------+---------+-------+------+----+------+----+----------+----+-----+\n",
            "| id|andar|area_total|area_util|banheiros|quartos|suites|vaga|bairro|zona|condominio|iptu|valor|\n",
            "+---+-----+----------+---------+---------+-------+------+----+------+----+----------+----+-----+\n",
            "|  0|    0|      9194|        0|        0|      0|  5554|3017|     0|   0|      2371|7199|    0|\n",
            "+---+-----+----------+---------+---------+-------+------+----+------+----+----------+----+-----+\n",
            "\n"
          ]
        }
      ]
    },
    {
      "cell_type": "markdown",
      "source": [
        "## Porcentagem dos valores nulos"
      ],
      "metadata": {
        "id": "QzqKEwQYv8At"
      }
    },
    {
      "cell_type": "code",
      "source": [
        "# um possível tratamento para dados nulos é a eliminação desses dados do dataframe, porém isso só indicado quando os dados nulos não ultrapassam 10% dos dados:\n",
        "\n",
        "total_data = data.count()\n",
        "f'O dataframe possui {total_data} linhas com dados'"
      ],
      "metadata": {
        "colab": {
          "base_uri": "https://localhost:8080/",
          "height": 35
        },
        "id": "-ONtTW-GhSNc",
        "outputId": "0775c244-5e5c-4155-b9be-dbcc66ee88bb"
      },
      "execution_count": 112,
      "outputs": [
        {
          "output_type": "execute_result",
          "data": {
            "text/plain": [
              "'O dataframe possui 66562 linhas com dados'"
            ],
            "application/vnd.google.colaboratory.intrinsic+json": {
              "type": "string"
            }
          },
          "metadata": {},
          "execution_count": 112
        }
      ]
    },
    {
      "cell_type": "code",
      "source": [
        "f'Os dados nulos da coluna area_total correspondem a {round(((9194 / total_data) * 100), 2)}% dos dados'"
      ],
      "metadata": {
        "colab": {
          "base_uri": "https://localhost:8080/",
          "height": 35
        },
        "id": "KCHtnffOlQjF",
        "outputId": "660d84c5-b3f1-453f-b3c6-725e3beeaa3d"
      },
      "execution_count": 113,
      "outputs": [
        {
          "output_type": "execute_result",
          "data": {
            "text/plain": [
              "'Os dados nulos da coluna area_total correspondem a 13.81% dos dados'"
            ],
            "application/vnd.google.colaboratory.intrinsic+json": {
              "type": "string"
            }
          },
          "metadata": {},
          "execution_count": 113
        }
      ]
    },
    {
      "cell_type": "code",
      "source": [
        "f'Os dados nulos da coluna suites correspondem a {round(((5554 / total_data) * 100), 2)}% dos dados'"
      ],
      "metadata": {
        "colab": {
          "base_uri": "https://localhost:8080/",
          "height": 35
        },
        "id": "_u2vnKhilbSy",
        "outputId": "51cd0123-c51f-46ed-ed8b-42dc8763b3d9"
      },
      "execution_count": 114,
      "outputs": [
        {
          "output_type": "execute_result",
          "data": {
            "text/plain": [
              "'Os dados nulos da coluna suites correspondem a 8.34% dos dados'"
            ],
            "application/vnd.google.colaboratory.intrinsic+json": {
              "type": "string"
            }
          },
          "metadata": {},
          "execution_count": 114
        }
      ]
    },
    {
      "cell_type": "code",
      "source": [
        "f'Os dados nulos da coluna vaga correspondem a {round(((3017 / total_data) * 100), 2)}% dos dados'"
      ],
      "metadata": {
        "colab": {
          "base_uri": "https://localhost:8080/",
          "height": 35
        },
        "id": "Fakq7UTylsGD",
        "outputId": "55ec9e2f-9049-4ad7-e357-8f0c9617c56b"
      },
      "execution_count": 115,
      "outputs": [
        {
          "output_type": "execute_result",
          "data": {
            "text/plain": [
              "'Os dados nulos da coluna vaga correspondem a 4.53% dos dados'"
            ],
            "application/vnd.google.colaboratory.intrinsic+json": {
              "type": "string"
            }
          },
          "metadata": {},
          "execution_count": 115
        }
      ]
    },
    {
      "cell_type": "code",
      "source": [
        "f'Os dados nulos da coluna condominio correspondem a {round(((2371 / total_data) * 100), 2)}% dos dados'"
      ],
      "metadata": {
        "colab": {
          "base_uri": "https://localhost:8080/",
          "height": 35
        },
        "id": "m3Datq7klyCA",
        "outputId": "00be43aa-8186-480b-920a-717fe1c1675d"
      },
      "execution_count": 116,
      "outputs": [
        {
          "output_type": "execute_result",
          "data": {
            "text/plain": [
              "'Os dados nulos da coluna condominio correspondem a 3.56% dos dados'"
            ],
            "application/vnd.google.colaboratory.intrinsic+json": {
              "type": "string"
            }
          },
          "metadata": {},
          "execution_count": 116
        }
      ]
    },
    {
      "cell_type": "code",
      "source": [
        "f'Os dados nulos da coluna iptu correspondem a {round(((7199 / total_data) * 100), 2)}% dos dados'"
      ],
      "metadata": {
        "colab": {
          "base_uri": "https://localhost:8080/",
          "height": 35
        },
        "id": "OYootDsfo3m_",
        "outputId": "9051ac8d-820e-4ac0-b6ce-63f520c628fd"
      },
      "execution_count": 117,
      "outputs": [
        {
          "output_type": "execute_result",
          "data": {
            "text/plain": [
              "'Os dados nulos da coluna iptu correspondem a 10.82% dos dados'"
            ],
            "application/vnd.google.colaboratory.intrinsic+json": {
              "type": "string"
            }
          },
          "metadata": {},
          "execution_count": 117
        }
      ]
    },
    {
      "cell_type": "markdown",
      "source": [
        "## Estatísticas descritivas"
      ],
      "metadata": {
        "id": "w4eq01v0v__x"
      }
    },
    {
      "cell_type": "code",
      "source": [
        "# a tabela abaixo mostra algumas estatísticas descritivas dos dados do dataframe:\n",
        "\n",
        "data_summary = data.summary()\n",
        "data_summary.show()"
      ],
      "metadata": {
        "colab": {
          "base_uri": "https://localhost:8080/"
        },
        "id": "KLQ92QxBwBtv",
        "outputId": "1f794f99-e09c-427b-dc24-b0a2ddd85dd4"
      },
      "execution_count": 121,
      "outputs": [
        {
          "output_type": "stream",
          "name": "stdout",
          "text": [
            "+-------+--------------------+------------------+-----------------+------------------+------------------+------------------+------------------+------------------+----------+--------+------------------+------------------+------------------+\n",
            "|summary|                  id|             andar|       area_total|         area_util|         banheiros|           quartos|            suites|              vaga|    bairro|    zona|        condominio|              iptu|             valor|\n",
            "+-------+--------------------+------------------+-----------------+------------------+------------------+------------------+------------------+------------------+----------+--------+------------------+------------------+------------------+\n",
            "|  count|               66562|             66562|            57368|             66562|             66562|             66562|             61008|             63545|     66562|   66562|             64191|             59363|             66562|\n",
            "|   mean|                null|2.3374598119046905|938.1081264816622|116.73728253357771| 2.454583696403353|2.6121811243652533|1.2091528979805928|1.4069084900464237|      null|    null|4822.7975728684705|5447.7366036083085|1294433.2853129413|\n",
            "| stddev|                null|  14.6963496227043|84173.43322353458| 89.09094364150394|1.3582533594407473|0.9083944981999731|1.0567921717756774|1.3413027342394985|      null|    null|106049.70098633446| 181192.7605568003| 1471723.315533184|\n",
            "|    min|00002dd9-cc74-480...|                 0|              0.0|              10.0|                 1|                 0|                 0|                 0|  Abolição|        |               0.0|               0.0|           15000.0|\n",
            "|    25%|                null|                 0|             68.0|              67.0|                 2|                 2|                 1|                 1|      null|    null|             463.0|              54.0|          455000.0|\n",
            "|    50%|                null|                 0|             90.0|              90.0|                 2|                 3|                 1|                 1|      null|    null|             894.0|             360.0|          808600.0|\n",
            "|    75%|                null|                 3|            140.0|             138.0|                 3|                 3|                 1|                 2|      null|    null|            1480.0|            1849.0|         1540000.0|\n",
            "|    max|fffe97aa-814b-4eb...|              1234|      1.5022793E7|            3456.0|                19|                16|                30|                99|Água Santa|Zona Sul|             1.1E7|             2.0E7|            1.39E7|\n",
            "+-------+--------------------+------------------+-----------------+------------------+------------------+------------------+------------------+------------------+----------+--------+------------------+------------------+------------------+\n",
            "\n"
          ]
        }
      ]
    },
    {
      "cell_type": "markdown",
      "source": [
        "Mediana da coluna area_total"
      ],
      "metadata": {
        "id": "8qy0YilMzv60"
      }
    },
    {
      "cell_type": "code",
      "source": [
        "# ao usar o método collect() obtém-se um valor passando a linha em que este se encontra no dataframe, como anseia-se pela mediana:\n",
        "\n",
        "area_total_median = data_summary.select('area_total').collect()[5][0]\n",
        "area_total_median = float(area_total_median)\n",
        "area_total_median"
      ],
      "metadata": {
        "colab": {
          "base_uri": "https://localhost:8080/"
        },
        "id": "2Ql-aS7vxoNp",
        "outputId": "bcd99993-e820-4ebd-deda-ae3320d80776"
      },
      "execution_count": 150,
      "outputs": [
        {
          "output_type": "execute_result",
          "data": {
            "text/plain": [
              "90.0"
            ]
          },
          "metadata": {},
          "execution_count": 150
        }
      ]
    },
    {
      "cell_type": "markdown",
      "source": [
        "Mediana da coluna suites"
      ],
      "metadata": {
        "id": "DvTEkWo2z01Q"
      }
    },
    {
      "cell_type": "code",
      "source": [
        "suites_median = int(data_summary.select('suites').collect()[5][0])\n",
        "suites_median"
      ],
      "metadata": {
        "colab": {
          "base_uri": "https://localhost:8080/"
        },
        "id": "DXwGvsWTxIQK",
        "outputId": "eb07340c-452c-4b65-e9bf-a7591ac52f88"
      },
      "execution_count": 144,
      "outputs": [
        {
          "output_type": "execute_result",
          "data": {
            "text/plain": [
              "1"
            ]
          },
          "metadata": {},
          "execution_count": 144
        }
      ]
    },
    {
      "cell_type": "markdown",
      "source": [
        "Mediana da coluna vaga"
      ],
      "metadata": {
        "id": "INQtgURR0G2g"
      }
    },
    {
      "cell_type": "code",
      "source": [
        "vaga_median = int(data_summary.select('vaga').collect()[5][0])\n",
        "vaga_median"
      ],
      "metadata": {
        "colab": {
          "base_uri": "https://localhost:8080/"
        },
        "id": "B3lZD14S0GEc",
        "outputId": "9c9f0687-0ac2-4ab3-cc12-f197e9cabcf9"
      },
      "execution_count": 147,
      "outputs": [
        {
          "output_type": "execute_result",
          "data": {
            "text/plain": [
              "1"
            ]
          },
          "metadata": {},
          "execution_count": 147
        }
      ]
    },
    {
      "cell_type": "markdown",
      "source": [
        "Mediana da coluna condominio"
      ],
      "metadata": {
        "id": "Jy6YGb-a0uNf"
      }
    },
    {
      "cell_type": "code",
      "source": [
        "condominio_median = float(data_summary.select('condominio').collect()[5][0])\n",
        "condominio_median"
      ],
      "metadata": {
        "colab": {
          "base_uri": "https://localhost:8080/"
        },
        "id": "sWYh9LYa0teT",
        "outputId": "f5429ef2-988a-4c10-ad6c-e2bbcf011da8"
      },
      "execution_count": 152,
      "outputs": [
        {
          "output_type": "execute_result",
          "data": {
            "text/plain": [
              "894.0"
            ]
          },
          "metadata": {},
          "execution_count": 152
        }
      ]
    },
    {
      "cell_type": "markdown",
      "source": [
        "Mediana da coluna iptu"
      ],
      "metadata": {
        "id": "E_1vUwAD1i6g"
      }
    },
    {
      "cell_type": "code",
      "source": [
        "iptu_median = float(data_summary.select('iptu').collect()[5][0])\n",
        "iptu_median"
      ],
      "metadata": {
        "colab": {
          "base_uri": "https://localhost:8080/"
        },
        "id": "NspSRSvV1fqr",
        "outputId": "41d30c20-3307-4300-a1ce-577c4cd56979"
      },
      "execution_count": 154,
      "outputs": [
        {
          "output_type": "execute_result",
          "data": {
            "text/plain": [
              "360.0"
            ]
          },
          "metadata": {},
          "execution_count": 154
        }
      ]
    },
    {
      "cell_type": "code",
      "source": [],
      "metadata": {
        "id": "Zelq3H-61rLO"
      },
      "execution_count": null,
      "outputs": []
    }
  ]
}