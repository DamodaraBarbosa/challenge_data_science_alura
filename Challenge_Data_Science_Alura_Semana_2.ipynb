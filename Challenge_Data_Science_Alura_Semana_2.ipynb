{
  "nbformat": 4,
  "nbformat_minor": 0,
  "metadata": {
    "colab": {
      "provenance": [],
      "mount_file_id": "1QqSXf6vA_68WQ6gBFsZ9ANDkHEZ4X3t7",
      "authorship_tag": "ABX9TyM5GMBnDEY3MJ/oqbBgRi7S",
      "include_colab_link": true
    },
    "kernelspec": {
      "name": "python3",
      "display_name": "Python 3"
    },
    "language_info": {
      "name": "python"
    }
  },
  "cells": [
    {
      "cell_type": "markdown",
      "metadata": {
        "id": "view-in-github",
        "colab_type": "text"
      },
      "source": [
        "<a href=\"https://colab.research.google.com/github/DamodaraBarbosa/challenge_data_science_alura/blob/main/Challenge_Data_Science_Alura_Semana_2.ipynb\" target=\"_parent\"><img src=\"https://colab.research.google.com/assets/colab-badge.svg\" alt=\"Open In Colab\"/></a>"
      ]
    },
    {
      "cell_type": "markdown",
      "source": [
        "Instalando dependências do Spark"
      ],
      "metadata": {
        "id": "rCMCb42AgP_7"
      }
    },
    {
      "cell_type": "code",
      "execution_count": 417,
      "metadata": {
        "id": "UMsa41Wwecx3"
      },
      "outputs": [],
      "source": [
        "!apt-get update -qq\n",
        "!apt-get install openjdk-8-jdk-headless -qq > /dev/null\n",
        "!wget -q https://archive.apache.org/dist/spark/spark-3.1.2/spark-3.1.2-bin-hadoop2.7.tgz\n",
        "!tar xf spark-3.1.2-bin-hadoop2.7.tgz\n",
        "!pip install -q findspark"
      ]
    },
    {
      "cell_type": "markdown",
      "source": [
        "Importando OS"
      ],
      "metadata": {
        "id": "T-x9Cu_FgT68"
      }
    },
    {
      "cell_type": "code",
      "source": [
        "import os\n",
        "os.environ[\"JAVA_HOME\"] = \"/usr/lib/jvm/java-8-openjdk-amd64\"\n",
        "os.environ[\"SPARK_HOME\"] = \"/content/spark-3.1.2-bin-hadoop2.7\""
      ],
      "metadata": {
        "id": "kutuZ3ZHekGq"
      },
      "execution_count": 418,
      "outputs": []
    },
    {
      "cell_type": "markdown",
      "source": [
        "Importando o Spark Session"
      ],
      "metadata": {
        "id": "fy8wy-M2gac9"
      }
    },
    {
      "cell_type": "code",
      "source": [
        "import findspark\n",
        "findspark.init()"
      ],
      "metadata": {
        "id": "QJjgFUaYel0B"
      },
      "execution_count": 419,
      "outputs": []
    },
    {
      "cell_type": "code",
      "source": [
        "from pyspark.sql import SparkSession\n",
        "\n",
        "spark = SparkSession.builder \\\n",
        "    .master('local[*]') \\\n",
        "    .appName(\"Iniciando com Spark\") \\\n",
        "    .getOrCreate()"
      ],
      "metadata": {
        "id": "dQ9MtsfOenPX"
      },
      "execution_count": 420,
      "outputs": []
    },
    {
      "cell_type": "code",
      "source": [
        "spark"
      ],
      "metadata": {
        "colab": {
          "base_uri": "https://localhost:8080/",
          "height": 219
        },
        "id": "5B5pIzRrerB4",
        "outputId": "83901acf-a62c-4430-dd1e-3135708bf68a"
      },
      "execution_count": 421,
      "outputs": [
        {
          "output_type": "execute_result",
          "data": {
            "text/plain": [
              "<pyspark.sql.session.SparkSession at 0x7f55557baa60>"
            ],
            "text/html": [
              "\n",
              "            <div>\n",
              "                <p><b>SparkSession - in-memory</b></p>\n",
              "                \n",
              "        <div>\n",
              "            <p><b>SparkContext</b></p>\n",
              "\n",
              "            <p><a href=\"http://c7751135185d:4040\">Spark UI</a></p>\n",
              "\n",
              "            <dl>\n",
              "              <dt>Version</dt>\n",
              "                <dd><code>v3.1.2</code></dd>\n",
              "              <dt>Master</dt>\n",
              "                <dd><code>local[*]</code></dd>\n",
              "              <dt>AppName</dt>\n",
              "                <dd><code>Iniciando com Spark</code></dd>\n",
              "            </dl>\n",
              "        </div>\n",
              "        \n",
              "            </div>\n",
              "        "
            ]
          },
          "metadata": {},
          "execution_count": 421
        }
      ]
    },
    {
      "cell_type": "markdown",
      "source": [
        "# Carregando dados no dataframe"
      ],
      "metadata": {
        "id": "AgiMmfIbg1zy"
      }
    },
    {
      "cell_type": "code",
      "source": [
        "data = spark.read.parquet('/content/drive/MyDrive/Alura/Challenge Data Science/part-00000-00341ba7-0a7c-4fef-a81e-1066725a64b1-c000.snappy.parquet')"
      ],
      "metadata": {
        "id": "Kee9IS-dgcsp"
      },
      "execution_count": 422,
      "outputs": []
    },
    {
      "cell_type": "code",
      "source": [
        "data.show(10)"
      ],
      "metadata": {
        "colab": {
          "base_uri": "https://localhost:8080/"
        },
        "id": "PVD_zKWJhIsK",
        "outputId": "173a3d7d-544c-410f-993c-fc6e1fb577a8"
      },
      "execution_count": 423,
      "outputs": [
        {
          "output_type": "stream",
          "name": "stdout",
          "text": [
            "+--------------------+-----+----------+---------+---------+--------------------+-------+------+------------+------------+-----------+----+--------------------+------------+----------+----+-----+------+\n",
            "|                  id|andar|area_total|area_util|banheiros|     caracteristicas|quartos|suites|tipo_anuncio|tipo_unidade|   tipo_uso|vaga|              bairro|        zona|condominio|iptu| tipo| valor|\n",
            "+--------------------+-----+----------+---------+---------+--------------------+-------+------+------------+------------+-----------+----+--------------------+------------+----------+----+-----+------+\n",
            "|03a386b6-7ab8-4ef...|    0|        43|       43|        1|[Churrasqueira, A...|      2|  null|       Usado| Apartamento|Residencial|   1|            Realengo|  Zona Oeste|       285|null|Venda| 22999|\n",
            "|1fe78d41-b8e0-4d2...|    0|        44|       44|        1|                  []|      2|     0|       Usado| Apartamento|Residencial|   0|               Irajá|  Zona Norte|       170|   0|Venda|110000|\n",
            "|1fa1c1e5-e98c-433...|    4|      null|       55|        1|                  []|      2|     0|       Usado| Apartamento|Residencial|   1|              Cosmos|  Zona Oeste|      null|null|Venda|115000|\n",
            "|a6ab01ae-3d40-40e...|    2|      null|       55|        1|                  []|      2|     0|       Usado| Apartamento|Residencial|   0|        Tomás Coelho|  Zona Norte|      null|null|Venda|115000|\n",
            "|1d8ff7a2-16bd-4e3...|    0|      null|       50|        1|                  []|      1|  null|       Usado| Apartamento|Residencial|   0|              Centro|Zona Central|      1300|2679|Venda|125000|\n",
            "|40a2cbde-946b-42d...|    2|        47|       47|        1|[Condomínio fecha...|      2|     0|       Usado| Apartamento|Residencial|   1|        Campo Grande|  Zona Oeste|       380|null|Venda|138000|\n",
            "|be269ddf-a4a3-4a7...|    0|     17089|       45|        1|[Churrasqueira, C...|      2|     0|       Usado| Apartamento|Residencial|   1|        Campo Grande|  Zona Oeste|       356|   0|Venda|140000|\n",
            "|4b7e3d59-34fd-4ba...|    3|        48|       48|        1|[Churrasqueira, P...|      2|  null|       Usado| Apartamento|Residencial|   1|        Campo Grande|  Zona Oeste|         0|   0|Venda|150000|\n",
            "|a1a0c2ac-4fa8-4b0...|    9|      null|       55|        1|[Churrasqueira, E...|      2|  null|       Usado| Apartamento|Residencial|   1|Freguesia (Jacare...|  Zona Oeste|       780| 660|Venda|160000|\n",
            "|390d2b88-e06d-47e...|    0|        70|       70|        2|   [Salão de festas]|      2|     0|       Usado| Apartamento|Residencial|   1|          Praça Seca|  Zona Oeste|    420000|null|Venda|159000|\n",
            "+--------------------+-----+----------+---------+---------+--------------------+-------+------+------------+------------+-----------+----+--------------------+------------+----------+----+-----+------+\n",
            "only showing top 10 rows\n",
            "\n"
          ]
        }
      ]
    },
    {
      "cell_type": "markdown",
      "source": [
        "# Seleção de features"
      ],
      "metadata": {
        "id": "P-XmRw_shb3N"
      }
    },
    {
      "cell_type": "code",
      "source": [
        "# para selecionar as features utiliza-se o método distinct() a fim de obter os valores únicos para cada coluna do dataframe, num primeiro momento suspeita-se\n",
        "# das colunas tipo_anuncio, tipo_uso e tipo."
      ],
      "metadata": {
        "id": "wJfPGXQlhd4r"
      },
      "execution_count": 424,
      "outputs": []
    },
    {
      "cell_type": "markdown",
      "source": [
        "### Coluna tipo_anuncio"
      ],
      "metadata": {
        "id": "CJNsBWvBh7jd"
      }
    },
    {
      "cell_type": "code",
      "source": [
        "data.select('tipo_anuncio').distinct().show()"
      ],
      "metadata": {
        "colab": {
          "base_uri": "https://localhost:8080/"
        },
        "id": "Zg4FZshkhNoH",
        "outputId": "8927f012-91f3-434f-c537-87f95bfa7903"
      },
      "execution_count": 425,
      "outputs": [
        {
          "output_type": "stream",
          "name": "stdout",
          "text": [
            "+------------+\n",
            "|tipo_anuncio|\n",
            "+------------+\n",
            "|       Usado|\n",
            "+------------+\n",
            "\n"
          ]
        }
      ]
    },
    {
      "cell_type": "code",
      "source": [
        "# todos os dados da coluna tipo_anuncio são iguais: \"Usado\""
      ],
      "metadata": {
        "id": "QMm1KVi2iktp"
      },
      "execution_count": 426,
      "outputs": []
    },
    {
      "cell_type": "markdown",
      "source": [
        "### Coluna tipo_uso"
      ],
      "metadata": {
        "id": "XfzwcgRsiusr"
      }
    },
    {
      "cell_type": "code",
      "source": [
        "data.select('tipo_uso').distinct().show()"
      ],
      "metadata": {
        "colab": {
          "base_uri": "https://localhost:8080/"
        },
        "id": "Ao1wOMyciteP",
        "outputId": "6ca8642a-cdbb-4d9e-db1c-c8f48934f52e"
      },
      "execution_count": 427,
      "outputs": [
        {
          "output_type": "stream",
          "name": "stdout",
          "text": [
            "+-----------+\n",
            "|   tipo_uso|\n",
            "+-----------+\n",
            "|Residencial|\n",
            "+-----------+\n",
            "\n"
          ]
        }
      ]
    },
    {
      "cell_type": "code",
      "source": [
        "# todos os dados da coluna tipo_uso são iguais: \"Residencial\""
      ],
      "metadata": {
        "id": "WNvA0plDiz0g"
      },
      "execution_count": 428,
      "outputs": []
    },
    {
      "cell_type": "markdown",
      "source": [
        "### Coluna tipo_unidade"
      ],
      "metadata": {
        "id": "J0C6rEKV7qMa"
      }
    },
    {
      "cell_type": "code",
      "source": [
        "data.select('tipo_unidade').distinct().show()"
      ],
      "metadata": {
        "colab": {
          "base_uri": "https://localhost:8080/"
        },
        "id": "jj3U2d-v7k1N",
        "outputId": "4e94ea53-43bd-4d97-e8af-b720617c2220"
      },
      "execution_count": 429,
      "outputs": [
        {
          "output_type": "stream",
          "name": "stdout",
          "text": [
            "+------------+\n",
            "|tipo_unidade|\n",
            "+------------+\n",
            "| Apartamento|\n",
            "+------------+\n",
            "\n"
          ]
        }
      ]
    },
    {
      "cell_type": "code",
      "source": [
        "# todos os dados da coluna tipo_unidade são iguais: \"Apartamento\""
      ],
      "metadata": {
        "id": "iIj3Ngxy7uH9"
      },
      "execution_count": 430,
      "outputs": []
    },
    {
      "cell_type": "markdown",
      "source": [
        "### Coluna tipo"
      ],
      "metadata": {
        "id": "LrOSAhJUi6ZS"
      }
    },
    {
      "cell_type": "code",
      "source": [
        "data.select('tipo').distinct().show()"
      ],
      "metadata": {
        "colab": {
          "base_uri": "https://localhost:8080/"
        },
        "id": "ruDbFeGTi4Ny",
        "outputId": "82fa01a5-e180-4bc2-df95-78a42f6ccdca"
      },
      "execution_count": 431,
      "outputs": [
        {
          "output_type": "stream",
          "name": "stdout",
          "text": [
            "+-----+\n",
            "| tipo|\n",
            "+-----+\n",
            "|Venda|\n",
            "+-----+\n",
            "\n"
          ]
        }
      ]
    },
    {
      "cell_type": "code",
      "source": [
        "# todos os dados da coluna tipo são iguais: \"Venda\""
      ],
      "metadata": {
        "id": "EIr63C1Ci-fk"
      },
      "execution_count": 432,
      "outputs": []
    },
    {
      "cell_type": "markdown",
      "source": [
        "## Drop das colunas tipo_anuncio, tipo_uso, tipo_unidade e tipo\n"
      ],
      "metadata": {
        "id": "IdsoYVSc661L"
      }
    },
    {
      "cell_type": "code",
      "source": [
        "# como as colunas citadas acima possuem apenas uma única informação, podem ser eliminadas do dataframe a fim de deixar apenas dados mais significativos:\n",
        "\n",
        "data = data.drop('tipo_anuncio')\n",
        "data = data.drop('tipo_uso')\n",
        "data = data.drop('tipo_unidade')\n",
        "data = data.drop('tipo')\n",
        "data.show(5)"
      ],
      "metadata": {
        "colab": {
          "base_uri": "https://localhost:8080/"
        },
        "id": "YvJ6r7m87C_H",
        "outputId": "3638ea7f-62e7-424d-90b1-f36ce3189ed7"
      },
      "execution_count": 433,
      "outputs": [
        {
          "output_type": "stream",
          "name": "stdout",
          "text": [
            "+--------------------+-----+----------+---------+---------+--------------------+-------+------+----+------------+------------+----------+----+------+\n",
            "|                  id|andar|area_total|area_util|banheiros|     caracteristicas|quartos|suites|vaga|      bairro|        zona|condominio|iptu| valor|\n",
            "+--------------------+-----+----------+---------+---------+--------------------+-------+------+----+------------+------------+----------+----+------+\n",
            "|03a386b6-7ab8-4ef...|    0|        43|       43|        1|[Churrasqueira, A...|      2|  null|   1|    Realengo|  Zona Oeste|       285|null| 22999|\n",
            "|1fe78d41-b8e0-4d2...|    0|        44|       44|        1|                  []|      2|     0|   0|       Irajá|  Zona Norte|       170|   0|110000|\n",
            "|1fa1c1e5-e98c-433...|    4|      null|       55|        1|                  []|      2|     0|   1|      Cosmos|  Zona Oeste|      null|null|115000|\n",
            "|a6ab01ae-3d40-40e...|    2|      null|       55|        1|                  []|      2|     0|   0|Tomás Coelho|  Zona Norte|      null|null|115000|\n",
            "|1d8ff7a2-16bd-4e3...|    0|      null|       50|        1|                  []|      1|  null|   0|      Centro|Zona Central|      1300|2679|125000|\n",
            "+--------------------+-----+----------+---------+---------+--------------------+-------+------+----+------------+------------+----------+----+------+\n",
            "only showing top 5 rows\n",
            "\n"
          ]
        }
      ]
    },
    {
      "cell_type": "markdown",
      "source": [
        "## Colunas area_total e area_util"
      ],
      "metadata": {
        "id": "B2GmevS9kZVY"
      }
    },
    {
      "cell_type": "code",
      "source": [
        "# contando os valores da coluna area_total:\n",
        "\n",
        "data.select('area_total').groupBy('area_total').count().show()"
      ],
      "metadata": {
        "colab": {
          "base_uri": "https://localhost:8080/"
        },
        "id": "YX_1KWl-keSj",
        "outputId": "a2caeae4-59bd-461b-8b10-777c6562dcbb"
      },
      "execution_count": 434,
      "outputs": [
        {
          "output_type": "stream",
          "name": "stdout",
          "text": [
            "+----------+-----+\n",
            "|area_total|count|\n",
            "+----------+-----+\n",
            "|       296|   31|\n",
            "|       691|    1|\n",
            "|       675|    1|\n",
            "|       125|  253|\n",
            "|       800|    5|\n",
            "|   5698720|    1|\n",
            "|        51|  206|\n",
            "|       124|  159|\n",
            "|         7|    2|\n",
            "|       447|    1|\n",
            "|       307|   25|\n",
            "|     17583|    3|\n",
            "|      1695|    1|\n",
            "|      1500|    1|\n",
            "|       205|   44|\n",
            "|       169|   75|\n",
            "|      7402|    4|\n",
            "|       334|    6|\n",
            "|       544|    1|\n",
            "|       272|   11|\n",
            "+----------+-----+\n",
            "only showing top 20 rows\n",
            "\n"
          ]
        }
      ]
    },
    {
      "cell_type": "code",
      "source": [
        "# contando os valores area_util:\n",
        "\n",
        "data.select('area_util').groupBy('area_util').count().show()"
      ],
      "metadata": {
        "colab": {
          "base_uri": "https://localhost:8080/"
        },
        "id": "x4TovKqpjiah",
        "outputId": "e99daa6c-bbc8-43ec-f67d-649864a02c79"
      },
      "execution_count": 435,
      "outputs": [
        {
          "output_type": "stream",
          "name": "stdout",
          "text": [
            "+---------+-----+\n",
            "|area_util|count|\n",
            "+---------+-----+\n",
            "|      296|   33|\n",
            "|      675|    1|\n",
            "|      125|  287|\n",
            "|      800|    5|\n",
            "|      944|    2|\n",
            "|       51|  273|\n",
            "|      124|  174|\n",
            "|      447|    1|\n",
            "|      307|   29|\n",
            "|      205|   49|\n",
            "|      169|   90|\n",
            "|      334|    6|\n",
            "|      544|    1|\n",
            "|      740|    1|\n",
            "|      272|   11|\n",
            "|      470|   11|\n",
            "|      462|    2|\n",
            "|       54|  414|\n",
            "|      232|   41|\n",
            "|      234|   37|\n",
            "+---------+-----+\n",
            "only showing top 20 rows\n",
            "\n"
          ]
        }
      ]
    },
    {
      "cell_type": "code",
      "source": [
        "# apesar de existirem vários valores que se repetem, visualizando-os de maneira mais ampla vemos que estes são abrangentes e não podem ser descartados."
      ],
      "metadata": {
        "id": "gNwvAiTisszi"
      },
      "execution_count": 436,
      "outputs": []
    },
    {
      "cell_type": "code",
      "source": [
        "# para contar os valores nulos nas colunas area_total e area_util temos que:\n",
        "\n",
        "from pyspark.sql.functions import col, isnan, when, count, lit, explode, array_contains, size, isnull, array"
      ],
      "metadata": {
        "id": "9ccNgnF4pLp5"
      },
      "execution_count": 437,
      "outputs": []
    },
    {
      "cell_type": "code",
      "source": [
        "null_area = data.select([count(when(isnan(c) | col(c).isNull(), c)).alias(c) for c in data.select(['area_total', 'area_util']).columns])\n",
        "null_area.show()"
      ],
      "metadata": {
        "colab": {
          "base_uri": "https://localhost:8080/"
        },
        "id": "M8A4bBG9cBQA",
        "outputId": "91a26294-530a-4952-ff13-55ce1516a6a4"
      },
      "execution_count": 438,
      "outputs": [
        {
          "output_type": "stream",
          "name": "stdout",
          "text": [
            "+----------+---------+\n",
            "|area_total|area_util|\n",
            "+----------+---------+\n",
            "|      9194|        0|\n",
            "+----------+---------+\n",
            "\n"
          ]
        }
      ]
    },
    {
      "cell_type": "code",
      "source": [
        "# apenas a coluna area_total possui dados nulos."
      ],
      "metadata": {
        "id": "B2p6DqE7vz1u"
      },
      "execution_count": 439,
      "outputs": []
    },
    {
      "cell_type": "markdown",
      "source": [
        "# Convertendo os tipos das colunas"
      ],
      "metadata": {
        "id": "yAzUwUEev_7j"
      }
    },
    {
      "cell_type": "code",
      "source": [
        "from pyspark.sql.types import IntegerType, DoubleType, StringType"
      ],
      "metadata": {
        "id": "WbiGQZI2wJyY"
      },
      "execution_count": 440,
      "outputs": []
    },
    {
      "cell_type": "code",
      "source": [
        "data.printSchema()"
      ],
      "metadata": {
        "colab": {
          "base_uri": "https://localhost:8080/"
        },
        "id": "-K6SO6nEtJm0",
        "outputId": "9fa32b83-0cf1-4b71-c64a-ab494c587871"
      },
      "execution_count": 441,
      "outputs": [
        {
          "output_type": "stream",
          "name": "stdout",
          "text": [
            "root\n",
            " |-- id: string (nullable = true)\n",
            " |-- andar: long (nullable = true)\n",
            " |-- area_total: string (nullable = true)\n",
            " |-- area_util: string (nullable = true)\n",
            " |-- banheiros: long (nullable = true)\n",
            " |-- caracteristicas: array (nullable = true)\n",
            " |    |-- element: string (containsNull = true)\n",
            " |-- quartos: long (nullable = true)\n",
            " |-- suites: long (nullable = true)\n",
            " |-- vaga: long (nullable = true)\n",
            " |-- bairro: string (nullable = true)\n",
            " |-- zona: string (nullable = true)\n",
            " |-- condominio: string (nullable = true)\n",
            " |-- iptu: string (nullable = true)\n",
            " |-- valor: string (nullable = true)\n",
            "\n"
          ]
        }
      ]
    },
    {
      "cell_type": "markdown",
      "source": [
        "## Para o tipo Integer"
      ],
      "metadata": {
        "id": "gCSysSRsiqLh"
      }
    },
    {
      "cell_type": "markdown",
      "source": [
        "Coluna andar"
      ],
      "metadata": {
        "id": "4sKt30N1g6wa"
      }
    },
    {
      "cell_type": "code",
      "source": [
        "data = data.withColumn('andar', data['andar'].cast(IntegerType()))"
      ],
      "metadata": {
        "id": "O-GsE1ouwDji"
      },
      "execution_count": 442,
      "outputs": []
    },
    {
      "cell_type": "markdown",
      "source": [
        "Coluna banheiros"
      ],
      "metadata": {
        "id": "EbZV7JzIhUQ3"
      }
    },
    {
      "cell_type": "code",
      "source": [
        "data = data.withColumn('banheiros', data['banheiros'].cast(IntegerType()))"
      ],
      "metadata": {
        "id": "fBc-Kn4fhQ29"
      },
      "execution_count": 443,
      "outputs": []
    },
    {
      "cell_type": "markdown",
      "source": [
        "Coluna suites"
      ],
      "metadata": {
        "id": "UNo9R_RxhhdN"
      }
    },
    {
      "cell_type": "code",
      "source": [
        "data = data.withColumn('suites', data['suites'].cast(IntegerType()))"
      ],
      "metadata": {
        "id": "clagkWoQhhD-"
      },
      "execution_count": 444,
      "outputs": []
    },
    {
      "cell_type": "markdown",
      "source": [
        "Coluna quartos"
      ],
      "metadata": {
        "id": "vjy__V4JhqCM"
      }
    },
    {
      "cell_type": "code",
      "source": [
        "data = data.withColumn('quartos', data['quartos'].cast(IntegerType()))"
      ],
      "metadata": {
        "id": "1L60jDRWhtU_"
      },
      "execution_count": 445,
      "outputs": []
    },
    {
      "cell_type": "markdown",
      "source": [
        "## Para o tipo Double"
      ],
      "metadata": {
        "id": "A9I4EQrBivjV"
      }
    },
    {
      "cell_type": "markdown",
      "source": [
        "Coluna area_total"
      ],
      "metadata": {
        "id": "nerCxS_lix8A"
      }
    },
    {
      "cell_type": "code",
      "source": [
        "data = data.withColumn('area_total', data['area_total'].cast(DoubleType()))"
      ],
      "metadata": {
        "id": "XLF3fu1_wk5C"
      },
      "execution_count": 446,
      "outputs": []
    },
    {
      "cell_type": "markdown",
      "source": [
        "Coluna area_util"
      ],
      "metadata": {
        "id": "NmmPisFLjL2L"
      }
    },
    {
      "cell_type": "code",
      "source": [
        "data = data.withColumn('area_util', data['area_util'].cast(DoubleType()))"
      ],
      "metadata": {
        "id": "-d1C_-r1wpmj"
      },
      "execution_count": 447,
      "outputs": []
    },
    {
      "cell_type": "markdown",
      "source": [
        "Coluna condominio"
      ],
      "metadata": {
        "id": "B7j4FXj4jU8T"
      }
    },
    {
      "cell_type": "code",
      "source": [
        "data = data.withColumn('condominio', data['condominio'].cast(DoubleType()))"
      ],
      "metadata": {
        "id": "HV6DKKy1jUT1"
      },
      "execution_count": 448,
      "outputs": []
    },
    {
      "cell_type": "markdown",
      "source": [
        "Coluna iptu"
      ],
      "metadata": {
        "id": "kWjtBQG3jkSb"
      }
    },
    {
      "cell_type": "code",
      "source": [
        "data = data.withColumn('iptu', data['iptu'].cast(DoubleType()))"
      ],
      "metadata": {
        "id": "4rYGNrvBjdPk"
      },
      "execution_count": 449,
      "outputs": []
    },
    {
      "cell_type": "markdown",
      "source": [
        "Coluna valor"
      ],
      "metadata": {
        "id": "cplXCuLWj0mb"
      }
    },
    {
      "cell_type": "code",
      "source": [
        "data = data.withColumn('valor', data['valor'].cast(DoubleType()))"
      ],
      "metadata": {
        "id": "B3fcom8kjrrP"
      },
      "execution_count": 450,
      "outputs": []
    },
    {
      "cell_type": "code",
      "source": [
        "# por fim, mostra-se o Schema dos dados para verificar se houve a conversão dos tipos dos dados das colunas:\n",
        "\n",
        "data.printSchema()"
      ],
      "metadata": {
        "colab": {
          "base_uri": "https://localhost:8080/"
        },
        "id": "LfWmPkyAj1dj",
        "outputId": "1760ada1-3164-4f8d-a580-ed74b6edb94b"
      },
      "execution_count": 451,
      "outputs": [
        {
          "output_type": "stream",
          "name": "stdout",
          "text": [
            "root\n",
            " |-- id: string (nullable = true)\n",
            " |-- andar: integer (nullable = true)\n",
            " |-- area_total: double (nullable = true)\n",
            " |-- area_util: double (nullable = true)\n",
            " |-- banheiros: integer (nullable = true)\n",
            " |-- caracteristicas: array (nullable = true)\n",
            " |    |-- element: string (containsNull = true)\n",
            " |-- quartos: integer (nullable = true)\n",
            " |-- suites: integer (nullable = true)\n",
            " |-- vaga: long (nullable = true)\n",
            " |-- bairro: string (nullable = true)\n",
            " |-- zona: string (nullable = true)\n",
            " |-- condominio: double (nullable = true)\n",
            " |-- iptu: double (nullable = true)\n",
            " |-- valor: double (nullable = true)\n",
            "\n"
          ]
        }
      ]
    },
    {
      "cell_type": "markdown",
      "source": [
        "# Tratamento da coluna características"
      ],
      "metadata": {
        "id": "bSAYN8jUkZWJ"
      }
    },
    {
      "cell_type": "code",
      "source": [
        "# os dados em que a coluna caracteristicas apresentan arrays vazios:\n",
        "\n",
        "data.filter(size('caracteristicas') == 0).show(5)"
      ],
      "metadata": {
        "colab": {
          "base_uri": "https://localhost:8080/"
        },
        "id": "ZiMCUVJkj_wl",
        "outputId": "f9a0442b-c46f-4ac9-e64e-8777f44efacf"
      },
      "execution_count": 452,
      "outputs": [
        {
          "output_type": "stream",
          "name": "stdout",
          "text": [
            "+--------------------+-----+----------+---------+---------+---------------+-------+------+----+------------+------------+----------+------+--------+\n",
            "|                  id|andar|area_total|area_util|banheiros|caracteristicas|quartos|suites|vaga|      bairro|        zona|condominio|  iptu|   valor|\n",
            "+--------------------+-----+----------+---------+---------+---------------+-------+------+----+------------+------------+----------+------+--------+\n",
            "|1fe78d41-b8e0-4d2...|    0|      44.0|     44.0|        1|             []|      2|     0|   0|       Irajá|  Zona Norte|     170.0|   0.0|110000.0|\n",
            "|1fa1c1e5-e98c-433...|    4|      null|     55.0|        1|             []|      2|     0|   1|      Cosmos|  Zona Oeste|      null|  null|115000.0|\n",
            "|a6ab01ae-3d40-40e...|    2|      null|     55.0|        1|             []|      2|     0|   0|Tomás Coelho|  Zona Norte|      null|  null|115000.0|\n",
            "|1d8ff7a2-16bd-4e3...|    0|      null|     50.0|        1|             []|      1|  null|   0|      Centro|Zona Central|    1300.0|2679.0|125000.0|\n",
            "|47af17f0-1c81-474...|    0|      65.0|     65.0|        1|             []|      2|     0|   1|    Campinho|  Zona Oeste|     432.0|  null|185000.0|\n",
            "+--------------------+-----+----------+---------+---------+---------------+-------+------+----+------------+------------+----------+------+--------+\n",
            "only showing top 5 rows\n",
            "\n"
          ]
        }
      ]
    },
    {
      "cell_type": "code",
      "source": [
        "# São ao todo:\n",
        "\n",
        "f'{data.filter(size(\"caracteristicas\") == 0).count()} linhas do dataframe com essa especificidade'"
      ],
      "metadata": {
        "colab": {
          "base_uri": "https://localhost:8080/",
          "height": 35
        },
        "id": "4VERhB7hkh6h",
        "outputId": "3c940910-bccd-4f81-ca3f-5e09dc35ead0"
      },
      "execution_count": 453,
      "outputs": [
        {
          "output_type": "execute_result",
          "data": {
            "text/plain": [
              "'12736 linhas do dataframe com essa especificidade'"
            ],
            "application/vnd.google.colaboratory.intrinsic+json": {
              "type": "string"
            }
          },
          "metadata": {},
          "execution_count": 453
        }
      ]
    },
    {
      "cell_type": "code",
      "source": [
        "# substitui-se os arrays vazios por valores nulos:\n",
        "\n",
        "data = data.withColumn('caracteristicas', when((size(col('caracteristicas')) == 0), lit(None)).otherwise(col('caracteristicas')))"
      ],
      "metadata": {
        "id": "D2j2fGCiyV6t"
      },
      "execution_count": 454,
      "outputs": []
    },
    {
      "cell_type": "code",
      "source": [
        "# e verifica-se que o número de linhas da coluna caracteristicas com valores nulos é igual ao número de linhas que tinham arrays vazios:\n",
        "\n",
        "data.filter(data['caracteristicas'].isNull()).count()"
      ],
      "metadata": {
        "colab": {
          "base_uri": "https://localhost:8080/"
        },
        "id": "vUgkEIdjywDN",
        "outputId": "abd6f5ff-11d8-42a5-9e14-18a790dd1ee9"
      },
      "execution_count": 455,
      "outputs": [
        {
          "output_type": "execute_result",
          "data": {
            "text/plain": [
              "12736"
            ]
          },
          "metadata": {},
          "execution_count": 455
        }
      ]
    },
    {
      "cell_type": "code",
      "source": [
        "data.filter(data['caracteristicas'].isNull()).show(5)"
      ],
      "metadata": {
        "colab": {
          "base_uri": "https://localhost:8080/"
        },
        "id": "t3he0ogM2-xu",
        "outputId": "df9ac263-d851-4c6d-89fc-d2e9ae094341"
      },
      "execution_count": 456,
      "outputs": [
        {
          "output_type": "stream",
          "name": "stdout",
          "text": [
            "+--------------------+-----+----------+---------+---------+---------------+-------+------+----+------------+------------+----------+------+--------+\n",
            "|                  id|andar|area_total|area_util|banheiros|caracteristicas|quartos|suites|vaga|      bairro|        zona|condominio|  iptu|   valor|\n",
            "+--------------------+-----+----------+---------+---------+---------------+-------+------+----+------------+------------+----------+------+--------+\n",
            "|1fe78d41-b8e0-4d2...|    0|      44.0|     44.0|        1|           null|      2|     0|   0|       Irajá|  Zona Norte|     170.0|   0.0|110000.0|\n",
            "|1fa1c1e5-e98c-433...|    4|      null|     55.0|        1|           null|      2|     0|   1|      Cosmos|  Zona Oeste|      null|  null|115000.0|\n",
            "|a6ab01ae-3d40-40e...|    2|      null|     55.0|        1|           null|      2|     0|   0|Tomás Coelho|  Zona Norte|      null|  null|115000.0|\n",
            "|1d8ff7a2-16bd-4e3...|    0|      null|     50.0|        1|           null|      1|  null|   0|      Centro|Zona Central|    1300.0|2679.0|125000.0|\n",
            "|47af17f0-1c81-474...|    0|      65.0|     65.0|        1|           null|      2|     0|   1|    Campinho|  Zona Oeste|     432.0|  null|185000.0|\n",
            "+--------------------+-----+----------+---------+---------+---------------+-------+------+----+------------+------------+----------+------+--------+\n",
            "only showing top 5 rows\n",
            "\n"
          ]
        }
      ]
    },
    {
      "cell_type": "markdown",
      "source": [
        "# Tratamento de dados nulos e NaN's"
      ],
      "metadata": {
        "id": "OlT1UL3fhJ2-"
      }
    },
    {
      "cell_type": "code",
      "source": [
        "selected_data = data.select(\n",
        "    'id', 'andar', 'area_total', \n",
        "    'area_util', 'banheiros', 'quartos', \n",
        "    'suites', 'vaga', 'bairro', \n",
        "    'zona', 'condominio', 'iptu', 'valor'\n",
        ")"
      ],
      "metadata": {
        "id": "r6PvN1kdihrI"
      },
      "execution_count": 457,
      "outputs": []
    },
    {
      "cell_type": "code",
      "source": [
        "# a quantidade de valores nulos (None e NaN) para cada coluna:\n",
        "\n",
        "data_count_null = data.select([count(when(isnan(c) | col(c).isNull(), c)).alias(c) for c in selected_data.columns])\n",
        "data_count_null.show()"
      ],
      "metadata": {
        "colab": {
          "base_uri": "https://localhost:8080/"
        },
        "id": "qp1A-2pShNnK",
        "outputId": "8592b3c2-6392-43ff-9e4f-18d7077629a3"
      },
      "execution_count": 458,
      "outputs": [
        {
          "output_type": "stream",
          "name": "stdout",
          "text": [
            "+---+-----+----------+---------+---------+-------+------+----+------+----+----------+----+-----+\n",
            "| id|andar|area_total|area_util|banheiros|quartos|suites|vaga|bairro|zona|condominio|iptu|valor|\n",
            "+---+-----+----------+---------+---------+-------+------+----+------+----+----------+----+-----+\n",
            "|  0|    0|      9194|        0|        0|      0|  5554|3017|     0|   0|      2371|7199|    0|\n",
            "+---+-----+----------+---------+---------+-------+------+----+------+----+----------+----+-----+\n",
            "\n"
          ]
        }
      ]
    },
    {
      "cell_type": "markdown",
      "source": [
        "## Porcentagem dos valores nulos"
      ],
      "metadata": {
        "id": "QzqKEwQYv8At"
      }
    },
    {
      "cell_type": "code",
      "source": [
        "# um possível tratamento para dados nulos é a eliminação desses dados do dataframe, porém isso só indicado quando os dados nulos não ultrapassam 10% dos dados:\n",
        "\n",
        "total_data = data.count()\n",
        "f'O dataframe possui {total_data} linhas com dados'"
      ],
      "metadata": {
        "colab": {
          "base_uri": "https://localhost:8080/",
          "height": 35
        },
        "id": "-ONtTW-GhSNc",
        "outputId": "1aa9cb5a-e7e1-45d3-8ec5-94ceb89ee1a9"
      },
      "execution_count": 459,
      "outputs": [
        {
          "output_type": "execute_result",
          "data": {
            "text/plain": [
              "'O dataframe possui 66562 linhas com dados'"
            ],
            "application/vnd.google.colaboratory.intrinsic+json": {
              "type": "string"
            }
          },
          "metadata": {},
          "execution_count": 459
        }
      ]
    },
    {
      "cell_type": "code",
      "source": [
        "f'Os dados nulos da coluna area_total correspondem a {round(((9194 / total_data) * 100), 2)}% dos dados'"
      ],
      "metadata": {
        "colab": {
          "base_uri": "https://localhost:8080/",
          "height": 35
        },
        "id": "KCHtnffOlQjF",
        "outputId": "725b1760-1d4f-4607-9bf7-a921b8f2c948"
      },
      "execution_count": 460,
      "outputs": [
        {
          "output_type": "execute_result",
          "data": {
            "text/plain": [
              "'Os dados nulos da coluna area_total correspondem a 13.81% dos dados'"
            ],
            "application/vnd.google.colaboratory.intrinsic+json": {
              "type": "string"
            }
          },
          "metadata": {},
          "execution_count": 460
        }
      ]
    },
    {
      "cell_type": "code",
      "source": [
        "f'Os dados nulos da coluna suites correspondem a {round(((5554 / total_data) * 100), 2)}% dos dados'"
      ],
      "metadata": {
        "colab": {
          "base_uri": "https://localhost:8080/",
          "height": 35
        },
        "id": "_u2vnKhilbSy",
        "outputId": "b9f67f11-bb7c-4fe7-9874-dc238743bb45"
      },
      "execution_count": 461,
      "outputs": [
        {
          "output_type": "execute_result",
          "data": {
            "text/plain": [
              "'Os dados nulos da coluna suites correspondem a 8.34% dos dados'"
            ],
            "application/vnd.google.colaboratory.intrinsic+json": {
              "type": "string"
            }
          },
          "metadata": {},
          "execution_count": 461
        }
      ]
    },
    {
      "cell_type": "code",
      "source": [
        "f'Os dados nulos da coluna vaga correspondem a {round(((3017 / total_data) * 100), 2)}% dos dados'"
      ],
      "metadata": {
        "colab": {
          "base_uri": "https://localhost:8080/",
          "height": 35
        },
        "id": "Fakq7UTylsGD",
        "outputId": "8bff83b6-ceea-488b-ccb4-67ec4ba905b2"
      },
      "execution_count": 462,
      "outputs": [
        {
          "output_type": "execute_result",
          "data": {
            "text/plain": [
              "'Os dados nulos da coluna vaga correspondem a 4.53% dos dados'"
            ],
            "application/vnd.google.colaboratory.intrinsic+json": {
              "type": "string"
            }
          },
          "metadata": {},
          "execution_count": 462
        }
      ]
    },
    {
      "cell_type": "code",
      "source": [
        "f'Os dados nulos da coluna condominio correspondem a {round(((2371 / total_data) * 100), 2)}% dos dados'"
      ],
      "metadata": {
        "colab": {
          "base_uri": "https://localhost:8080/",
          "height": 35
        },
        "id": "m3Datq7klyCA",
        "outputId": "60c4f329-861a-40de-c6a1-c14071908687"
      },
      "execution_count": 463,
      "outputs": [
        {
          "output_type": "execute_result",
          "data": {
            "text/plain": [
              "'Os dados nulos da coluna condominio correspondem a 3.56% dos dados'"
            ],
            "application/vnd.google.colaboratory.intrinsic+json": {
              "type": "string"
            }
          },
          "metadata": {},
          "execution_count": 463
        }
      ]
    },
    {
      "cell_type": "code",
      "source": [
        "f'Os dados nulos da coluna iptu correspondem a {round(((7199 / total_data) * 100), 2)}% dos dados'"
      ],
      "metadata": {
        "colab": {
          "base_uri": "https://localhost:8080/",
          "height": 35
        },
        "id": "OYootDsfo3m_",
        "outputId": "ac7261ad-5399-431e-e9f8-9b280aa1a0cf"
      },
      "execution_count": 464,
      "outputs": [
        {
          "output_type": "execute_result",
          "data": {
            "text/plain": [
              "'Os dados nulos da coluna iptu correspondem a 10.82% dos dados'"
            ],
            "application/vnd.google.colaboratory.intrinsic+json": {
              "type": "string"
            }
          },
          "metadata": {},
          "execution_count": 464
        }
      ]
    },
    {
      "cell_type": "markdown",
      "source": [
        "## Estatísticas descritivas"
      ],
      "metadata": {
        "id": "w4eq01v0v__x"
      }
    },
    {
      "cell_type": "code",
      "source": [
        "# a tabela abaixo mostra algumas estatísticas descritivas dos dados do dataframe:\n",
        "\n",
        "data_summary = data.summary()\n",
        "data_summary.show()"
      ],
      "metadata": {
        "colab": {
          "base_uri": "https://localhost:8080/"
        },
        "id": "KLQ92QxBwBtv",
        "outputId": "a6e2a1ab-f478-4ffb-b491-de00b0757a31"
      },
      "execution_count": 465,
      "outputs": [
        {
          "output_type": "stream",
          "name": "stdout",
          "text": [
            "+-------+--------------------+------------------+-----------------+------------------+------------------+------------------+------------------+------------------+----------+--------+------------------+------------------+------------------+\n",
            "|summary|                  id|             andar|       area_total|         area_util|         banheiros|           quartos|            suites|              vaga|    bairro|    zona|        condominio|              iptu|             valor|\n",
            "+-------+--------------------+------------------+-----------------+------------------+------------------+------------------+------------------+------------------+----------+--------+------------------+------------------+------------------+\n",
            "|  count|               66562|             66562|            57368|             66562|             66562|             66562|             61008|             63545|     66562|   66562|             64191|             59363|             66562|\n",
            "|   mean|                null|2.3374598119046905|938.1081264816622|116.73728253357771| 2.454583696403353|2.6121811243652533|1.2091528979805928|1.4069084900464237|      null|    null|4822.7975728684705|5447.7366036083085|1294433.2853129413|\n",
            "| stddev|                null|  14.6963496227043|84173.43322353458| 89.09094364150394|1.3582533594407473|0.9083944981999731|1.0567921717756774|1.3413027342394985|      null|    null|106049.70098633446| 181192.7605568003| 1471723.315533184|\n",
            "|    min|00002dd9-cc74-480...|                 0|              0.0|              10.0|                 1|                 0|                 0|                 0|  Abolição|        |               0.0|               0.0|           15000.0|\n",
            "|    25%|                null|                 0|             68.0|              67.0|                 2|                 2|                 1|                 1|      null|    null|             463.0|              54.0|          455000.0|\n",
            "|    50%|                null|                 0|             90.0|              90.0|                 2|                 3|                 1|                 1|      null|    null|             894.0|             360.0|          808600.0|\n",
            "|    75%|                null|                 3|            140.0|             138.0|                 3|                 3|                 1|                 2|      null|    null|            1480.0|            1849.0|         1540000.0|\n",
            "|    max|fffe97aa-814b-4eb...|              1234|      1.5022793E7|            3456.0|                19|                16|                30|                99|Água Santa|Zona Sul|             1.1E7|             2.0E7|            1.39E7|\n",
            "+-------+--------------------+------------------+-----------------+------------------+------------------+------------------+------------------+------------------+----------+--------+------------------+------------------+------------------+\n",
            "\n"
          ]
        }
      ]
    },
    {
      "cell_type": "markdown",
      "source": [
        "Mediana da coluna area_total"
      ],
      "metadata": {
        "id": "8qy0YilMzv60"
      }
    },
    {
      "cell_type": "code",
      "source": [
        "# ao usar o método collect() obtém-se um valor passando a linha em que este se encontra no dataframe, como anseia-se pela mediana:\n",
        "\n",
        "area_total_median = data_summary.select('area_total').collect()[5][0]\n",
        "area_total_median = float(area_total_median)\n",
        "area_total_median"
      ],
      "metadata": {
        "colab": {
          "base_uri": "https://localhost:8080/"
        },
        "id": "2Ql-aS7vxoNp",
        "outputId": "e579548a-f58b-450b-a617-1704e98a45b7"
      },
      "execution_count": 466,
      "outputs": [
        {
          "output_type": "execute_result",
          "data": {
            "text/plain": [
              "90.0"
            ]
          },
          "metadata": {},
          "execution_count": 466
        }
      ]
    },
    {
      "cell_type": "markdown",
      "source": [
        "Mediana da coluna suites"
      ],
      "metadata": {
        "id": "DvTEkWo2z01Q"
      }
    },
    {
      "cell_type": "code",
      "source": [
        "suites_median = int(data_summary.select('suites').collect()[5][0])\n",
        "suites_median"
      ],
      "metadata": {
        "colab": {
          "base_uri": "https://localhost:8080/"
        },
        "id": "DXwGvsWTxIQK",
        "outputId": "c092bf99-ac34-42a8-e2ef-48ed54dafcb9"
      },
      "execution_count": 467,
      "outputs": [
        {
          "output_type": "execute_result",
          "data": {
            "text/plain": [
              "1"
            ]
          },
          "metadata": {},
          "execution_count": 467
        }
      ]
    },
    {
      "cell_type": "markdown",
      "source": [
        "Mediana da coluna vaga"
      ],
      "metadata": {
        "id": "INQtgURR0G2g"
      }
    },
    {
      "cell_type": "code",
      "source": [
        "vaga_median = int(data_summary.select('vaga').collect()[5][0])\n",
        "vaga_median"
      ],
      "metadata": {
        "colab": {
          "base_uri": "https://localhost:8080/"
        },
        "id": "B3lZD14S0GEc",
        "outputId": "5a1a6c83-b5a9-4cc7-ea64-b8d891e426b9"
      },
      "execution_count": 468,
      "outputs": [
        {
          "output_type": "execute_result",
          "data": {
            "text/plain": [
              "1"
            ]
          },
          "metadata": {},
          "execution_count": 468
        }
      ]
    },
    {
      "cell_type": "markdown",
      "source": [
        "Mediana da coluna condominio"
      ],
      "metadata": {
        "id": "Jy6YGb-a0uNf"
      }
    },
    {
      "cell_type": "code",
      "source": [
        "condominio_median = float(data_summary.select('condominio').collect()[5][0])\n",
        "condominio_median"
      ],
      "metadata": {
        "colab": {
          "base_uri": "https://localhost:8080/"
        },
        "id": "sWYh9LYa0teT",
        "outputId": "6b105bd0-5d38-4c12-b9eb-a52abc17eb0b"
      },
      "execution_count": 469,
      "outputs": [
        {
          "output_type": "execute_result",
          "data": {
            "text/plain": [
              "894.0"
            ]
          },
          "metadata": {},
          "execution_count": 469
        }
      ]
    },
    {
      "cell_type": "markdown",
      "source": [
        "Mediana da coluna iptu"
      ],
      "metadata": {
        "id": "E_1vUwAD1i6g"
      }
    },
    {
      "cell_type": "code",
      "source": [
        "iptu_median = float(data_summary.select('iptu').collect()[5][0])\n",
        "iptu_median"
      ],
      "metadata": {
        "colab": {
          "base_uri": "https://localhost:8080/"
        },
        "id": "NspSRSvV1fqr",
        "outputId": "b47d0b9c-1468-45ca-a6d3-c70d62bd68e4"
      },
      "execution_count": 470,
      "outputs": [
        {
          "output_type": "execute_result",
          "data": {
            "text/plain": [
              "360.0"
            ]
          },
          "metadata": {},
          "execution_count": 470
        }
      ]
    },
    {
      "cell_type": "markdown",
      "source": [
        "## Substituição dos valores nulos pelas medianas das respectivas colunas"
      ],
      "metadata": {
        "id": "jpDvfexE39IN"
      }
    },
    {
      "cell_type": "code",
      "source": [
        "columns_median = {\n",
        "    'area_total': area_total_median,\n",
        "    'suites': suites_median,\n",
        "    'vaga': vaga_median,\n",
        "    'condominio': condominio_median,\n",
        "    'iptu': iptu_median\n",
        "}                  "
      ],
      "metadata": {
        "id": "tZOGATuo2ySr"
      },
      "execution_count": 471,
      "outputs": []
    },
    {
      "cell_type": "code",
      "source": [
        "# para substituir os valores nulos para cada coluna:\n",
        "\n",
        "for columns in columns_median.keys():\n",
        "  data = data.na.fill(value= columns_median[columns], subset= [columns])"
      ],
      "metadata": {
        "id": "5Ek5qUHs3UtI"
      },
      "execution_count": 472,
      "outputs": []
    },
    {
      "cell_type": "code",
      "source": [
        "data.select([count(when(isnan(c) | col(c).isNull(), c)).alias(c) for c in selected_data.columns]).show()"
      ],
      "metadata": {
        "colab": {
          "base_uri": "https://localhost:8080/"
        },
        "id": "AjRfwTYa4QLM",
        "outputId": "08aa3a98-ad2d-49e9-8598-20812561a491"
      },
      "execution_count": 473,
      "outputs": [
        {
          "output_type": "stream",
          "name": "stdout",
          "text": [
            "+---+-----+----------+---------+---------+-------+------+----+------+----+----------+----+-----+\n",
            "| id|andar|area_total|area_util|banheiros|quartos|suites|vaga|bairro|zona|condominio|iptu|valor|\n",
            "+---+-----+----------+---------+---------+-------+------+----+------+----+----------+----+-----+\n",
            "|  0|    0|         0|        0|        0|      0|     0|   0|     0|   0|         0|   0|    0|\n",
            "+---+-----+----------+---------+---------+-------+------+----+------+----+----------+----+-----+\n",
            "\n"
          ]
        }
      ]
    },
    {
      "cell_type": "code",
      "source": [
        "# todos os valores nulos foram substituídos pela mediana das respectivas colunas"
      ],
      "metadata": {
        "id": "HMcGu4LK4b9Y"
      },
      "execution_count": 474,
      "outputs": []
    },
    {
      "cell_type": "code",
      "source": [
        "data.show(10)"
      ],
      "metadata": {
        "colab": {
          "base_uri": "https://localhost:8080/"
        },
        "id": "axP7Pu7Q66a2",
        "outputId": "108f8045-f19f-4050-b42d-6f6ec25a7786"
      },
      "execution_count": 475,
      "outputs": [
        {
          "output_type": "stream",
          "name": "stdout",
          "text": [
            "+--------------------+-----+----------+---------+---------+--------------------+-------+------+----+--------------------+------------+----------+------+--------+\n",
            "|                  id|andar|area_total|area_util|banheiros|     caracteristicas|quartos|suites|vaga|              bairro|        zona|condominio|  iptu|   valor|\n",
            "+--------------------+-----+----------+---------+---------+--------------------+-------+------+----+--------------------+------------+----------+------+--------+\n",
            "|03a386b6-7ab8-4ef...|    0|      43.0|     43.0|        1|[Churrasqueira, A...|      2|     1|   1|            Realengo|  Zona Oeste|     285.0| 360.0| 22999.0|\n",
            "|1fe78d41-b8e0-4d2...|    0|      44.0|     44.0|        1|                null|      2|     0|   0|               Irajá|  Zona Norte|     170.0|   0.0|110000.0|\n",
            "|1fa1c1e5-e98c-433...|    4|      90.0|     55.0|        1|                null|      2|     0|   1|              Cosmos|  Zona Oeste|     894.0| 360.0|115000.0|\n",
            "|a6ab01ae-3d40-40e...|    2|      90.0|     55.0|        1|                null|      2|     0|   0|        Tomás Coelho|  Zona Norte|     894.0| 360.0|115000.0|\n",
            "|1d8ff7a2-16bd-4e3...|    0|      90.0|     50.0|        1|                null|      1|     1|   0|              Centro|Zona Central|    1300.0|2679.0|125000.0|\n",
            "|40a2cbde-946b-42d...|    2|      47.0|     47.0|        1|[Condomínio fecha...|      2|     0|   1|        Campo Grande|  Zona Oeste|     380.0| 360.0|138000.0|\n",
            "|be269ddf-a4a3-4a7...|    0|   17089.0|     45.0|        1|[Churrasqueira, C...|      2|     0|   1|        Campo Grande|  Zona Oeste|     356.0|   0.0|140000.0|\n",
            "|4b7e3d59-34fd-4ba...|    3|      48.0|     48.0|        1|[Churrasqueira, P...|      2|     1|   1|        Campo Grande|  Zona Oeste|       0.0|   0.0|150000.0|\n",
            "|a1a0c2ac-4fa8-4b0...|    9|      90.0|     55.0|        1|[Churrasqueira, E...|      2|     1|   1|Freguesia (Jacare...|  Zona Oeste|     780.0| 660.0|160000.0|\n",
            "|390d2b88-e06d-47e...|    0|      70.0|     70.0|        2|   [Salão de festas]|      2|     0|   1|          Praça Seca|  Zona Oeste|  420000.0| 360.0|159000.0|\n",
            "+--------------------+-----+----------+---------+---------+--------------------+-------+------+----+--------------------+------------+----------+------+--------+\n",
            "only showing top 10 rows\n",
            "\n"
          ]
        }
      ]
    },
    {
      "cell_type": "markdown",
      "source": [
        "# Preparação dos dados para machine learning"
      ],
      "metadata": {
        "id": "yTzZN4gBge-N"
      }
    },
    {
      "cell_type": "markdown",
      "source": [
        "## Coluna dummies"
      ],
      "metadata": {
        "id": "Ds7GIB3Dhdfq"
      }
    },
    {
      "cell_type": "code",
      "source": [
        "# os dados presentes nos arrays da coluna são:\n",
        "\n",
        "caracteristicas = data.select(explode('caracteristicas').alias('caracteristicas')).distinct()\n",
        "caracteristicas.show()"
      ],
      "metadata": {
        "colab": {
          "base_uri": "https://localhost:8080/"
        },
        "id": "KNKVOzff67_2",
        "outputId": "a8c31ccd-bd46-48ae-eef0-01c973c61108"
      },
      "execution_count": 476,
      "outputs": [
        {
          "output_type": "stream",
          "name": "stdout",
          "text": [
            "+------------------+\n",
            "|   caracteristicas|\n",
            "+------------------+\n",
            "|Condomínio fechado|\n",
            "|        Playground|\n",
            "| Portão eletrônico|\n",
            "|           Piscina|\n",
            "|Animais permitidos|\n",
            "|      Portaria 24h|\n",
            "|          Elevador|\n",
            "|          Academia|\n",
            "|   Salão de festas|\n",
            "|     Churrasqueira|\n",
            "+------------------+\n",
            "\n"
          ]
        }
      ]
    },
    {
      "cell_type": "code",
      "source": [
        "list_caracteristicas = [\n",
        "    'Condomínio fechado', 'Playground', 'Portão eletrônico',\n",
        "    'Piscina', 'Animais permitidos', 'Portaria 24h', 'Elevador',\n",
        "    'Academia', 'Salão de festas', 'Churrasqueira'\n",
        "]"
      ],
      "metadata": {
        "id": "D4Du1xivW9Iw"
      },
      "execution_count": 477,
      "outputs": []
    },
    {
      "cell_type": "code",
      "source": [
        "# dummies para as características do imóvel:\n",
        "\n",
        "for caracteristica in list_caracteristicas:\n",
        "  data = data.withColumn(caracteristica, when(array_contains(col(\"caracteristicas\"), caracteristica) == True, lit(1)).otherwise(0))"
      ],
      "metadata": {
        "id": "QvbN-TUc9WKk"
      },
      "execution_count": 478,
      "outputs": []
    },
    {
      "cell_type": "code",
      "source": [
        "# elimina-se a coluna caracteristicas do dataframe:\n",
        "\n",
        "data = data.drop('caracteristicas')"
      ],
      "metadata": {
        "id": "Vdq_1STl-7ag"
      },
      "execution_count": 479,
      "outputs": []
    },
    {
      "cell_type": "code",
      "source": [
        "data.columns"
      ],
      "metadata": {
        "id": "5y22KFCviG3K",
        "colab": {
          "base_uri": "https://localhost:8080/"
        },
        "outputId": "127d6872-73c0-42a0-837c-1a79d7ad5051"
      },
      "execution_count": 480,
      "outputs": [
        {
          "output_type": "execute_result",
          "data": {
            "text/plain": [
              "['id',\n",
              " 'andar',\n",
              " 'area_total',\n",
              " 'area_util',\n",
              " 'banheiros',\n",
              " 'quartos',\n",
              " 'suites',\n",
              " 'vaga',\n",
              " 'bairro',\n",
              " 'zona',\n",
              " 'condominio',\n",
              " 'iptu',\n",
              " 'valor',\n",
              " 'Condomínio fechado',\n",
              " 'Playground',\n",
              " 'Portão eletrônico',\n",
              " 'Piscina',\n",
              " 'Animais permitidos',\n",
              " 'Portaria 24h',\n",
              " 'Elevador',\n",
              " 'Academia',\n",
              " 'Salão de festas',\n",
              " 'Churrasqueira']"
            ]
          },
          "metadata": {},
          "execution_count": 480
        }
      ]
    },
    {
      "cell_type": "markdown",
      "source": [
        "# Zona dummies"
      ],
      "metadata": {
        "id": "5c9h0_pDBH3s"
      }
    },
    {
      "cell_type": "code",
      "source": [
        "# as zonas presentes no dataframe:\n",
        "\n",
        "data.select('zona').distinct().show()"
      ],
      "metadata": {
        "colab": {
          "base_uri": "https://localhost:8080/"
        },
        "id": "nTKG4JETBGUR",
        "outputId": "64b918ce-5a9f-4607-e967-8e463ec83885"
      },
      "execution_count": 481,
      "outputs": [
        {
          "output_type": "stream",
          "name": "stdout",
          "text": [
            "+------------+\n",
            "|        zona|\n",
            "+------------+\n",
            "|  Zona Norte|\n",
            "|  Zona Oeste|\n",
            "|Zona Central|\n",
            "|    Zona Sul|\n",
            "|            |\n",
            "+------------+\n",
            "\n"
          ]
        }
      ]
    },
    {
      "cell_type": "code",
      "source": [
        "# para gerar os dummies para a variável zona:\n",
        "\n",
        "zonas = data.groupBy('id').pivot('zona').agg(lit(1)).fillna(0)"
      ],
      "metadata": {
        "id": "fCjdHvRiBS5b"
      },
      "execution_count": 482,
      "outputs": []
    },
    {
      "cell_type": "code",
      "source": [
        "zonas = zonas.drop('')"
      ],
      "metadata": {
        "id": "HYppNyhBCbX_"
      },
      "execution_count": 483,
      "outputs": []
    },
    {
      "cell_type": "code",
      "source": [
        "zonas.show(5)"
      ],
      "metadata": {
        "colab": {
          "base_uri": "https://localhost:8080/"
        },
        "id": "9sdLLF4eBer2",
        "outputId": "8862f3dd-eb63-4de9-8409-993b6266032a"
      },
      "execution_count": 484,
      "outputs": [
        {
          "output_type": "stream",
          "name": "stdout",
          "text": [
            "+--------------------+------------+----------+----------+--------+\n",
            "|                  id|Zona Central|Zona Norte|Zona Oeste|Zona Sul|\n",
            "+--------------------+------------+----------+----------+--------+\n",
            "|4e47e4d4-3326-4eb...|           0|         0|         0|       1|\n",
            "|02fba6ef-a691-442...|           0|         0|         1|       0|\n",
            "|fc03c1a9-8bbb-41a...|           0|         1|         0|       0|\n",
            "|3dd5d200-0a7f-43d...|           0|         0|         0|       1|\n",
            "|82707939-71bd-40c...|           0|         0|         0|       1|\n",
            "+--------------------+------------+----------+----------+--------+\n",
            "only showing top 5 rows\n",
            "\n"
          ]
        }
      ]
    },
    {
      "cell_type": "code",
      "source": [
        "# juntado esses dados ao dataframe:\n",
        "\n",
        "data = data.join(zonas, 'id', how= 'inner')"
      ],
      "metadata": {
        "id": "QsMSuPWaBl9P"
      },
      "execution_count": 485,
      "outputs": []
    },
    {
      "cell_type": "code",
      "source": [
        "# elimina-se a coluna zona:\n",
        "\n",
        "data = data.drop('zona')"
      ],
      "metadata": {
        "id": "irYACeVQCG_N"
      },
      "execution_count": 486,
      "outputs": []
    },
    {
      "cell_type": "code",
      "source": [
        "data.show(5)"
      ],
      "metadata": {
        "colab": {
          "base_uri": "https://localhost:8080/"
        },
        "id": "7fT829nwCW5P",
        "outputId": "6e610dab-231a-429b-8267-b50c0250c25d"
      },
      "execution_count": 487,
      "outputs": [
        {
          "output_type": "stream",
          "name": "stdout",
          "text": [
            "+--------------------+-----+----------+---------+---------+-------+------+----+------------+----------+------+--------+------------------+----------+-----------------+-------+------------------+------------+--------+--------+---------------+-------------+------------+----------+----------+--------+\n",
            "|                  id|andar|area_total|area_util|banheiros|quartos|suites|vaga|      bairro|condominio|  iptu|   valor|Condomínio fechado|Playground|Portão eletrônico|Piscina|Animais permitidos|Portaria 24h|Elevador|Academia|Salão de festas|Churrasqueira|Zona Central|Zona Norte|Zona Oeste|Zona Sul|\n",
            "+--------------------+-----+----------+---------+---------+-------+------+----+------------+----------+------+--------+------------------+----------+-----------------+-------+------------------+------------+--------+--------+---------------+-------------+------------+----------+----------+--------+\n",
            "|03a386b6-7ab8-4ef...|    0|      43.0|     43.0|        1|      2|     1|   1|    Realengo|     285.0| 360.0| 22999.0|                 1|         1|                1|      0|                 1|           1|       0|       1|              1|            1|           0|         0|         1|       0|\n",
            "|1fe78d41-b8e0-4d2...|    0|      44.0|     44.0|        1|      2|     0|   0|       Irajá|     170.0|   0.0|110000.0|                 0|         0|                0|      0|                 0|           0|       0|       0|              0|            0|           0|         1|         0|       0|\n",
            "|1fa1c1e5-e98c-433...|    4|      90.0|     55.0|        1|      2|     0|   1|      Cosmos|     894.0| 360.0|115000.0|                 0|         0|                0|      0|                 0|           0|       0|       0|              0|            0|           0|         0|         1|       0|\n",
            "|a6ab01ae-3d40-40e...|    2|      90.0|     55.0|        1|      2|     0|   0|Tomás Coelho|     894.0| 360.0|115000.0|                 0|         0|                0|      0|                 0|           0|       0|       0|              0|            0|           0|         1|         0|       0|\n",
            "|1d8ff7a2-16bd-4e3...|    0|      90.0|     50.0|        1|      1|     1|   0|      Centro|    1300.0|2679.0|125000.0|                 0|         0|                0|      0|                 0|           0|       0|       0|              0|            0|           1|         0|         0|       0|\n",
            "+--------------------+-----+----------+---------+---------+-------+------+----+------------+----------+------+--------+------------------+----------+-----------------+-------+------------------+------------+--------+--------+---------------+-------------+------------+----------+----------+--------+\n",
            "only showing top 5 rows\n",
            "\n"
          ]
        }
      ]
    },
    {
      "cell_type": "code",
      "source": [
        "# remove-se a coluna bairro:\n",
        "\n",
        "data = data.drop('bairro')"
      ],
      "metadata": {
        "id": "FfX6miQbNDG8"
      },
      "execution_count": 488,
      "outputs": []
    },
    {
      "cell_type": "markdown",
      "source": [
        "# Salvando a base de dados em formato parquet"
      ],
      "metadata": {
        "id": "xfZRu4vmGIAO"
      }
    },
    {
      "cell_type": "code",
      "source": [
        "data.columns"
      ],
      "metadata": {
        "colab": {
          "base_uri": "https://localhost:8080/"
        },
        "id": "3scFk90rGgZS",
        "outputId": "d3b2583d-1cc5-4f09-ab7f-943e2eed02d1"
      },
      "execution_count": 489,
      "outputs": [
        {
          "output_type": "execute_result",
          "data": {
            "text/plain": [
              "['id',\n",
              " 'andar',\n",
              " 'area_total',\n",
              " 'area_util',\n",
              " 'banheiros',\n",
              " 'quartos',\n",
              " 'suites',\n",
              " 'vaga',\n",
              " 'condominio',\n",
              " 'iptu',\n",
              " 'valor',\n",
              " 'Condomínio fechado',\n",
              " 'Playground',\n",
              " 'Portão eletrônico',\n",
              " 'Piscina',\n",
              " 'Animais permitidos',\n",
              " 'Portaria 24h',\n",
              " 'Elevador',\n",
              " 'Academia',\n",
              " 'Salão de festas',\n",
              " 'Churrasqueira',\n",
              " 'Zona Central',\n",
              " 'Zona Norte',\n",
              " 'Zona Oeste',\n",
              " 'Zona Sul']"
            ]
          },
          "metadata": {},
          "execution_count": 489
        }
      ]
    },
    {
      "cell_type": "code",
      "source": [
        "# renomeando as novas colunas para que estejam adequadas ao formato parquet:\n",
        "\n",
        "data = data.withColumnRenamed('Condomínio fechado', 'condominio_fechado')\\\n",
        "        .withColumnRenamed('Playground', 'playground')\\\n",
        "        .withColumnRenamed('Portão eletrônico', 'portao_eletronico')\\\n",
        "        .withColumnRenamed('Piscina', 'piscina')\\\n",
        "        .withColumnRenamed('Animais permitidos', 'animais_permitidos')\\\n",
        "        .withColumnRenamed('Portaria 24h', 'portaria_24h')\\\n",
        "        .withColumnRenamed('Elevador', 'elevador')\\\n",
        "        .withColumnRenamed('Academia', 'academia')\\\n",
        "        .withColumnRenamed('Salão de festas', 'salao_de_festas')\\\n",
        "        .withColumnRenamed('Churrasqueira', 'churrasqueira')\\\n",
        "        .withColumnRenamed('Zona Central', 'zona_central')\\\n",
        "        .withColumnRenamed('Zona Norte', 'zona_norte')\\\n",
        "        .withColumnRenamed('Zona Oeste', 'zona_oeste')\\\n",
        "        .withColumnRenamed('Zona Sul', 'zona_sul')"
      ],
      "metadata": {
        "id": "hgMqDf_BHihw"
      },
      "execution_count": 490,
      "outputs": []
    },
    {
      "cell_type": "code",
      "source": [
        "data.write.parquet('dataset_imoveis_RJ')"
      ],
      "metadata": {
        "colab": {
          "base_uri": "https://localhost:8080/",
          "height": 311
        },
        "id": "davYQ943EZHD",
        "outputId": "ffb8ae14-cd58-4cce-8ef8-535171a6b640"
      },
      "execution_count": 491,
      "outputs": [
        {
          "output_type": "error",
          "ename": "AnalysisException",
          "evalue": "ignored",
          "traceback": [
            "\u001b[0;31m---------------------------------------------------------------------------\u001b[0m",
            "\u001b[0;31mAnalysisException\u001b[0m                         Traceback (most recent call last)",
            "\u001b[0;32m<ipython-input-491-2added43c3d8>\u001b[0m in \u001b[0;36m<module>\u001b[0;34m\u001b[0m\n\u001b[0;32m----> 1\u001b[0;31m \u001b[0mdata\u001b[0m\u001b[0;34m.\u001b[0m\u001b[0mwrite\u001b[0m\u001b[0;34m.\u001b[0m\u001b[0mparquet\u001b[0m\u001b[0;34m(\u001b[0m\u001b[0;34m'dataset_imoveis_RJ'\u001b[0m\u001b[0;34m)\u001b[0m\u001b[0;34m\u001b[0m\u001b[0;34m\u001b[0m\u001b[0m\n\u001b[0m",
            "\u001b[0;32m/content/spark-3.1.2-bin-hadoop2.7/python/pyspark/sql/readwriter.py\u001b[0m in \u001b[0;36mparquet\u001b[0;34m(self, path, mode, partitionBy, compression)\u001b[0m\n\u001b[1;32m   1248\u001b[0m             \u001b[0mself\u001b[0m\u001b[0;34m.\u001b[0m\u001b[0mpartitionBy\u001b[0m\u001b[0;34m(\u001b[0m\u001b[0mpartitionBy\u001b[0m\u001b[0;34m)\u001b[0m\u001b[0;34m\u001b[0m\u001b[0;34m\u001b[0m\u001b[0m\n\u001b[1;32m   1249\u001b[0m         \u001b[0mself\u001b[0m\u001b[0;34m.\u001b[0m\u001b[0m_set_opts\u001b[0m\u001b[0;34m(\u001b[0m\u001b[0mcompression\u001b[0m\u001b[0;34m=\u001b[0m\u001b[0mcompression\u001b[0m\u001b[0;34m)\u001b[0m\u001b[0;34m\u001b[0m\u001b[0;34m\u001b[0m\u001b[0m\n\u001b[0;32m-> 1250\u001b[0;31m         \u001b[0mself\u001b[0m\u001b[0;34m.\u001b[0m\u001b[0m_jwrite\u001b[0m\u001b[0;34m.\u001b[0m\u001b[0mparquet\u001b[0m\u001b[0;34m(\u001b[0m\u001b[0mpath\u001b[0m\u001b[0;34m)\u001b[0m\u001b[0;34m\u001b[0m\u001b[0;34m\u001b[0m\u001b[0m\n\u001b[0m\u001b[1;32m   1251\u001b[0m \u001b[0;34m\u001b[0m\u001b[0m\n\u001b[1;32m   1252\u001b[0m     \u001b[0;32mdef\u001b[0m \u001b[0mtext\u001b[0m\u001b[0;34m(\u001b[0m\u001b[0mself\u001b[0m\u001b[0;34m,\u001b[0m \u001b[0mpath\u001b[0m\u001b[0;34m,\u001b[0m \u001b[0mcompression\u001b[0m\u001b[0;34m=\u001b[0m\u001b[0;32mNone\u001b[0m\u001b[0;34m,\u001b[0m \u001b[0mlineSep\u001b[0m\u001b[0;34m=\u001b[0m\u001b[0;32mNone\u001b[0m\u001b[0;34m)\u001b[0m\u001b[0;34m:\u001b[0m\u001b[0;34m\u001b[0m\u001b[0;34m\u001b[0m\u001b[0m\n",
            "\u001b[0;32m/content/spark-3.1.2-bin-hadoop2.7/python/lib/py4j-0.10.9-src.zip/py4j/java_gateway.py\u001b[0m in \u001b[0;36m__call__\u001b[0;34m(self, *args)\u001b[0m\n\u001b[1;32m   1302\u001b[0m \u001b[0;34m\u001b[0m\u001b[0m\n\u001b[1;32m   1303\u001b[0m         \u001b[0manswer\u001b[0m \u001b[0;34m=\u001b[0m \u001b[0mself\u001b[0m\u001b[0;34m.\u001b[0m\u001b[0mgateway_client\u001b[0m\u001b[0;34m.\u001b[0m\u001b[0msend_command\u001b[0m\u001b[0;34m(\u001b[0m\u001b[0mcommand\u001b[0m\u001b[0;34m)\u001b[0m\u001b[0;34m\u001b[0m\u001b[0;34m\u001b[0m\u001b[0m\n\u001b[0;32m-> 1304\u001b[0;31m         return_value = get_return_value(\n\u001b[0m\u001b[1;32m   1305\u001b[0m             answer, self.gateway_client, self.target_id, self.name)\n\u001b[1;32m   1306\u001b[0m \u001b[0;34m\u001b[0m\u001b[0m\n",
            "\u001b[0;32m/content/spark-3.1.2-bin-hadoop2.7/python/pyspark/sql/utils.py\u001b[0m in \u001b[0;36mdeco\u001b[0;34m(*a, **kw)\u001b[0m\n\u001b[1;32m    115\u001b[0m                 \u001b[0;31m# Hide where the exception came from that shows a non-Pythonic\u001b[0m\u001b[0;34m\u001b[0m\u001b[0;34m\u001b[0m\u001b[0;34m\u001b[0m\u001b[0m\n\u001b[1;32m    116\u001b[0m                 \u001b[0;31m# JVM exception message.\u001b[0m\u001b[0;34m\u001b[0m\u001b[0;34m\u001b[0m\u001b[0;34m\u001b[0m\u001b[0m\n\u001b[0;32m--> 117\u001b[0;31m                 \u001b[0;32mraise\u001b[0m \u001b[0mconverted\u001b[0m \u001b[0;32mfrom\u001b[0m \u001b[0;32mNone\u001b[0m\u001b[0;34m\u001b[0m\u001b[0;34m\u001b[0m\u001b[0m\n\u001b[0m\u001b[1;32m    118\u001b[0m             \u001b[0;32melse\u001b[0m\u001b[0;34m:\u001b[0m\u001b[0;34m\u001b[0m\u001b[0;34m\u001b[0m\u001b[0m\n\u001b[1;32m    119\u001b[0m                 \u001b[0;32mraise\u001b[0m\u001b[0;34m\u001b[0m\u001b[0;34m\u001b[0m\u001b[0m\n",
            "\u001b[0;31mAnalysisException\u001b[0m: path file:/content/dataset_imoveis_RJ already exists."
          ]
        }
      ]
    },
    {
      "cell_type": "markdown",
      "source": [
        "# Vetorização dos dados"
      ],
      "metadata": {
        "id": "CCFMlGP0Jkp0"
      }
    },
    {
      "cell_type": "code",
      "source": [
        "from pyspark.ml.feature import VectorAssembler"
      ],
      "metadata": {
        "id": "mIo7SUczLvIQ"
      },
      "execution_count": 492,
      "outputs": []
    },
    {
      "cell_type": "code",
      "source": [
        "features = ['andar', 'area_total', 'area_util', 'banheiros', 'quartos', 'suites', 'vaga',\n",
        "            'condominio', 'iptu', 'valor', 'condominio_fechado', 'playground', 'portao_eletronico',\n",
        "            'piscina', 'animais_permitidos', 'portaria_24h', 'elevador', 'academia', 'salao_de_festas',\n",
        "            'churrasqueira', 'zona_central', 'zona_norte', 'zona_oeste', 'zona_sul']"
      ],
      "metadata": {
        "id": "KfeYrmbiGZP8"
      },
      "execution_count": 493,
      "outputs": []
    },
    {
      "cell_type": "code",
      "source": [
        "assembler = VectorAssembler(inputCols= features, outputCol= 'features')"
      ],
      "metadata": {
        "id": "ZN89gmszMZpw"
      },
      "execution_count": 494,
      "outputs": []
    },
    {
      "cell_type": "code",
      "source": [
        "output = assembler.transform(data)"
      ],
      "metadata": {
        "id": "Pwogv3EjMyAv"
      },
      "execution_count": 495,
      "outputs": []
    },
    {
      "cell_type": "code",
      "source": [
        "output = output.select('features', 'valor').withColumnRenamed('valor', 'values')\n"
      ],
      "metadata": {
        "id": "h86MVgnkM4ou"
      },
      "execution_count": 496,
      "outputs": []
    },
    {
      "cell_type": "code",
      "source": [
        "output.show(5, truncate= False)"
      ],
      "metadata": {
        "colab": {
          "base_uri": "https://localhost:8080/"
        },
        "id": "kOPu2STcNU_z",
        "outputId": "522fbb3d-652a-43f2-ffc5-5c86951376f9"
      },
      "execution_count": 497,
      "outputs": [
        {
          "output_type": "stream",
          "name": "stdout",
          "text": [
            "+-----------------------------------------------------------------------------------------------------------+--------+\n",
            "|features                                                                                                   |values  |\n",
            "+-----------------------------------------------------------------------------------------------------------+--------+\n",
            "|[0.0,43.0,43.0,1.0,2.0,1.0,1.0,285.0,360.0,22999.0,1.0,1.0,1.0,0.0,1.0,1.0,0.0,1.0,1.0,1.0,0.0,0.0,1.0,0.0]|22999.0 |\n",
            "|(24,[1,2,3,4,7,9,21],[44.0,44.0,1.0,2.0,170.0,110000.0,1.0])                                               |110000.0|\n",
            "|(24,[0,1,2,3,4,6,7,8,9,22],[4.0,90.0,55.0,1.0,2.0,1.0,894.0,360.0,115000.0,1.0])                           |115000.0|\n",
            "|(24,[0,1,2,3,4,7,8,9,21],[2.0,90.0,55.0,1.0,2.0,894.0,360.0,115000.0,1.0])                                 |115000.0|\n",
            "|(24,[1,2,3,4,5,7,8,9,20],[90.0,50.0,1.0,1.0,1.0,1300.0,2679.0,125000.0,1.0])                               |125000.0|\n",
            "+-----------------------------------------------------------------------------------------------------------+--------+\n",
            "only showing top 5 rows\n",
            "\n"
          ]
        }
      ]
    },
    {
      "cell_type": "markdown",
      "source": [
        "# Modelo de regressão linear"
      ],
      "metadata": {
        "id": "m5WQ07ftTG-5"
      }
    },
    {
      "cell_type": "code",
      "source": [
        "from pyspark.ml.regression import LinearRegression"
      ],
      "metadata": {
        "id": "ylQaEBkvUKNv"
      },
      "execution_count": 498,
      "outputs": []
    },
    {
      "cell_type": "code",
      "source": [
        "# definindo os dados de treinamento e teste:\n",
        "\n",
        "train_data, test_data = output.randomSplit([0.7, 0.3], seed= 101)"
      ],
      "metadata": {
        "id": "bDcE-QqYPPVL"
      },
      "execution_count": 525,
      "outputs": []
    },
    {
      "cell_type": "code",
      "source": [
        "# modelo:\n",
        "\n",
        "regressor = LinearRegression(featuresCol= 'features', labelCol= 'values')\n",
        "regressor = regressor.fit(train_data)"
      ],
      "metadata": {
        "id": "gQpvGCP5Uy6L"
      },
      "execution_count": 526,
      "outputs": []
    },
    {
      "cell_type": "code",
      "source": [
        "# predições treino:\n",
        "\n",
        "pred_train_data = regressor.evaluate(train_data)\n",
        "pred_train_data.predictions.show(5)"
      ],
      "metadata": {
        "colab": {
          "base_uri": "https://localhost:8080/"
        },
        "id": "a9WRWXQ5abKk",
        "outputId": "b2808b5e-d3d3-4729-c46a-9a495298fdca"
      },
      "execution_count": 527,
      "outputs": [
        {
          "output_type": "stream",
          "name": "stdout",
          "text": [
            "+--------------------+---------+------------------+\n",
            "|            features|   values|        prediction|\n",
            "+--------------------+---------+------------------+\n",
            "|(24,[0,1,2,3,4,5,...| 165000.0|165000.00000000015|\n",
            "|(24,[0,1,2,3,4,5,...| 690000.0| 690000.0000000002|\n",
            "|(24,[0,1,2,3,4,5,...|2850000.0|         2850000.0|\n",
            "|(24,[0,1,2,3,4,5,...|3250000.0|3249999.9999999995|\n",
            "|(24,[0,1,2,3,4,5,...|6900000.0| 6899999.999999999|\n",
            "+--------------------+---------+------------------+\n",
            "only showing top 5 rows\n",
            "\n"
          ]
        }
      ]
    },
    {
      "cell_type": "code",
      "source": [
        "# predições teste:\n",
        "\n",
        "pred_test_data = regressor.evaluate(test_data)\n",
        "pred_test_data.predictions.show(5)"
      ],
      "metadata": {
        "colab": {
          "base_uri": "https://localhost:8080/"
        },
        "id": "e0tbGc18VQ5F",
        "outputId": "e0e2ffa8-937d-4c40-f239-5aa10ce40e49"
      },
      "execution_count": 528,
      "outputs": [
        {
          "output_type": "stream",
          "name": "stdout",
          "text": [
            "+--------------------+---------+------------------+\n",
            "|            features|   values|        prediction|\n",
            "+--------------------+---------+------------------+\n",
            "|(24,[0,1,2,3,4,5,...|4140000.0|         4140000.0|\n",
            "|(24,[0,1,2,3,4,5,...|4090000.0|         4090000.0|\n",
            "|(24,[0,1,2,3,4,5,...| 250000.0| 250000.0000000001|\n",
            "|(24,[0,1,2,3,4,5,...| 112000.0|112000.00000000019|\n",
            "|(24,[0,1,2,3,4,5,...| 145000.0| 145000.0000000001|\n",
            "+--------------------+---------+------------------+\n",
            "only showing top 5 rows\n",
            "\n"
          ]
        }
      ]
    },
    {
      "cell_type": "markdown",
      "source": [
        "# Avaliação do modelo de regressão linear"
      ],
      "metadata": {
        "id": "-7RkHaEfV36K"
      }
    },
    {
      "cell_type": "markdown",
      "source": [
        "## Treino"
      ],
      "metadata": {
        "id": "9CrM4MaZbFew"
      }
    },
    {
      "cell_type": "markdown",
      "source": [
        "### RMSE"
      ],
      "metadata": {
        "id": "Xac5tcqWWsaL"
      }
    },
    {
      "cell_type": "code",
      "source": [
        "f'RMSE para os dados de treino: {pred_train_data.rootMeanSquaredError}'"
      ],
      "metadata": {
        "colab": {
          "base_uri": "https://localhost:8080/",
          "height": 35
        },
        "id": "B0mAh4OcVkhi",
        "outputId": "d65dd59d-1288-4543-9596-bcef5fe4b584"
      },
      "execution_count": 529,
      "outputs": [
        {
          "output_type": "execute_result",
          "data": {
            "text/plain": [
              "'RMSE para os dados de treino: 1.1797639640974213e-09'"
            ],
            "application/vnd.google.colaboratory.intrinsic+json": {
              "type": "string"
            }
          },
          "metadata": {},
          "execution_count": 529
        }
      ]
    },
    {
      "cell_type": "markdown",
      "source": [
        "### R²"
      ],
      "metadata": {
        "id": "d90xBlnwZnEq"
      }
    },
    {
      "cell_type": "code",
      "source": [
        "f'R² para os dados de treino: {pred_train_data.r2}'"
      ],
      "metadata": {
        "colab": {
          "base_uri": "https://localhost:8080/",
          "height": 35
        },
        "id": "a9WnQPtrXdLS",
        "outputId": "aa718d0d-be6f-43c2-e1af-5df7b6c902a9"
      },
      "execution_count": 530,
      "outputs": [
        {
          "output_type": "execute_result",
          "data": {
            "text/plain": [
              "'R² para os dados de treino: 1.0'"
            ],
            "application/vnd.google.colaboratory.intrinsic+json": {
              "type": "string"
            }
          },
          "metadata": {},
          "execution_count": 530
        }
      ]
    },
    {
      "cell_type": "markdown",
      "source": [
        "## Teste"
      ],
      "metadata": {
        "id": "U3qPKEAPbNaA"
      }
    },
    {
      "cell_type": "code",
      "source": [
        "f'RMSE para os dados de teste: {pred_test_data.rootMeanSquaredError}'"
      ],
      "metadata": {
        "colab": {
          "base_uri": "https://localhost:8080/",
          "height": 35
        },
        "id": "avtShxGcY7fy",
        "outputId": "6cd0cb14-fd1a-42e8-8b52-5e8074145c13"
      },
      "execution_count": 531,
      "outputs": [
        {
          "output_type": "execute_result",
          "data": {
            "text/plain": [
              "'RMSE para os dados de teste: 1.3460665178383408e-09'"
            ],
            "application/vnd.google.colaboratory.intrinsic+json": {
              "type": "string"
            }
          },
          "metadata": {},
          "execution_count": 531
        }
      ]
    },
    {
      "cell_type": "code",
      "source": [
        "f'R² para os dados de teste: {pred_test_data.r2}'"
      ],
      "metadata": {
        "colab": {
          "base_uri": "https://localhost:8080/",
          "height": 35
        },
        "id": "Jba22sxkZ5e6",
        "outputId": "2a584a11-2d23-4d84-ff6e-ba16aa784165"
      },
      "execution_count": 532,
      "outputs": [
        {
          "output_type": "execute_result",
          "data": {
            "text/plain": [
              "'R² para os dados de teste: 1.0'"
            ],
            "application/vnd.google.colaboratory.intrinsic+json": {
              "type": "string"
            }
          },
          "metadata": {},
          "execution_count": 532
        }
      ]
    },
    {
      "cell_type": "markdown",
      "source": [
        "# Análise de correlação"
      ],
      "metadata": {
        "id": "reI9UzNifl1L"
      }
    },
    {
      "cell_type": "code",
      "source": [
        "from pyspark.ml.stat import Correlation\n",
        "import pandas as pd"
      ],
      "metadata": {
        "id": "hE4mUMx7bZuL"
      },
      "execution_count": 534,
      "outputs": []
    },
    {
      "cell_type": "code",
      "source": [
        "correlation = Correlation.corr(output, 'features').collect()[0][0]"
      ],
      "metadata": {
        "id": "fKhRZJyGgL7P"
      },
      "execution_count": 539,
      "outputs": []
    },
    {
      "cell_type": "code",
      "source": [
        "df_correlation = pd.DataFrame(correlation.toArray(), columns= features, index= features)"
      ],
      "metadata": {
        "id": "AUbbRSYwglHl"
      },
      "execution_count": 542,
      "outputs": []
    },
    {
      "cell_type": "code",
      "source": [
        "import matplotlib.pyplot as plt\n",
        "import seaborn as sns"
      ],
      "metadata": {
        "id": "pHGVAgQWgprH"
      },
      "execution_count": 546,
      "outputs": []
    },
    {
      "cell_type": "code",
      "source": [
        "colors = sns.color_palette(\"light:orange\", as_cmap=True)"
      ],
      "metadata": {
        "id": "6SURENURhjf8"
      },
      "execution_count": 548,
      "outputs": []
    },
    {
      "cell_type": "code",
      "source": [
        "plt.figure(figsize= (16, 12))\n",
        "sns.heatmap(df_correlation.round(2), annot= True, cmap= colors)\n",
        "plt.show()"
      ],
      "metadata": {
        "colab": {
          "base_uri": "https://localhost:8080/",
          "height": 797
        },
        "id": "C3QXuNZ9hE-g",
        "outputId": "0f51f240-e818-4eb8-b94b-374c2f724c0d"
      },
      "execution_count": 552,
      "outputs": [
        {
          "output_type": "display_data",
          "data": {
            "text/plain": [
              "<Figure size 1152x864 with 2 Axes>"
            ],
            "image/png": "[encoded data removed]"
          },
          "metadata": {
            "needs_background": "light"
          }
        }
      ]
    },
    {
      "cell_type": "code",
      "source": [],
      "metadata": {
        "id": "-qQRztVXhfb1"
      },
      "execution_count": null,
      "outputs": []
    }
  ]
}