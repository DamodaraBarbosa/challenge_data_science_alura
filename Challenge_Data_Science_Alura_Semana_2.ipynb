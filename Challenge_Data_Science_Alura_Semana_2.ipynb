{
  "nbformat": 4,
  "nbformat_minor": 0,
  "metadata": {
    "colab": {
      "provenance": [],
      "mount_file_id": "1QqSXf6vA_68WQ6gBFsZ9ANDkHEZ4X3t7",
      "authorship_tag": "ABX9TyPjTHGVccccjUHIG/s1Q8Jv",
      "include_colab_link": true
    },
    "kernelspec": {
      "name": "python3",
      "display_name": "Python 3"
    },
    "language_info": {
      "name": "python"
    }
  },
  "cells": [
    {
      "cell_type": "markdown",
      "metadata": {
        "id": "view-in-github",
        "colab_type": "text"
      },
      "source": [
        "<a href=\"https://colab.research.google.com/github/DamodaraBarbosa/challenge_data_science_alura/blob/main/Challenge_Data_Science_Alura_Semana_2.ipynb\" target=\"_parent\"><img src=\"https://colab.research.google.com/assets/colab-badge.svg\" alt=\"Open In Colab\"/></a>"
      ]
    },
    {
      "cell_type": "markdown",
      "source": [
        "Instalando dependências do Spark"
      ],
      "metadata": {
        "id": "rCMCb42AgP_7"
      }
    },
    {
      "cell_type": "code",
      "execution_count": 146,
      "metadata": {
        "id": "UMsa41Wwecx3"
      },
      "outputs": [],
      "source": [
        "!apt-get update -qq\n",
        "!apt-get install openjdk-8-jdk-headless -qq > /dev/null\n",
        "!wget -q https://archive.apache.org/dist/spark/spark-3.1.2/spark-3.1.2-bin-hadoop2.7.tgz\n",
        "!tar xf spark-3.1.2-bin-hadoop2.7.tgz\n",
        "!pip install -q findspark"
      ]
    },
    {
      "cell_type": "markdown",
      "source": [
        "Importando OS"
      ],
      "metadata": {
        "id": "T-x9Cu_FgT68"
      }
    },
    {
      "cell_type": "code",
      "source": [
        "import os\n",
        "os.environ[\"JAVA_HOME\"] = \"/usr/lib/jvm/java-8-openjdk-amd64\"\n",
        "os.environ[\"SPARK_HOME\"] = \"/content/spark-3.1.2-bin-hadoop2.7\""
      ],
      "metadata": {
        "id": "kutuZ3ZHekGq"
      },
      "execution_count": 147,
      "outputs": []
    },
    {
      "cell_type": "markdown",
      "source": [
        "Importando o Spark Session"
      ],
      "metadata": {
        "id": "fy8wy-M2gac9"
      }
    },
    {
      "cell_type": "code",
      "source": [
        "import findspark\n",
        "findspark.init()"
      ],
      "metadata": {
        "id": "QJjgFUaYel0B"
      },
      "execution_count": 148,
      "outputs": []
    },
    {
      "cell_type": "code",
      "source": [
        "from pyspark.sql import SparkSession\n",
        "\n",
        "spark = SparkSession.builder \\\n",
        "    .master('local[*]') \\\n",
        "    .appName(\"Iniciando com Spark\") \\\n",
        "    .getOrCreate()"
      ],
      "metadata": {
        "id": "dQ9MtsfOenPX"
      },
      "execution_count": 149,
      "outputs": []
    },
    {
      "cell_type": "code",
      "source": [
        "spark"
      ],
      "metadata": {
        "colab": {
          "base_uri": "https://localhost:8080/",
          "height": 219
        },
        "id": "5B5pIzRrerB4",
        "outputId": "69bb0791-9765-4a74-cec4-de1b58ffd72b"
      },
      "execution_count": 150,
      "outputs": [
        {
          "output_type": "execute_result",
          "data": {
            "text/plain": [
              "<pyspark.sql.session.SparkSession at 0x7f5cf1b863d0>"
            ],
            "text/html": [
              "\n",
              "            <div>\n",
              "                <p><b>SparkSession - in-memory</b></p>\n",
              "                \n",
              "        <div>\n",
              "            <p><b>SparkContext</b></p>\n",
              "\n",
              "            <p><a href=\"http://d0f3efbd3318:4040\">Spark UI</a></p>\n",
              "\n",
              "            <dl>\n",
              "              <dt>Version</dt>\n",
              "                <dd><code>v3.1.2</code></dd>\n",
              "              <dt>Master</dt>\n",
              "                <dd><code>local[*]</code></dd>\n",
              "              <dt>AppName</dt>\n",
              "                <dd><code>Iniciando com Spark</code></dd>\n",
              "            </dl>\n",
              "        </div>\n",
              "        \n",
              "            </div>\n",
              "        "
            ]
          },
          "metadata": {},
          "execution_count": 150
        }
      ]
    },
    {
      "cell_type": "markdown",
      "source": [
        "# Carregando dados no dataframe"
      ],
      "metadata": {
        "id": "AgiMmfIbg1zy"
      }
    },
    {
      "cell_type": "code",
      "source": [
        "data = spark.read.parquet('/content/drive/MyDrive/Alura/Challenge Data Science/part-00000-00341ba7-0a7c-4fef-a81e-1066725a64b1-c000.snappy.parquet')"
      ],
      "metadata": {
        "id": "Kee9IS-dgcsp"
      },
      "execution_count": 151,
      "outputs": []
    },
    {
      "cell_type": "code",
      "source": [
        "data.show(10)"
      ],
      "metadata": {
        "colab": {
          "base_uri": "https://localhost:8080/"
        },
        "id": "PVD_zKWJhIsK",
        "outputId": "b1db2360-a107-446c-c2f3-97788d2b946a"
      },
      "execution_count": 152,
      "outputs": [
        {
          "output_type": "stream",
          "name": "stdout",
          "text": [
            "+--------------------+-----+----------+---------+---------+--------------------+-------+------+------------+------------+-----------+----+--------------------+------------+----------+----+-----+------+\n",
            "|                  id|andar|area_total|area_util|banheiros|     caracteristicas|quartos|suites|tipo_anuncio|tipo_unidade|   tipo_uso|vaga|              bairro|        zona|condominio|iptu| tipo| valor|\n",
            "+--------------------+-----+----------+---------+---------+--------------------+-------+------+------------+------------+-----------+----+--------------------+------------+----------+----+-----+------+\n",
            "|03a386b6-7ab8-4ef...|    0|        43|       43|        1|[Churrasqueira, A...|      2|  null|       Usado| Apartamento|Residencial|   1|            Realengo|  Zona Oeste|       285|null|Venda| 22999|\n",
            "|1fe78d41-b8e0-4d2...|    0|        44|       44|        1|                  []|      2|     0|       Usado| Apartamento|Residencial|   0|               Irajá|  Zona Norte|       170|   0|Venda|110000|\n",
            "|1fa1c1e5-e98c-433...|    4|      null|       55|        1|                  []|      2|     0|       Usado| Apartamento|Residencial|   1|              Cosmos|  Zona Oeste|      null|null|Venda|115000|\n",
            "|a6ab01ae-3d40-40e...|    2|      null|       55|        1|                  []|      2|     0|       Usado| Apartamento|Residencial|   0|        Tomás Coelho|  Zona Norte|      null|null|Venda|115000|\n",
            "|1d8ff7a2-16bd-4e3...|    0|      null|       50|        1|                  []|      1|  null|       Usado| Apartamento|Residencial|   0|              Centro|Zona Central|      1300|2679|Venda|125000|\n",
            "|40a2cbde-946b-42d...|    2|        47|       47|        1|[Condomínio fecha...|      2|     0|       Usado| Apartamento|Residencial|   1|        Campo Grande|  Zona Oeste|       380|null|Venda|138000|\n",
            "|be269ddf-a4a3-4a7...|    0|     17089|       45|        1|[Churrasqueira, C...|      2|     0|       Usado| Apartamento|Residencial|   1|        Campo Grande|  Zona Oeste|       356|   0|Venda|140000|\n",
            "|4b7e3d59-34fd-4ba...|    3|        48|       48|        1|[Churrasqueira, P...|      2|  null|       Usado| Apartamento|Residencial|   1|        Campo Grande|  Zona Oeste|         0|   0|Venda|150000|\n",
            "|a1a0c2ac-4fa8-4b0...|    9|      null|       55|        1|[Churrasqueira, E...|      2|  null|       Usado| Apartamento|Residencial|   1|Freguesia (Jacare...|  Zona Oeste|       780| 660|Venda|160000|\n",
            "|390d2b88-e06d-47e...|    0|        70|       70|        2|   [Salão de festas]|      2|     0|       Usado| Apartamento|Residencial|   1|          Praça Seca|  Zona Oeste|    420000|null|Venda|159000|\n",
            "+--------------------+-----+----------+---------+---------+--------------------+-------+------+------------+------------+-----------+----+--------------------+------------+----------+----+-----+------+\n",
            "only showing top 10 rows\n",
            "\n"
          ]
        }
      ]
    },
    {
      "cell_type": "markdown",
      "source": [
        "# Seleção de features"
      ],
      "metadata": {
        "id": "P-XmRw_shb3N"
      }
    },
    {
      "cell_type": "code",
      "source": [
        "# para selecionar as features utiliza-se o método distinct() a fim de obter os valores únicos para cada coluna do dataframe, num primeiro momento suspeita-se\n",
        "# das colunas tipo_anuncio, tipo_uso e tipo."
      ],
      "metadata": {
        "id": "wJfPGXQlhd4r"
      },
      "execution_count": 153,
      "outputs": []
    },
    {
      "cell_type": "markdown",
      "source": [
        "### Coluna tipo_anuncio"
      ],
      "metadata": {
        "id": "CJNsBWvBh7jd"
      }
    },
    {
      "cell_type": "code",
      "source": [
        "data.select('tipo_anuncio').distinct().show()"
      ],
      "metadata": {
        "colab": {
          "base_uri": "https://localhost:8080/"
        },
        "id": "Zg4FZshkhNoH",
        "outputId": "945b593d-7b3f-4512-d5ad-e92f27022136"
      },
      "execution_count": 154,
      "outputs": [
        {
          "output_type": "stream",
          "name": "stdout",
          "text": [
            "+------------+\n",
            "|tipo_anuncio|\n",
            "+------------+\n",
            "|       Usado|\n",
            "+------------+\n",
            "\n"
          ]
        }
      ]
    },
    {
      "cell_type": "code",
      "source": [
        "# todos os dados da coluna tipo_anuncio são iguais: \"Usado\""
      ],
      "metadata": {
        "id": "QMm1KVi2iktp"
      },
      "execution_count": 155,
      "outputs": []
    },
    {
      "cell_type": "markdown",
      "source": [
        "### Coluna tipo_uso"
      ],
      "metadata": {
        "id": "XfzwcgRsiusr"
      }
    },
    {
      "cell_type": "code",
      "source": [
        "data.select('tipo_uso').distinct().show()"
      ],
      "metadata": {
        "colab": {
          "base_uri": "https://localhost:8080/"
        },
        "id": "Ao1wOMyciteP",
        "outputId": "53b49395-d3b3-41f5-b1cd-082784728dac"
      },
      "execution_count": 156,
      "outputs": [
        {
          "output_type": "stream",
          "name": "stdout",
          "text": [
            "+-----------+\n",
            "|   tipo_uso|\n",
            "+-----------+\n",
            "|Residencial|\n",
            "+-----------+\n",
            "\n"
          ]
        }
      ]
    },
    {
      "cell_type": "code",
      "source": [
        "# todos os dados da coluna tipo_uso são iguais: \"Residencial\""
      ],
      "metadata": {
        "id": "WNvA0plDiz0g"
      },
      "execution_count": 157,
      "outputs": []
    },
    {
      "cell_type": "markdown",
      "source": [
        "### Coluna tipo_unidade"
      ],
      "metadata": {
        "id": "J0C6rEKV7qMa"
      }
    },
    {
      "cell_type": "code",
      "source": [
        "data.select('tipo_unidade').distinct().show()"
      ],
      "metadata": {
        "colab": {
          "base_uri": "https://localhost:8080/"
        },
        "id": "jj3U2d-v7k1N",
        "outputId": "d467dd95-378f-4513-a0e4-fc945eb479b5"
      },
      "execution_count": 158,
      "outputs": [
        {
          "output_type": "stream",
          "name": "stdout",
          "text": [
            "+------------+\n",
            "|tipo_unidade|\n",
            "+------------+\n",
            "| Apartamento|\n",
            "+------------+\n",
            "\n"
          ]
        }
      ]
    },
    {
      "cell_type": "code",
      "source": [
        "# todos os dados da coluna tipo_unidade são iguais: \"Apartamento\""
      ],
      "metadata": {
        "id": "iIj3Ngxy7uH9"
      },
      "execution_count": 159,
      "outputs": []
    },
    {
      "cell_type": "markdown",
      "source": [
        "### Coluna tipo"
      ],
      "metadata": {
        "id": "LrOSAhJUi6ZS"
      }
    },
    {
      "cell_type": "code",
      "source": [
        "data.select('tipo').distinct().show()"
      ],
      "metadata": {
        "colab": {
          "base_uri": "https://localhost:8080/"
        },
        "id": "ruDbFeGTi4Ny",
        "outputId": "3fdcbda5-32a4-4a1a-89d6-0bd1867dab1f"
      },
      "execution_count": 160,
      "outputs": [
        {
          "output_type": "stream",
          "name": "stdout",
          "text": [
            "+-----+\n",
            "| tipo|\n",
            "+-----+\n",
            "|Venda|\n",
            "+-----+\n",
            "\n"
          ]
        }
      ]
    },
    {
      "cell_type": "code",
      "source": [
        "# todos os dados da coluna tipo são iguais: \"Venda\""
      ],
      "metadata": {
        "id": "EIr63C1Ci-fk"
      },
      "execution_count": 161,
      "outputs": []
    },
    {
      "cell_type": "markdown",
      "source": [
        "## Drop das colunas tipo_anuncio, tipo_uso, tipo_unidade e tipo\n"
      ],
      "metadata": {
        "id": "IdsoYVSc661L"
      }
    },
    {
      "cell_type": "code",
      "source": [
        "# como as colunas citadas acima possuem apenas uma única informação, podem ser eliminadas do dataframe a fim de deixar apenas dados mais significativos:\n",
        "\n",
        "data = data.drop('tipo_anuncio')\n",
        "data = data.drop('tipo_uso')\n",
        "data = data.drop('tipo_unidade')\n",
        "data = data.drop('tipo')\n",
        "data.show(5)"
      ],
      "metadata": {
        "colab": {
          "base_uri": "https://localhost:8080/"
        },
        "id": "YvJ6r7m87C_H",
        "outputId": "754a4721-e057-4c13-a13e-233449c89d5f"
      },
      "execution_count": 162,
      "outputs": [
        {
          "output_type": "stream",
          "name": "stdout",
          "text": [
            "+--------------------+-----+----------+---------+---------+--------------------+-------+------+----+------------+------------+----------+----+------+\n",
            "|                  id|andar|area_total|area_util|banheiros|     caracteristicas|quartos|suites|vaga|      bairro|        zona|condominio|iptu| valor|\n",
            "+--------------------+-----+----------+---------+---------+--------------------+-------+------+----+------------+------------+----------+----+------+\n",
            "|03a386b6-7ab8-4ef...|    0|        43|       43|        1|[Churrasqueira, A...|      2|  null|   1|    Realengo|  Zona Oeste|       285|null| 22999|\n",
            "|1fe78d41-b8e0-4d2...|    0|        44|       44|        1|                  []|      2|     0|   0|       Irajá|  Zona Norte|       170|   0|110000|\n",
            "|1fa1c1e5-e98c-433...|    4|      null|       55|        1|                  []|      2|     0|   1|      Cosmos|  Zona Oeste|      null|null|115000|\n",
            "|a6ab01ae-3d40-40e...|    2|      null|       55|        1|                  []|      2|     0|   0|Tomás Coelho|  Zona Norte|      null|null|115000|\n",
            "|1d8ff7a2-16bd-4e3...|    0|      null|       50|        1|                  []|      1|  null|   0|      Centro|Zona Central|      1300|2679|125000|\n",
            "+--------------------+-----+----------+---------+---------+--------------------+-------+------+----+------------+------------+----------+----+------+\n",
            "only showing top 5 rows\n",
            "\n"
          ]
        }
      ]
    },
    {
      "cell_type": "markdown",
      "source": [
        "## Colunas area_total e area_util"
      ],
      "metadata": {
        "id": "B2GmevS9kZVY"
      }
    },
    {
      "cell_type": "code",
      "source": [
        "# contando os valores da coluna area_total:\n",
        "\n",
        "data.select('area_total').groupBy('area_total').count().show()"
      ],
      "metadata": {
        "colab": {
          "base_uri": "https://localhost:8080/"
        },
        "id": "YX_1KWl-keSj",
        "outputId": "603be8ff-ee69-4e67-8fa9-a53efe411006"
      },
      "execution_count": 163,
      "outputs": [
        {
          "output_type": "stream",
          "name": "stdout",
          "text": [
            "+----------+-----+\n",
            "|area_total|count|\n",
            "+----------+-----+\n",
            "|       296|   31|\n",
            "|       691|    1|\n",
            "|       675|    1|\n",
            "|       125|  253|\n",
            "|       800|    5|\n",
            "|   5698720|    1|\n",
            "|        51|  206|\n",
            "|       124|  159|\n",
            "|         7|    2|\n",
            "|       447|    1|\n",
            "|       307|   25|\n",
            "|     17583|    3|\n",
            "|      1695|    1|\n",
            "|      1500|    1|\n",
            "|       205|   44|\n",
            "|       169|   75|\n",
            "|      7402|    4|\n",
            "|       334|    6|\n",
            "|       544|    1|\n",
            "|       272|   11|\n",
            "+----------+-----+\n",
            "only showing top 20 rows\n",
            "\n"
          ]
        }
      ]
    },
    {
      "cell_type": "code",
      "source": [
        "# contando os valores area_util:\n",
        "\n",
        "data.select('area_util').groupBy('area_util').count().show()"
      ],
      "metadata": {
        "colab": {
          "base_uri": "https://localhost:8080/"
        },
        "id": "x4TovKqpjiah",
        "outputId": "dac6c76c-f5a6-496e-cab0-b5b5db791ea3"
      },
      "execution_count": 164,
      "outputs": [
        {
          "output_type": "stream",
          "name": "stdout",
          "text": [
            "+---------+-----+\n",
            "|area_util|count|\n",
            "+---------+-----+\n",
            "|      296|   33|\n",
            "|      675|    1|\n",
            "|      125|  287|\n",
            "|      800|    5|\n",
            "|      944|    2|\n",
            "|       51|  273|\n",
            "|      124|  174|\n",
            "|      447|    1|\n",
            "|      307|   29|\n",
            "|      205|   49|\n",
            "|      169|   90|\n",
            "|      334|    6|\n",
            "|      544|    1|\n",
            "|      740|    1|\n",
            "|      272|   11|\n",
            "|      470|   11|\n",
            "|      462|    2|\n",
            "|       54|  414|\n",
            "|      232|   41|\n",
            "|      234|   37|\n",
            "+---------+-----+\n",
            "only showing top 20 rows\n",
            "\n"
          ]
        }
      ]
    },
    {
      "cell_type": "code",
      "source": [
        "# apesar de existirem vários valores que se repetem, visualizando-os de maneira mais ampla vemos que estes são abrangentes e não podem ser descartados."
      ],
      "metadata": {
        "id": "gNwvAiTisszi"
      },
      "execution_count": 165,
      "outputs": []
    },
    {
      "cell_type": "code",
      "source": [
        "# para contar os valores nulos nas colunas area_total e area_util temos que:\n",
        "\n",
        "from pyspark.sql.functions import col, isnan, when, count, lit, explode, array_contains"
      ],
      "metadata": {
        "id": "9ccNgnF4pLp5"
      },
      "execution_count": 166,
      "outputs": []
    },
    {
      "cell_type": "code",
      "source": [
        "null_area = data.select([count(when(isnan(c) | col(c).isNull(), c)).alias(c) for c in data.select(['area_total', 'area_util']).columns])\n",
        "null_area.show()"
      ],
      "metadata": {
        "colab": {
          "base_uri": "https://localhost:8080/"
        },
        "id": "M8A4bBG9cBQA",
        "outputId": "bdd9026e-2ad2-4902-f021-802fc8af527f"
      },
      "execution_count": 167,
      "outputs": [
        {
          "output_type": "stream",
          "name": "stdout",
          "text": [
            "+----------+---------+\n",
            "|area_total|area_util|\n",
            "+----------+---------+\n",
            "|      9194|        0|\n",
            "+----------+---------+\n",
            "\n"
          ]
        }
      ]
    },
    {
      "cell_type": "code",
      "source": [
        "# apenas a coluna area_total possui dados nulos."
      ],
      "metadata": {
        "id": "B2p6DqE7vz1u"
      },
      "execution_count": 168,
      "outputs": []
    },
    {
      "cell_type": "markdown",
      "source": [
        "# Convertendo os tipos das colunas"
      ],
      "metadata": {
        "id": "yAzUwUEev_7j"
      }
    },
    {
      "cell_type": "code",
      "source": [
        "from pyspark.sql.types import IntegerType, DoubleType"
      ],
      "metadata": {
        "id": "WbiGQZI2wJyY"
      },
      "execution_count": 169,
      "outputs": []
    },
    {
      "cell_type": "code",
      "source": [
        "data.printSchema()"
      ],
      "metadata": {
        "colab": {
          "base_uri": "https://localhost:8080/"
        },
        "id": "-K6SO6nEtJm0",
        "outputId": "7932d880-a910-49b0-8469-e68fe6cd28d9"
      },
      "execution_count": 170,
      "outputs": [
        {
          "output_type": "stream",
          "name": "stdout",
          "text": [
            "root\n",
            " |-- id: string (nullable = true)\n",
            " |-- andar: long (nullable = true)\n",
            " |-- area_total: string (nullable = true)\n",
            " |-- area_util: string (nullable = true)\n",
            " |-- banheiros: long (nullable = true)\n",
            " |-- caracteristicas: array (nullable = true)\n",
            " |    |-- element: string (containsNull = true)\n",
            " |-- quartos: long (nullable = true)\n",
            " |-- suites: long (nullable = true)\n",
            " |-- vaga: long (nullable = true)\n",
            " |-- bairro: string (nullable = true)\n",
            " |-- zona: string (nullable = true)\n",
            " |-- condominio: string (nullable = true)\n",
            " |-- iptu: string (nullable = true)\n",
            " |-- valor: string (nullable = true)\n",
            "\n"
          ]
        }
      ]
    },
    {
      "cell_type": "markdown",
      "source": [
        "## Para o tipo Integer"
      ],
      "metadata": {
        "id": "gCSysSRsiqLh"
      }
    },
    {
      "cell_type": "markdown",
      "source": [
        "Coluna andar"
      ],
      "metadata": {
        "id": "4sKt30N1g6wa"
      }
    },
    {
      "cell_type": "code",
      "source": [
        "data = data.withColumn('andar', data['andar'].cast(IntegerType()))"
      ],
      "metadata": {
        "id": "O-GsE1ouwDji"
      },
      "execution_count": 171,
      "outputs": []
    },
    {
      "cell_type": "markdown",
      "source": [
        "Coluna banheiros"
      ],
      "metadata": {
        "id": "EbZV7JzIhUQ3"
      }
    },
    {
      "cell_type": "code",
      "source": [
        "data = data.withColumn('banheiros', data['banheiros'].cast(IntegerType()))"
      ],
      "metadata": {
        "id": "fBc-Kn4fhQ29"
      },
      "execution_count": 172,
      "outputs": []
    },
    {
      "cell_type": "markdown",
      "source": [
        "Coluna suites"
      ],
      "metadata": {
        "id": "UNo9R_RxhhdN"
      }
    },
    {
      "cell_type": "code",
      "source": [
        "data = data.withColumn('suites', data['suites'].cast(IntegerType()))"
      ],
      "metadata": {
        "id": "clagkWoQhhD-"
      },
      "execution_count": 173,
      "outputs": []
    },
    {
      "cell_type": "markdown",
      "source": [
        "Coluna quartos"
      ],
      "metadata": {
        "id": "vjy__V4JhqCM"
      }
    },
    {
      "cell_type": "code",
      "source": [
        "data = data.withColumn('quartos', data['quartos'].cast(IntegerType()))"
      ],
      "metadata": {
        "id": "1L60jDRWhtU_"
      },
      "execution_count": 174,
      "outputs": []
    },
    {
      "cell_type": "markdown",
      "source": [
        "## Para o tipo Double"
      ],
      "metadata": {
        "id": "A9I4EQrBivjV"
      }
    },
    {
      "cell_type": "markdown",
      "source": [
        "Coluna area_total"
      ],
      "metadata": {
        "id": "nerCxS_lix8A"
      }
    },
    {
      "cell_type": "code",
      "source": [
        "data = data.withColumn('area_total', data['area_total'].cast(DoubleType()))"
      ],
      "metadata": {
        "id": "XLF3fu1_wk5C"
      },
      "execution_count": 175,
      "outputs": []
    },
    {
      "cell_type": "markdown",
      "source": [
        "Coluna area_util"
      ],
      "metadata": {
        "id": "NmmPisFLjL2L"
      }
    },
    {
      "cell_type": "code",
      "source": [
        "data = data.withColumn('area_util', data['area_util'].cast(DoubleType()))"
      ],
      "metadata": {
        "id": "-d1C_-r1wpmj"
      },
      "execution_count": 176,
      "outputs": []
    },
    {
      "cell_type": "markdown",
      "source": [
        "Coluna condominio"
      ],
      "metadata": {
        "id": "B7j4FXj4jU8T"
      }
    },
    {
      "cell_type": "code",
      "source": [
        "data = data.withColumn('condominio', data['condominio'].cast(DoubleType()))"
      ],
      "metadata": {
        "id": "HV6DKKy1jUT1"
      },
      "execution_count": 177,
      "outputs": []
    },
    {
      "cell_type": "markdown",
      "source": [
        "Coluna iptu"
      ],
      "metadata": {
        "id": "kWjtBQG3jkSb"
      }
    },
    {
      "cell_type": "code",
      "source": [
        "data = data.withColumn('iptu', data['iptu'].cast(DoubleType()))"
      ],
      "metadata": {
        "id": "4rYGNrvBjdPk"
      },
      "execution_count": 178,
      "outputs": []
    },
    {
      "cell_type": "markdown",
      "source": [
        "Coluna valor"
      ],
      "metadata": {
        "id": "cplXCuLWj0mb"
      }
    },
    {
      "cell_type": "code",
      "source": [
        "data = data.withColumn('valor', data['valor'].cast(DoubleType()))"
      ],
      "metadata": {
        "id": "B3fcom8kjrrP"
      },
      "execution_count": 179,
      "outputs": []
    },
    {
      "cell_type": "code",
      "source": [
        "# por fim, mostra-se o Schema dos dados para verificar se houve a conversão dos tipos dos dados das colunas:\n",
        "\n",
        "data.printSchema()"
      ],
      "metadata": {
        "colab": {
          "base_uri": "https://localhost:8080/"
        },
        "id": "LfWmPkyAj1dj",
        "outputId": "6c052648-aed9-4dc9-b00e-99753112e9d1"
      },
      "execution_count": 180,
      "outputs": [
        {
          "output_type": "stream",
          "name": "stdout",
          "text": [
            "root\n",
            " |-- id: string (nullable = true)\n",
            " |-- andar: integer (nullable = true)\n",
            " |-- area_total: double (nullable = true)\n",
            " |-- area_util: double (nullable = true)\n",
            " |-- banheiros: integer (nullable = true)\n",
            " |-- caracteristicas: array (nullable = true)\n",
            " |    |-- element: string (containsNull = true)\n",
            " |-- quartos: integer (nullable = true)\n",
            " |-- suites: integer (nullable = true)\n",
            " |-- vaga: long (nullable = true)\n",
            " |-- bairro: string (nullable = true)\n",
            " |-- zona: string (nullable = true)\n",
            " |-- condominio: double (nullable = true)\n",
            " |-- iptu: double (nullable = true)\n",
            " |-- valor: double (nullable = true)\n",
            "\n"
          ]
        }
      ]
    },
    {
      "cell_type": "markdown",
      "source": [
        "# Tratamento da coluna características"
      ],
      "metadata": {
        "id": "bSAYN8jUkZWJ"
      }
    },
    {
      "cell_type": "code",
      "source": [
        "import pyspark.sql.functions as F"
      ],
      "metadata": {
        "id": "7wV7R7IlmrHn"
      },
      "execution_count": 181,
      "outputs": []
    },
    {
      "cell_type": "code",
      "source": [
        "# os dados em que a coluna caracteristicas apresentan arrays vazios:\n",
        "\n",
        "data.filter(F.size('caracteristicas') == 0).show(5)"
      ],
      "metadata": {
        "colab": {
          "base_uri": "https://localhost:8080/"
        },
        "id": "ZiMCUVJkj_wl",
        "outputId": "f5fef808-cf4c-4e52-dca1-94d28436eab9"
      },
      "execution_count": 182,
      "outputs": [
        {
          "output_type": "stream",
          "name": "stdout",
          "text": [
            "+--------------------+-----+----------+---------+---------+---------------+-------+------+----+------------+------------+----------+------+--------+\n",
            "|                  id|andar|area_total|area_util|banheiros|caracteristicas|quartos|suites|vaga|      bairro|        zona|condominio|  iptu|   valor|\n",
            "+--------------------+-----+----------+---------+---------+---------------+-------+------+----+------------+------------+----------+------+--------+\n",
            "|1fe78d41-b8e0-4d2...|    0|      44.0|     44.0|        1|             []|      2|     0|   0|       Irajá|  Zona Norte|     170.0|   0.0|110000.0|\n",
            "|1fa1c1e5-e98c-433...|    4|      null|     55.0|        1|             []|      2|     0|   1|      Cosmos|  Zona Oeste|      null|  null|115000.0|\n",
            "|a6ab01ae-3d40-40e...|    2|      null|     55.0|        1|             []|      2|     0|   0|Tomás Coelho|  Zona Norte|      null|  null|115000.0|\n",
            "|1d8ff7a2-16bd-4e3...|    0|      null|     50.0|        1|             []|      1|  null|   0|      Centro|Zona Central|    1300.0|2679.0|125000.0|\n",
            "|47af17f0-1c81-474...|    0|      65.0|     65.0|        1|             []|      2|     0|   1|    Campinho|  Zona Oeste|     432.0|  null|185000.0|\n",
            "+--------------------+-----+----------+---------+---------+---------------+-------+------+----+------------+------------+----------+------+--------+\n",
            "only showing top 5 rows\n",
            "\n"
          ]
        }
      ]
    },
    {
      "cell_type": "code",
      "source": [
        "# São ao todo:\n",
        "\n",
        "f'{data.filter(F.size(\"caracteristicas\") == 0).count()} linhas do dataframe com essa especificidade'"
      ],
      "metadata": {
        "colab": {
          "base_uri": "https://localhost:8080/",
          "height": 35
        },
        "id": "4VERhB7hkh6h",
        "outputId": "e5284b22-64bb-4b56-b87d-0713174a8981"
      },
      "execution_count": 183,
      "outputs": [
        {
          "output_type": "execute_result",
          "data": {
            "text/plain": [
              "'12736 linhas do dataframe com essa especificidade'"
            ],
            "application/vnd.google.colaboratory.intrinsic+json": {
              "type": "string"
            }
          },
          "metadata": {},
          "execution_count": 183
        }
      ]
    },
    {
      "cell_type": "code",
      "source": [
        "# substitui-se os arrays vazios por valores nulos:\n",
        "\n",
        "data = data.withColumn('caracteristicas', F.when((F.size(F.col('caracteristicas')) == 0), F.lit(None)).otherwise(F.col('caracteristicas')))\n"
      ],
      "metadata": {
        "id": "D2j2fGCiyV6t"
      },
      "execution_count": 184,
      "outputs": []
    },
    {
      "cell_type": "code",
      "source": [
        "# e verifica-se que o número de linhas da coluna caracteristicas com valores nulos é igual ao número de linhas que tinham arrays vazios:\n",
        "\n",
        "data.filter(data['caracteristicas'].isNull()).count()"
      ],
      "metadata": {
        "colab": {
          "base_uri": "https://localhost:8080/"
        },
        "id": "vUgkEIdjywDN",
        "outputId": "fe2c234d-738d-486f-d7db-b2c181d5ee2f"
      },
      "execution_count": 185,
      "outputs": [
        {
          "output_type": "execute_result",
          "data": {
            "text/plain": [
              "12736"
            ]
          },
          "metadata": {},
          "execution_count": 185
        }
      ]
    },
    {
      "cell_type": "code",
      "source": [
        "data.filter(data['caracteristicas'].isNull()).show(5)"
      ],
      "metadata": {
        "colab": {
          "base_uri": "https://localhost:8080/"
        },
        "id": "t3he0ogM2-xu",
        "outputId": "8030da68-4ce4-4a40-cbb7-015110db6a11"
      },
      "execution_count": 186,
      "outputs": [
        {
          "output_type": "stream",
          "name": "stdout",
          "text": [
            "+--------------------+-----+----------+---------+---------+---------------+-------+------+----+------------+------------+----------+------+--------+\n",
            "|                  id|andar|area_total|area_util|banheiros|caracteristicas|quartos|suites|vaga|      bairro|        zona|condominio|  iptu|   valor|\n",
            "+--------------------+-----+----------+---------+---------+---------------+-------+------+----+------------+------------+----------+------+--------+\n",
            "|1fe78d41-b8e0-4d2...|    0|      44.0|     44.0|        1|           null|      2|     0|   0|       Irajá|  Zona Norte|     170.0|   0.0|110000.0|\n",
            "|1fa1c1e5-e98c-433...|    4|      null|     55.0|        1|           null|      2|     0|   1|      Cosmos|  Zona Oeste|      null|  null|115000.0|\n",
            "|a6ab01ae-3d40-40e...|    2|      null|     55.0|        1|           null|      2|     0|   0|Tomás Coelho|  Zona Norte|      null|  null|115000.0|\n",
            "|1d8ff7a2-16bd-4e3...|    0|      null|     50.0|        1|           null|      1|  null|   0|      Centro|Zona Central|    1300.0|2679.0|125000.0|\n",
            "|47af17f0-1c81-474...|    0|      65.0|     65.0|        1|           null|      2|     0|   1|    Campinho|  Zona Oeste|     432.0|  null|185000.0|\n",
            "+--------------------+-----+----------+---------+---------+---------------+-------+------+----+------------+------------+----------+------+--------+\n",
            "only showing top 5 rows\n",
            "\n"
          ]
        }
      ]
    },
    {
      "cell_type": "markdown",
      "source": [
        "# Tratamento de dados nulos e NaN's"
      ],
      "metadata": {
        "id": "OlT1UL3fhJ2-"
      }
    },
    {
      "cell_type": "code",
      "source": [
        "selected_data = data.select(\n",
        "    'id', 'andar', 'area_total', \n",
        "    'area_util', 'banheiros', 'quartos', \n",
        "    'suites', 'vaga', 'bairro', \n",
        "    'zona', 'condominio', 'iptu', 'valor'\n",
        ")"
      ],
      "metadata": {
        "id": "r6PvN1kdihrI"
      },
      "execution_count": 187,
      "outputs": []
    },
    {
      "cell_type": "code",
      "source": [
        "# a quantidade de valores nulos (None e NaN) para cada coluna:\n",
        "\n",
        "data_count_null = data.select([count(when(isnan(c) | col(c).isNull(), c)).alias(c) for c in selected_data.columns])\n",
        "data_count_null.show()"
      ],
      "metadata": {
        "colab": {
          "base_uri": "https://localhost:8080/"
        },
        "id": "qp1A-2pShNnK",
        "outputId": "ebe3e590-3698-45b4-b551-a10fa1d43f6d"
      },
      "execution_count": 188,
      "outputs": [
        {
          "output_type": "stream",
          "name": "stdout",
          "text": [
            "+---+-----+----------+---------+---------+-------+------+----+------+----+----------+----+-----+\n",
            "| id|andar|area_total|area_util|banheiros|quartos|suites|vaga|bairro|zona|condominio|iptu|valor|\n",
            "+---+-----+----------+---------+---------+-------+------+----+------+----+----------+----+-----+\n",
            "|  0|    0|      9194|        0|        0|      0|  5554|3017|     0|   0|      2371|7199|    0|\n",
            "+---+-----+----------+---------+---------+-------+------+----+------+----+----------+----+-----+\n",
            "\n"
          ]
        }
      ]
    },
    {
      "cell_type": "markdown",
      "source": [
        "## Porcentagem dos valores nulos"
      ],
      "metadata": {
        "id": "QzqKEwQYv8At"
      }
    },
    {
      "cell_type": "code",
      "source": [
        "# um possível tratamento para dados nulos é a eliminação desses dados do dataframe, porém isso só indicado quando os dados nulos não ultrapassam 10% dos dados:\n",
        "\n",
        "total_data = data.count()\n",
        "f'O dataframe possui {total_data} linhas com dados'"
      ],
      "metadata": {
        "colab": {
          "base_uri": "https://localhost:8080/",
          "height": 35
        },
        "id": "-ONtTW-GhSNc",
        "outputId": "226a7dd2-8c0e-4ade-c73f-7c0e7f79a3fa"
      },
      "execution_count": 189,
      "outputs": [
        {
          "output_type": "execute_result",
          "data": {
            "text/plain": [
              "'O dataframe possui 66562 linhas com dados'"
            ],
            "application/vnd.google.colaboratory.intrinsic+json": {
              "type": "string"
            }
          },
          "metadata": {},
          "execution_count": 189
        }
      ]
    },
    {
      "cell_type": "code",
      "source": [
        "f'Os dados nulos da coluna area_total correspondem a {round(((9194 / total_data) * 100), 2)}% dos dados'"
      ],
      "metadata": {
        "colab": {
          "base_uri": "https://localhost:8080/",
          "height": 35
        },
        "id": "KCHtnffOlQjF",
        "outputId": "2e07326d-a40c-4819-c601-26898e56f4b9"
      },
      "execution_count": 190,
      "outputs": [
        {
          "output_type": "execute_result",
          "data": {
            "text/plain": [
              "'Os dados nulos da coluna area_total correspondem a 13.81% dos dados'"
            ],
            "application/vnd.google.colaboratory.intrinsic+json": {
              "type": "string"
            }
          },
          "metadata": {},
          "execution_count": 190
        }
      ]
    },
    {
      "cell_type": "code",
      "source": [
        "f'Os dados nulos da coluna suites correspondem a {round(((5554 / total_data) * 100), 2)}% dos dados'"
      ],
      "metadata": {
        "colab": {
          "base_uri": "https://localhost:8080/",
          "height": 35
        },
        "id": "_u2vnKhilbSy",
        "outputId": "6e1cb6fd-371f-4173-d388-476d69982e0f"
      },
      "execution_count": 191,
      "outputs": [
        {
          "output_type": "execute_result",
          "data": {
            "text/plain": [
              "'Os dados nulos da coluna suites correspondem a 8.34% dos dados'"
            ],
            "application/vnd.google.colaboratory.intrinsic+json": {
              "type": "string"
            }
          },
          "metadata": {},
          "execution_count": 191
        }
      ]
    },
    {
      "cell_type": "code",
      "source": [
        "f'Os dados nulos da coluna vaga correspondem a {round(((3017 / total_data) * 100), 2)}% dos dados'"
      ],
      "metadata": {
        "colab": {
          "base_uri": "https://localhost:8080/",
          "height": 35
        },
        "id": "Fakq7UTylsGD",
        "outputId": "0158868f-757f-47ca-df46-aef182536a38"
      },
      "execution_count": 192,
      "outputs": [
        {
          "output_type": "execute_result",
          "data": {
            "text/plain": [
              "'Os dados nulos da coluna vaga correspondem a 4.53% dos dados'"
            ],
            "application/vnd.google.colaboratory.intrinsic+json": {
              "type": "string"
            }
          },
          "metadata": {},
          "execution_count": 192
        }
      ]
    },
    {
      "cell_type": "code",
      "source": [
        "f'Os dados nulos da coluna condominio correspondem a {round(((2371 / total_data) * 100), 2)}% dos dados'"
      ],
      "metadata": {
        "colab": {
          "base_uri": "https://localhost:8080/",
          "height": 35
        },
        "id": "m3Datq7klyCA",
        "outputId": "f6c41b81-31b4-483c-f15a-9c2a5ebb573b"
      },
      "execution_count": 193,
      "outputs": [
        {
          "output_type": "execute_result",
          "data": {
            "text/plain": [
              "'Os dados nulos da coluna condominio correspondem a 3.56% dos dados'"
            ],
            "application/vnd.google.colaboratory.intrinsic+json": {
              "type": "string"
            }
          },
          "metadata": {},
          "execution_count": 193
        }
      ]
    },
    {
      "cell_type": "code",
      "source": [
        "f'Os dados nulos da coluna iptu correspondem a {round(((7199 / total_data) * 100), 2)}% dos dados'"
      ],
      "metadata": {
        "colab": {
          "base_uri": "https://localhost:8080/",
          "height": 35
        },
        "id": "OYootDsfo3m_",
        "outputId": "b33487a8-9d23-4ed9-a159-1d00f76d2bd4"
      },
      "execution_count": 194,
      "outputs": [
        {
          "output_type": "execute_result",
          "data": {
            "text/plain": [
              "'Os dados nulos da coluna iptu correspondem a 10.82% dos dados'"
            ],
            "application/vnd.google.colaboratory.intrinsic+json": {
              "type": "string"
            }
          },
          "metadata": {},
          "execution_count": 194
        }
      ]
    },
    {
      "cell_type": "markdown",
      "source": [
        "## Estatísticas descritivas"
      ],
      "metadata": {
        "id": "w4eq01v0v__x"
      }
    },
    {
      "cell_type": "code",
      "source": [
        "# a tabela abaixo mostra algumas estatísticas descritivas dos dados do dataframe:\n",
        "\n",
        "data_summary = data.summary()\n",
        "data_summary.show()"
      ],
      "metadata": {
        "colab": {
          "base_uri": "https://localhost:8080/"
        },
        "id": "KLQ92QxBwBtv",
        "outputId": "53dafe2e-8cdf-4de5-deb5-513fd23fa73b"
      },
      "execution_count": 195,
      "outputs": [
        {
          "output_type": "stream",
          "name": "stdout",
          "text": [
            "+-------+--------------------+------------------+-----------------+------------------+------------------+------------------+------------------+------------------+----------+--------+------------------+------------------+------------------+\n",
            "|summary|                  id|             andar|       area_total|         area_util|         banheiros|           quartos|            suites|              vaga|    bairro|    zona|        condominio|              iptu|             valor|\n",
            "+-------+--------------------+------------------+-----------------+------------------+------------------+------------------+------------------+------------------+----------+--------+------------------+------------------+------------------+\n",
            "|  count|               66562|             66562|            57368|             66562|             66562|             66562|             61008|             63545|     66562|   66562|             64191|             59363|             66562|\n",
            "|   mean|                null|2.3374598119046905|938.1081264816622|116.73728253357771| 2.454583696403353|2.6121811243652533|1.2091528979805928|1.4069084900464237|      null|    null|4822.7975728684705|5447.7366036083085|1294433.2853129413|\n",
            "| stddev|                null|  14.6963496227043|84173.43322353458| 89.09094364150394|1.3582533594407473|0.9083944981999731|1.0567921717756774|1.3413027342394985|      null|    null|106049.70098633446| 181192.7605568003| 1471723.315533184|\n",
            "|    min|00002dd9-cc74-480...|                 0|              0.0|              10.0|                 1|                 0|                 0|                 0|  Abolição|        |               0.0|               0.0|           15000.0|\n",
            "|    25%|                null|                 0|             68.0|              67.0|                 2|                 2|                 1|                 1|      null|    null|             463.0|              54.0|          455000.0|\n",
            "|    50%|                null|                 0|             90.0|              90.0|                 2|                 3|                 1|                 1|      null|    null|             894.0|             360.0|          808600.0|\n",
            "|    75%|                null|                 3|            140.0|             138.0|                 3|                 3|                 1|                 2|      null|    null|            1480.0|            1849.0|         1540000.0|\n",
            "|    max|fffe97aa-814b-4eb...|              1234|      1.5022793E7|            3456.0|                19|                16|                30|                99|Água Santa|Zona Sul|             1.1E7|             2.0E7|            1.39E7|\n",
            "+-------+--------------------+------------------+-----------------+------------------+------------------+------------------+------------------+------------------+----------+--------+------------------+------------------+------------------+\n",
            "\n"
          ]
        }
      ]
    },
    {
      "cell_type": "markdown",
      "source": [
        "Mediana da coluna area_total"
      ],
      "metadata": {
        "id": "8qy0YilMzv60"
      }
    },
    {
      "cell_type": "code",
      "source": [
        "# ao usar o método collect() obtém-se um valor passando a linha em que este se encontra no dataframe, como anseia-se pela mediana:\n",
        "\n",
        "area_total_median = data_summary.select('area_total').collect()[5][0]\n",
        "area_total_median = float(area_total_median)\n",
        "area_total_median"
      ],
      "metadata": {
        "colab": {
          "base_uri": "https://localhost:8080/"
        },
        "id": "2Ql-aS7vxoNp",
        "outputId": "99ad0068-a6e0-4ca7-8d29-42e1f5ef84aa"
      },
      "execution_count": 196,
      "outputs": [
        {
          "output_type": "execute_result",
          "data": {
            "text/plain": [
              "90.0"
            ]
          },
          "metadata": {},
          "execution_count": 196
        }
      ]
    },
    {
      "cell_type": "markdown",
      "source": [
        "Mediana da coluna suites"
      ],
      "metadata": {
        "id": "DvTEkWo2z01Q"
      }
    },
    {
      "cell_type": "code",
      "source": [
        "suites_median = int(data_summary.select('suites').collect()[5][0])\n",
        "suites_median"
      ],
      "metadata": {
        "colab": {
          "base_uri": "https://localhost:8080/"
        },
        "id": "DXwGvsWTxIQK",
        "outputId": "a17708ef-78f6-4705-bec8-96b1e4c1c043"
      },
      "execution_count": 197,
      "outputs": [
        {
          "output_type": "execute_result",
          "data": {
            "text/plain": [
              "1"
            ]
          },
          "metadata": {},
          "execution_count": 197
        }
      ]
    },
    {
      "cell_type": "markdown",
      "source": [
        "Mediana da coluna vaga"
      ],
      "metadata": {
        "id": "INQtgURR0G2g"
      }
    },
    {
      "cell_type": "code",
      "source": [
        "vaga_median = int(data_summary.select('vaga').collect()[5][0])\n",
        "vaga_median"
      ],
      "metadata": {
        "colab": {
          "base_uri": "https://localhost:8080/"
        },
        "id": "B3lZD14S0GEc",
        "outputId": "a2fbe7ee-988c-459c-ae0f-561962e34690"
      },
      "execution_count": 198,
      "outputs": [
        {
          "output_type": "execute_result",
          "data": {
            "text/plain": [
              "1"
            ]
          },
          "metadata": {},
          "execution_count": 198
        }
      ]
    },
    {
      "cell_type": "markdown",
      "source": [
        "Mediana da coluna condominio"
      ],
      "metadata": {
        "id": "Jy6YGb-a0uNf"
      }
    },
    {
      "cell_type": "code",
      "source": [
        "condominio_median = float(data_summary.select('condominio').collect()[5][0])\n",
        "condominio_median"
      ],
      "metadata": {
        "colab": {
          "base_uri": "https://localhost:8080/"
        },
        "id": "sWYh9LYa0teT",
        "outputId": "6e476217-7239-41d8-cfae-654255534126"
      },
      "execution_count": 199,
      "outputs": [
        {
          "output_type": "execute_result",
          "data": {
            "text/plain": [
              "894.0"
            ]
          },
          "metadata": {},
          "execution_count": 199
        }
      ]
    },
    {
      "cell_type": "markdown",
      "source": [
        "Mediana da coluna iptu"
      ],
      "metadata": {
        "id": "E_1vUwAD1i6g"
      }
    },
    {
      "cell_type": "code",
      "source": [
        "iptu_median = float(data_summary.select('iptu').collect()[5][0])\n",
        "iptu_median"
      ],
      "metadata": {
        "colab": {
          "base_uri": "https://localhost:8080/"
        },
        "id": "NspSRSvV1fqr",
        "outputId": "5bdaa708-3fd4-45ef-bfe3-d90e064088b2"
      },
      "execution_count": 200,
      "outputs": [
        {
          "output_type": "execute_result",
          "data": {
            "text/plain": [
              "360.0"
            ]
          },
          "metadata": {},
          "execution_count": 200
        }
      ]
    },
    {
      "cell_type": "markdown",
      "source": [
        "## Substituição dos valores nulos pelas medianas das respectivas colunas"
      ],
      "metadata": {
        "id": "jpDvfexE39IN"
      }
    },
    {
      "cell_type": "code",
      "source": [
        "# para coluna area_total:\n",
        "\n",
        "data = data.na.fill(value= area_total_median, subset= ['area_total'])"
      ],
      "metadata": {
        "id": "Zelq3H-61rLO"
      },
      "execution_count": 201,
      "outputs": []
    },
    {
      "cell_type": "code",
      "source": [
        "# para coluna suites:\n",
        "\n",
        "data = data.na.fill(value= suites_median, subset= ['suites'])"
      ],
      "metadata": {
        "id": "0GPWH5rh6PAr"
      },
      "execution_count": 202,
      "outputs": []
    },
    {
      "cell_type": "code",
      "source": [
        "# para coluna vaga:\n",
        "\n",
        "data = data.na.fill(value= vaga_median, subset= ['vaga'])"
      ],
      "metadata": {
        "id": "GIm-8MF06Yr1"
      },
      "execution_count": 203,
      "outputs": []
    },
    {
      "cell_type": "code",
      "source": [
        "# para coluna condominio:\n",
        "\n",
        "data = data.na.fill(value= condominio_median, subset= ['condominio'])"
      ],
      "metadata": {
        "id": "n6T5-xkB6YZZ"
      },
      "execution_count": 204,
      "outputs": []
    },
    {
      "cell_type": "code",
      "source": [
        "# para coluna iptu:\n",
        "\n",
        "data = data.na.fill(value= iptu_median, subset= ['iptu'])"
      ],
      "metadata": {
        "id": "FG4u7qwz6n4k"
      },
      "execution_count": 205,
      "outputs": []
    },
    {
      "cell_type": "code",
      "source": [
        "data.select([count(when(isnan(c) | col(c).isNull(), c)).alias(c) for c in selected_data.columns]).show()"
      ],
      "metadata": {
        "colab": {
          "base_uri": "https://localhost:8080/"
        },
        "id": "AjRfwTYa4QLM",
        "outputId": "08210d5d-a677-4cf0-add8-f23fe96803ca"
      },
      "execution_count": 206,
      "outputs": [
        {
          "output_type": "stream",
          "name": "stdout",
          "text": [
            "+---+-----+----------+---------+---------+-------+------+----+------+----+----------+----+-----+\n",
            "| id|andar|area_total|area_util|banheiros|quartos|suites|vaga|bairro|zona|condominio|iptu|valor|\n",
            "+---+-----+----------+---------+---------+-------+------+----+------+----+----------+----+-----+\n",
            "|  0|    0|         0|        0|        0|      0|     0|   0|     0|   0|         0|   0|    0|\n",
            "+---+-----+----------+---------+---------+-------+------+----+------+----+----------+----+-----+\n",
            "\n"
          ]
        }
      ]
    },
    {
      "cell_type": "code",
      "source": [
        "# todos os valores nulos foram substituídos pela mediana das respectivas colunas"
      ],
      "metadata": {
        "id": "HMcGu4LK4b9Y"
      },
      "execution_count": 207,
      "outputs": []
    },
    {
      "cell_type": "code",
      "source": [
        "data.show(10)"
      ],
      "metadata": {
        "colab": {
          "base_uri": "https://localhost:8080/"
        },
        "id": "axP7Pu7Q66a2",
        "outputId": "0802b6ba-13a9-48c6-db73-c14c7d0493a0"
      },
      "execution_count": 208,
      "outputs": [
        {
          "output_type": "stream",
          "name": "stdout",
          "text": [
            "+--------------------+-----+----------+---------+---------+--------------------+-------+------+----+--------------------+------------+----------+------+--------+\n",
            "|                  id|andar|area_total|area_util|banheiros|     caracteristicas|quartos|suites|vaga|              bairro|        zona|condominio|  iptu|   valor|\n",
            "+--------------------+-----+----------+---------+---------+--------------------+-------+------+----+--------------------+------------+----------+------+--------+\n",
            "|03a386b6-7ab8-4ef...|    0|      43.0|     43.0|        1|[Churrasqueira, A...|      2|     1|   1|            Realengo|  Zona Oeste|     285.0| 360.0| 22999.0|\n",
            "|1fe78d41-b8e0-4d2...|    0|      44.0|     44.0|        1|                null|      2|     0|   0|               Irajá|  Zona Norte|     170.0|   0.0|110000.0|\n",
            "|1fa1c1e5-e98c-433...|    4|      90.0|     55.0|        1|                null|      2|     0|   1|              Cosmos|  Zona Oeste|     894.0| 360.0|115000.0|\n",
            "|a6ab01ae-3d40-40e...|    2|      90.0|     55.0|        1|                null|      2|     0|   0|        Tomás Coelho|  Zona Norte|     894.0| 360.0|115000.0|\n",
            "|1d8ff7a2-16bd-4e3...|    0|      90.0|     50.0|        1|                null|      1|     1|   0|              Centro|Zona Central|    1300.0|2679.0|125000.0|\n",
            "|40a2cbde-946b-42d...|    2|      47.0|     47.0|        1|[Condomínio fecha...|      2|     0|   1|        Campo Grande|  Zona Oeste|     380.0| 360.0|138000.0|\n",
            "|be269ddf-a4a3-4a7...|    0|   17089.0|     45.0|        1|[Churrasqueira, C...|      2|     0|   1|        Campo Grande|  Zona Oeste|     356.0|   0.0|140000.0|\n",
            "|4b7e3d59-34fd-4ba...|    3|      48.0|     48.0|        1|[Churrasqueira, P...|      2|     1|   1|        Campo Grande|  Zona Oeste|       0.0|   0.0|150000.0|\n",
            "|a1a0c2ac-4fa8-4b0...|    9|      90.0|     55.0|        1|[Churrasqueira, E...|      2|     1|   1|Freguesia (Jacare...|  Zona Oeste|     780.0| 660.0|160000.0|\n",
            "|390d2b88-e06d-47e...|    0|      70.0|     70.0|        2|   [Salão de festas]|      2|     0|   1|          Praça Seca|  Zona Oeste|  420000.0| 360.0|159000.0|\n",
            "+--------------------+-----+----------+---------+---------+--------------------+-------+------+----+--------------------+------------+----------+------+--------+\n",
            "only showing top 10 rows\n",
            "\n"
          ]
        }
      ]
    },
    {
      "cell_type": "markdown",
      "source": [
        "# Preparação dos dados para machine learning"
      ],
      "metadata": {
        "id": "yTzZN4gBge-N"
      }
    },
    {
      "cell_type": "markdown",
      "source": [
        "## Coluna caracteristica"
      ],
      "metadata": {
        "id": "Ds7GIB3Dhdfq"
      }
    },
    {
      "cell_type": "code",
      "source": [
        "# os dados presentes nos arrays da coluna são:\n",
        "\n",
        "caracteristicas = data.select(explode('caracteristicas').alias('caracteristicas')).distinct()\n",
        "caracteristicas.show()"
      ],
      "metadata": {
        "colab": {
          "base_uri": "https://localhost:8080/"
        },
        "id": "KNKVOzff67_2",
        "outputId": "863ffe54-8e71-425f-fb36-6d2b90036e31"
      },
      "execution_count": 209,
      "outputs": [
        {
          "output_type": "stream",
          "name": "stdout",
          "text": [
            "+------------------+\n",
            "|   caracteristicas|\n",
            "+------------------+\n",
            "|Condomínio fechado|\n",
            "|        Playground|\n",
            "| Portão eletrônico|\n",
            "|           Piscina|\n",
            "|Animais permitidos|\n",
            "|      Portaria 24h|\n",
            "|          Elevador|\n",
            "|          Academia|\n",
            "|   Salão de festas|\n",
            "|     Churrasqueira|\n",
            "+------------------+\n",
            "\n"
          ]
        }
      ]
    },
    {
      "cell_type": "code",
      "source": [
        "list_caracteristicas = [\n",
        "    'Condomínio fechado', 'Playground', 'Portão eletrônico',\n",
        "    'Piscina', 'Animais permitidos', 'Portaria 24h', 'Elevador',\n",
        "    'Academia', 'Salão de festas', 'Churrasqueira'\n",
        "]"
      ],
      "metadata": {
        "id": "D4Du1xivW9Iw"
      },
      "execution_count": 210,
      "outputs": []
    },
    {
      "cell_type": "code",
      "source": [
        "# geram-se novas colunas com cada característica onde 1 indica a presença da característica e 0 a sua ausência:"
      ],
      "metadata": {
        "id": "5y22KFCviG3K"
      },
      "execution_count": 211,
      "outputs": []
    },
    {
      "cell_type": "code",
      "source": [
        "for caracteristica in list_caracteristicas:\n",
        "  data = data.withColumn(caracteristica, when(array_contains(col('caracteristicas'), caracteristica) == True, lit(1)).otherwise(0))"
      ],
      "metadata": {
        "id": "4QRenOY-aO8T"
      },
      "execution_count": 212,
      "outputs": []
    },
    {
      "cell_type": "code",
      "source": [
        "data.show(5)"
      ],
      "metadata": {
        "colab": {
          "base_uri": "https://localhost:8080/"
        },
        "id": "pAmJu8d-cmtt",
        "outputId": "91f65130-f5c8-40f8-a06d-52a5374a190d"
      },
      "execution_count": 213,
      "outputs": [
        {
          "output_type": "stream",
          "name": "stdout",
          "text": [
            "+--------------------+-----+----------+---------+---------+--------------------+-------+------+----+------------+------------+----------+------+--------+------------------+----------+-----------------+-------+------------------+------------+--------+--------+---------------+-------------+\n",
            "|                  id|andar|area_total|area_util|banheiros|     caracteristicas|quartos|suites|vaga|      bairro|        zona|condominio|  iptu|   valor|Condomínio fechado|Playground|Portão eletrônico|Piscina|Animais permitidos|Portaria 24h|Elevador|Academia|Salão de festas|Churrasqueira|\n",
            "+--------------------+-----+----------+---------+---------+--------------------+-------+------+----+------------+------------+----------+------+--------+------------------+----------+-----------------+-------+------------------+------------+--------+--------+---------------+-------------+\n",
            "|03a386b6-7ab8-4ef...|    0|      43.0|     43.0|        1|[Churrasqueira, A...|      2|     1|   1|    Realengo|  Zona Oeste|     285.0| 360.0| 22999.0|                 1|         1|                1|      0|                 1|           1|       0|       1|              1|            1|\n",
            "|1fe78d41-b8e0-4d2...|    0|      44.0|     44.0|        1|                null|      2|     0|   0|       Irajá|  Zona Norte|     170.0|   0.0|110000.0|                 0|         0|                0|      0|                 0|           0|       0|       0|              0|            0|\n",
            "|1fa1c1e5-e98c-433...|    4|      90.0|     55.0|        1|                null|      2|     0|   1|      Cosmos|  Zona Oeste|     894.0| 360.0|115000.0|                 0|         0|                0|      0|                 0|           0|       0|       0|              0|            0|\n",
            "|a6ab01ae-3d40-40e...|    2|      90.0|     55.0|        1|                null|      2|     0|   0|Tomás Coelho|  Zona Norte|     894.0| 360.0|115000.0|                 0|         0|                0|      0|                 0|           0|       0|       0|              0|            0|\n",
            "|1d8ff7a2-16bd-4e3...|    0|      90.0|     50.0|        1|                null|      1|     1|   0|      Centro|Zona Central|    1300.0|2679.0|125000.0|                 0|         0|                0|      0|                 0|           0|       0|       0|              0|            0|\n",
            "+--------------------+-----+----------+---------+---------+--------------------+-------+------+----+------------+------------+----------+------+--------+------------------+----------+-----------------+-------+------------------+------------+--------+--------+---------------+-------------+\n",
            "only showing top 5 rows\n",
            "\n"
          ]
        }
      ]
    },
    {
      "cell_type": "markdown",
      "source": [
        "# Coluna bairro"
      ],
      "metadata": {
        "id": "yZC9LpfipW5h"
      }
    },
    {
      "cell_type": "code",
      "source": [
        "from pyspark.ml.feature import StringIndexer, OneHotEncoder"
      ],
      "metadata": {
        "id": "3ppo0Cq6pZkH"
      },
      "execution_count": 214,
      "outputs": []
    },
    {
      "cell_type": "code",
      "source": [
        "indexer = StringIndexer(inputCols= ['bairro', 'zona'], outputCols= ['bairroNumericIndex', 'zonaNumericIndex'])"
      ],
      "metadata": {
        "id": "P9j9V1x0pht1"
      },
      "execution_count": 215,
      "outputs": []
    },
    {
      "cell_type": "code",
      "source": [
        "data = indexer.fit(data).transform(data)"
      ],
      "metadata": {
        "id": "iJHq9hF707ni"
      },
      "execution_count": 216,
      "outputs": []
    },
    {
      "cell_type": "code",
      "source": [
        "ohe = OneHotEncoder(inputCols= ['bairroNumericIndex', 'zonaNumericIndex'], outputCols= ['bairroOHEVector', 'zonaOHEVector'])"
      ],
      "metadata": {
        "id": "gC5vDuZq1J7m"
      },
      "execution_count": 217,
      "outputs": []
    },
    {
      "cell_type": "code",
      "source": [
        "ohe.fit(data).transform(data)"
      ],
      "metadata": {
        "colab": {
          "base_uri": "https://localhost:8080/",
          "height": 311
        },
        "id": "KgRKF_Gr1gG0",
        "outputId": "ceb16ee3-ff7c-46a1-e713-643a0e0c33a1"
      },
      "execution_count": 218,
      "outputs": [
        {
          "output_type": "error",
          "ename": "IllegalArgumentException",
          "evalue": "ignored",
          "traceback": [
            "\u001b[0;31m---------------------------------------------------------------------------\u001b[0m",
            "\u001b[0;31mIllegalArgumentException\u001b[0m                  Traceback (most recent call last)",
            "\u001b[0;32m<ipython-input-218-1ec3b8bb7d48>\u001b[0m in \u001b[0;36m<module>\u001b[0;34m\u001b[0m\n\u001b[0;32m----> 1\u001b[0;31m \u001b[0mohe\u001b[0m\u001b[0;34m.\u001b[0m\u001b[0mfit\u001b[0m\u001b[0;34m(\u001b[0m\u001b[0mdata\u001b[0m\u001b[0;34m)\u001b[0m\u001b[0;34m.\u001b[0m\u001b[0mtransform\u001b[0m\u001b[0;34m(\u001b[0m\u001b[0mdata\u001b[0m\u001b[0;34m)\u001b[0m\u001b[0;34m\u001b[0m\u001b[0;34m\u001b[0m\u001b[0m\n\u001b[0m",
            "\u001b[0;32m/content/spark-3.1.2-bin-hadoop2.7/python/pyspark/ml/base.py\u001b[0m in \u001b[0;36mfit\u001b[0;34m(self, dataset, params)\u001b[0m\n\u001b[1;32m    159\u001b[0m                 \u001b[0;32mreturn\u001b[0m \u001b[0mself\u001b[0m\u001b[0;34m.\u001b[0m\u001b[0mcopy\u001b[0m\u001b[0;34m(\u001b[0m\u001b[0mparams\u001b[0m\u001b[0;34m)\u001b[0m\u001b[0;34m.\u001b[0m\u001b[0m_fit\u001b[0m\u001b[0;34m(\u001b[0m\u001b[0mdataset\u001b[0m\u001b[0;34m)\u001b[0m\u001b[0;34m\u001b[0m\u001b[0;34m\u001b[0m\u001b[0m\n\u001b[1;32m    160\u001b[0m             \u001b[0;32melse\u001b[0m\u001b[0;34m:\u001b[0m\u001b[0;34m\u001b[0m\u001b[0;34m\u001b[0m\u001b[0m\n\u001b[0;32m--> 161\u001b[0;31m                 \u001b[0;32mreturn\u001b[0m \u001b[0mself\u001b[0m\u001b[0;34m.\u001b[0m\u001b[0m_fit\u001b[0m\u001b[0;34m(\u001b[0m\u001b[0mdataset\u001b[0m\u001b[0;34m)\u001b[0m\u001b[0;34m\u001b[0m\u001b[0;34m\u001b[0m\u001b[0m\n\u001b[0m\u001b[1;32m    162\u001b[0m         \u001b[0;32melse\u001b[0m\u001b[0;34m:\u001b[0m\u001b[0;34m\u001b[0m\u001b[0;34m\u001b[0m\u001b[0m\n\u001b[1;32m    163\u001b[0m             raise ValueError(\"Params must be either a param map or a list/tuple of param maps, \"\n",
            "\u001b[0;32m/content/spark-3.1.2-bin-hadoop2.7/python/pyspark/ml/wrapper.py\u001b[0m in \u001b[0;36m_fit\u001b[0;34m(self, dataset)\u001b[0m\n\u001b[1;32m    333\u001b[0m \u001b[0;34m\u001b[0m\u001b[0m\n\u001b[1;32m    334\u001b[0m     \u001b[0;32mdef\u001b[0m \u001b[0m_fit\u001b[0m\u001b[0;34m(\u001b[0m\u001b[0mself\u001b[0m\u001b[0;34m,\u001b[0m \u001b[0mdataset\u001b[0m\u001b[0;34m)\u001b[0m\u001b[0;34m:\u001b[0m\u001b[0;34m\u001b[0m\u001b[0;34m\u001b[0m\u001b[0m\n\u001b[0;32m--> 335\u001b[0;31m         \u001b[0mjava_model\u001b[0m \u001b[0;34m=\u001b[0m \u001b[0mself\u001b[0m\u001b[0;34m.\u001b[0m\u001b[0m_fit_java\u001b[0m\u001b[0;34m(\u001b[0m\u001b[0mdataset\u001b[0m\u001b[0;34m)\u001b[0m\u001b[0;34m\u001b[0m\u001b[0;34m\u001b[0m\u001b[0m\n\u001b[0m\u001b[1;32m    336\u001b[0m         \u001b[0mmodel\u001b[0m \u001b[0;34m=\u001b[0m \u001b[0mself\u001b[0m\u001b[0;34m.\u001b[0m\u001b[0m_create_model\u001b[0m\u001b[0;34m(\u001b[0m\u001b[0mjava_model\u001b[0m\u001b[0;34m)\u001b[0m\u001b[0;34m\u001b[0m\u001b[0;34m\u001b[0m\u001b[0m\n\u001b[1;32m    337\u001b[0m         \u001b[0;32mreturn\u001b[0m \u001b[0mself\u001b[0m\u001b[0;34m.\u001b[0m\u001b[0m_copyValues\u001b[0m\u001b[0;34m(\u001b[0m\u001b[0mmodel\u001b[0m\u001b[0;34m)\u001b[0m\u001b[0;34m\u001b[0m\u001b[0;34m\u001b[0m\u001b[0m\n",
            "\u001b[0;32m/content/spark-3.1.2-bin-hadoop2.7/python/pyspark/ml/wrapper.py\u001b[0m in \u001b[0;36m_fit_java\u001b[0;34m(self, dataset)\u001b[0m\n\u001b[1;32m    330\u001b[0m         \"\"\"\n\u001b[1;32m    331\u001b[0m         \u001b[0mself\u001b[0m\u001b[0;34m.\u001b[0m\u001b[0m_transfer_params_to_java\u001b[0m\u001b[0;34m(\u001b[0m\u001b[0;34m)\u001b[0m\u001b[0;34m\u001b[0m\u001b[0;34m\u001b[0m\u001b[0m\n\u001b[0;32m--> 332\u001b[0;31m         \u001b[0;32mreturn\u001b[0m \u001b[0mself\u001b[0m\u001b[0;34m.\u001b[0m\u001b[0m_java_obj\u001b[0m\u001b[0;34m.\u001b[0m\u001b[0mfit\u001b[0m\u001b[0;34m(\u001b[0m\u001b[0mdataset\u001b[0m\u001b[0;34m.\u001b[0m\u001b[0m_jdf\u001b[0m\u001b[0;34m)\u001b[0m\u001b[0;34m\u001b[0m\u001b[0;34m\u001b[0m\u001b[0m\n\u001b[0m\u001b[1;32m    333\u001b[0m \u001b[0;34m\u001b[0m\u001b[0m\n\u001b[1;32m    334\u001b[0m     \u001b[0;32mdef\u001b[0m \u001b[0m_fit\u001b[0m\u001b[0;34m(\u001b[0m\u001b[0mself\u001b[0m\u001b[0;34m,\u001b[0m \u001b[0mdataset\u001b[0m\u001b[0;34m)\u001b[0m\u001b[0;34m:\u001b[0m\u001b[0;34m\u001b[0m\u001b[0;34m\u001b[0m\u001b[0m\n",
            "\u001b[0;32m/content/spark-3.1.2-bin-hadoop2.7/python/lib/py4j-0.10.9-src.zip/py4j/java_gateway.py\u001b[0m in \u001b[0;36m__call__\u001b[0;34m(self, *args)\u001b[0m\n\u001b[1;32m   1302\u001b[0m \u001b[0;34m\u001b[0m\u001b[0m\n\u001b[1;32m   1303\u001b[0m         \u001b[0manswer\u001b[0m \u001b[0;34m=\u001b[0m \u001b[0mself\u001b[0m\u001b[0;34m.\u001b[0m\u001b[0mgateway_client\u001b[0m\u001b[0;34m.\u001b[0m\u001b[0msend_command\u001b[0m\u001b[0;34m(\u001b[0m\u001b[0mcommand\u001b[0m\u001b[0;34m)\u001b[0m\u001b[0;34m\u001b[0m\u001b[0;34m\u001b[0m\u001b[0m\n\u001b[0;32m-> 1304\u001b[0;31m         return_value = get_return_value(\n\u001b[0m\u001b[1;32m   1305\u001b[0m             answer, self.gateway_client, self.target_id, self.name)\n\u001b[1;32m   1306\u001b[0m \u001b[0;34m\u001b[0m\u001b[0m\n",
            "\u001b[0;32m/content/spark-3.1.2-bin-hadoop2.7/python/pyspark/sql/utils.py\u001b[0m in \u001b[0;36mdeco\u001b[0;34m(*a, **kw)\u001b[0m\n\u001b[1;32m    115\u001b[0m                 \u001b[0;31m# Hide where the exception came from that shows a non-Pythonic\u001b[0m\u001b[0;34m\u001b[0m\u001b[0;34m\u001b[0m\u001b[0;34m\u001b[0m\u001b[0m\n\u001b[1;32m    116\u001b[0m                 \u001b[0;31m# JVM exception message.\u001b[0m\u001b[0;34m\u001b[0m\u001b[0;34m\u001b[0m\u001b[0;34m\u001b[0m\u001b[0m\n\u001b[0;32m--> 117\u001b[0;31m                 \u001b[0;32mraise\u001b[0m \u001b[0mconverted\u001b[0m \u001b[0;32mfrom\u001b[0m \u001b[0;32mNone\u001b[0m\u001b[0;34m\u001b[0m\u001b[0;34m\u001b[0m\u001b[0m\n\u001b[0m\u001b[1;32m    118\u001b[0m             \u001b[0;32melse\u001b[0m\u001b[0;34m:\u001b[0m\u001b[0;34m\u001b[0m\u001b[0;34m\u001b[0m\u001b[0m\n\u001b[1;32m    119\u001b[0m                 \u001b[0;32mraise\u001b[0m\u001b[0;34m\u001b[0m\u001b[0;34m\u001b[0m\u001b[0m\n",
            "\u001b[0;31mIllegalArgumentException\u001b[0m: requirement failed: Cannot have an empty string for name."
          ]
        }
      ]
    },
    {
      "cell_type": "code",
      "source": [],
      "metadata": {
        "id": "aIM2lZ6y1t00"
      },
      "execution_count": null,
      "outputs": []
    }
  ]
}